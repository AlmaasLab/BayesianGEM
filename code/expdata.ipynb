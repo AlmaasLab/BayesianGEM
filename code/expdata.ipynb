{
 "cells": [
  {
   "cell_type": "code",
   "execution_count": 1,
   "metadata": {},
   "outputs": [],
   "source": [
    "import numpy as np\n",
    "import pandas as pd\n",
    "import matplotlib.pyplot as plt\n",
    "from scipy.stats import ttest_ind"
   ]
  },
  {
   "cell_type": "code",
   "execution_count": 71,
   "metadata": {},
   "outputs": [],
   "source": [
    "def do_plot(df,first_ind,ylim,ylabel='OD600',figsize=(5,2.2),outname=None):\n",
    "    plt.figure(figsize=figsize)\n",
    "\n",
    "    scs = [col for col in df.columns if 'sc' in col]\n",
    "    kms = [col for col in df.columns if 'km' in col]\n",
    "\n",
    "    pos = 0\n",
    "    tick_pos = []\n",
    "    for g in df.index:\n",
    "        x = np.array([pos]*5)\n",
    "        if g == first_ind: label = 'WT'\n",
    "        else: label = None\n",
    "\n",
    "        plt.bar(pos,np.mean(df.loc[g,scs]),color='#1f77b4',label=label,zorder=0)\n",
    "        plt.scatter(x+np.random.normal(0,0.1,5),df.loc[g,scs],color='k',zorder=1,s=3)\n",
    "\n",
    "        if g == first_ind: label = 'kmERG1'\n",
    "        else: label = None\n",
    "\n",
    "        plt.bar(pos+1,np.mean(df.loc[g,kms]),color='#ff7f0e',label=label,zorder=0)\n",
    "        plt.scatter(x+1+np.random.normal(0,0.1,5),df.loc[g,kms],color='k',zorder=1,s=3)\n",
    "\n",
    "        pval = ttest_ind(df.loc[g,scs],df.loc[g,kms])[1]\n",
    "        print(pval)\n",
    "        if pval<0.001: pval='$p$<0.001'\n",
    "        else: pval = '$p$={0:.3f}'.format(pval)\n",
    "        #print(pval)\n",
    "        plt.text(pos+0.5,np.max(df.loc[g,:])+(ylim[1]-ylim[0])/50,pval,ha='center',va='bottom',fontsize=8)\n",
    "        tick_pos.append(pos+0.5)\n",
    "        pos += 3\n",
    "\n",
    "    plt.xticks(tick_pos,df.index)\n",
    "    plt.ylim(ylim)\n",
    "    plt.legend(loc='upper right')\n",
    "    plt.ylabel(ylabel)\n",
    "    plt.tight_layout()\n",
    "    if outname is not None: plt.savefig(outname)\n",
    "    plt.show()"
   ]
  },
  {
   "cell_type": "markdown",
   "metadata": {},
   "source": [
    "#### 42 C"
   ]
  },
  {
   "cell_type": "code",
   "execution_count": 66,
   "metadata": {},
   "outputs": [
    {
     "data": {
      "text/html": [
       "<div>\n",
       "<style scoped>\n",
       "    .dataframe tbody tr th:only-of-type {\n",
       "        vertical-align: middle;\n",
       "    }\n",
       "\n",
       "    .dataframe tbody tr th {\n",
       "        vertical-align: top;\n",
       "    }\n",
       "\n",
       "    .dataframe thead th {\n",
       "        text-align: right;\n",
       "    }\n",
       "</style>\n",
       "<table border=\"1\" class=\"dataframe\">\n",
       "  <thead>\n",
       "    <tr style=\"text-align: right;\">\n",
       "      <th></th>\n",
       "      <th>sc_1</th>\n",
       "      <th>sc_2</th>\n",
       "      <th>sc_3</th>\n",
       "      <th>sc_4</th>\n",
       "      <th>sc_5</th>\n",
       "      <th>km_1</th>\n",
       "      <th>km_2</th>\n",
       "      <th>km_3</th>\n",
       "      <th>km_4</th>\n",
       "      <th>km_5</th>\n",
       "    </tr>\n",
       "  </thead>\n",
       "  <tbody>\n",
       "    <tr>\n",
       "      <th>G1</th>\n",
       "      <td>1.400</td>\n",
       "      <td>0.98</td>\n",
       "      <td>1.500</td>\n",
       "      <td>1.300</td>\n",
       "      <td>0.960</td>\n",
       "      <td>2.120</td>\n",
       "      <td>1.170</td>\n",
       "      <td>1.010</td>\n",
       "      <td>1.740</td>\n",
       "      <td>1.460</td>\n",
       "    </tr>\n",
       "    <tr>\n",
       "      <th>G2</th>\n",
       "      <td>0.256</td>\n",
       "      <td>0.24</td>\n",
       "      <td>0.201</td>\n",
       "      <td>0.178</td>\n",
       "      <td>0.223</td>\n",
       "      <td>0.246</td>\n",
       "      <td>0.238</td>\n",
       "      <td>0.224</td>\n",
       "      <td>0.216</td>\n",
       "      <td>0.231</td>\n",
       "    </tr>\n",
       "  </tbody>\n",
       "</table>\n",
       "</div>"
      ],
      "text/plain": [
       "     sc_1  sc_2   sc_3   sc_4   sc_5   km_1   km_2   km_3   km_4   km_5\n",
       "G1  1.400  0.98  1.500  1.300  0.960  2.120  1.170  1.010  1.740  1.460\n",
       "G2  0.256  0.24  0.201  0.178  0.223  0.246  0.238  0.224  0.216  0.231"
      ]
     },
     "execution_count": 66,
     "metadata": {},
     "output_type": "execute_result"
    }
   ],
   "source": [
    "data = {\n",
    "    'sc_1': [1.40,0.256],\n",
    "    'sc_2': [0.98,0.240],\n",
    "    'sc_3': [1.50,0.201],\n",
    "    'sc_4': [1.30,0.178],\n",
    "    'sc_5': [0.96,0.223],\n",
    "    'km_1': [2.12,0.246],\n",
    "    'km_2': [1.17,0.238],\n",
    "    'km_3': [1.01,0.224],\n",
    "    'km_4': [1.74,0.216],\n",
    "    'km_5': [1.46,0.231]\n",
    "}\n",
    "df_YPD42 = pd.DataFrame(data=data,index=['G{0}'.format(i+1) for i in range(len(data['sc_1']))])\n",
    "df_YPD42"
   ]
  },
  {
   "cell_type": "code",
   "execution_count": 73,
   "metadata": {},
   "outputs": [
    {
     "name": "stdout",
     "output_type": "stream",
     "text": [
      "0.26599048255452884\n",
      "0.4630992924615711\n"
     ]
    },
    {
     "data": {
      "image/png": "[encoded data removed]",
      "text/plain": [
       "<Figure size 144x158.4 with 1 Axes>"
      ]
     },
     "metadata": {
      "needs_background": "light"
     },
     "output_type": "display_data"
    }
   ],
   "source": [
    "do_plot(df_YPD42,'G1',ylim=(0,5),figsize=(2,2.2),\n",
    "       outname='../figures/exp_42_generations.pdf')"
   ]
  },
  {
   "cell_type": "markdown",
   "metadata": {},
   "source": [
    "#### 40 C"
   ]
  },
  {
   "cell_type": "code",
   "execution_count": 63,
   "metadata": {},
   "outputs": [
    {
     "data": {
      "text/html": [
       "<div>\n",
       "<style scoped>\n",
       "    .dataframe tbody tr th:only-of-type {\n",
       "        vertical-align: middle;\n",
       "    }\n",
       "\n",
       "    .dataframe tbody tr th {\n",
       "        vertical-align: top;\n",
       "    }\n",
       "\n",
       "    .dataframe thead th {\n",
       "        text-align: right;\n",
       "    }\n",
       "</style>\n",
       "<table border=\"1\" class=\"dataframe\">\n",
       "  <thead>\n",
       "    <tr style=\"text-align: right;\">\n",
       "      <th></th>\n",
       "      <th>sc_1</th>\n",
       "      <th>sc_2</th>\n",
       "      <th>sc_3</th>\n",
       "      <th>sc_4</th>\n",
       "      <th>sc_5</th>\n",
       "      <th>km_1</th>\n",
       "      <th>km_2</th>\n",
       "      <th>km_3</th>\n",
       "      <th>km_4</th>\n",
       "      <th>km_5</th>\n",
       "    </tr>\n",
       "  </thead>\n",
       "  <tbody>\n",
       "    <tr>\n",
       "      <th>G1</th>\n",
       "      <td>3.53</td>\n",
       "      <td>3.67</td>\n",
       "      <td>3.57</td>\n",
       "      <td>3.78</td>\n",
       "      <td>3.62</td>\n",
       "      <td>3.69</td>\n",
       "      <td>3.35</td>\n",
       "      <td>3.97</td>\n",
       "      <td>3.83</td>\n",
       "      <td>3.81</td>\n",
       "    </tr>\n",
       "    <tr>\n",
       "      <th>G2</th>\n",
       "      <td>2.17</td>\n",
       "      <td>1.87</td>\n",
       "      <td>1.56</td>\n",
       "      <td>1.80</td>\n",
       "      <td>1.43</td>\n",
       "      <td>1.12</td>\n",
       "      <td>1.40</td>\n",
       "      <td>1.57</td>\n",
       "      <td>1.38</td>\n",
       "      <td>1.09</td>\n",
       "    </tr>\n",
       "    <tr>\n",
       "      <th>G3</th>\n",
       "      <td>1.04</td>\n",
       "      <td>1.09</td>\n",
       "      <td>0.73</td>\n",
       "      <td>1.03</td>\n",
       "      <td>1.16</td>\n",
       "      <td>2.05</td>\n",
       "      <td>1.99</td>\n",
       "      <td>1.96</td>\n",
       "      <td>2.20</td>\n",
       "      <td>2.01</td>\n",
       "    </tr>\n",
       "    <tr>\n",
       "      <th>G4</th>\n",
       "      <td>1.54</td>\n",
       "      <td>1.44</td>\n",
       "      <td>0.90</td>\n",
       "      <td>1.60</td>\n",
       "      <td>1.46</td>\n",
       "      <td>2.01</td>\n",
       "      <td>2.11</td>\n",
       "      <td>2.17</td>\n",
       "      <td>2.43</td>\n",
       "      <td>2.44</td>\n",
       "    </tr>\n",
       "    <tr>\n",
       "      <th>G5</th>\n",
       "      <td>1.53</td>\n",
       "      <td>1.44</td>\n",
       "      <td>1.10</td>\n",
       "      <td>1.46</td>\n",
       "      <td>1.76</td>\n",
       "      <td>2.04</td>\n",
       "      <td>1.80</td>\n",
       "      <td>2.25</td>\n",
       "      <td>1.95</td>\n",
       "      <td>1.75</td>\n",
       "    </tr>\n",
       "    <tr>\n",
       "      <th>G6</th>\n",
       "      <td>2.01</td>\n",
       "      <td>1.65</td>\n",
       "      <td>1.78</td>\n",
       "      <td>1.78</td>\n",
       "      <td>1.92</td>\n",
       "      <td>2.15</td>\n",
       "      <td>2.40</td>\n",
       "      <td>2.46</td>\n",
       "      <td>2.00</td>\n",
       "      <td>2.15</td>\n",
       "    </tr>\n",
       "  </tbody>\n",
       "</table>\n",
       "</div>"
      ],
      "text/plain": [
       "    sc_1  sc_2  sc_3  sc_4  sc_5  km_1  km_2  km_3  km_4  km_5\n",
       "G1  3.53  3.67  3.57  3.78  3.62  3.69  3.35  3.97  3.83  3.81\n",
       "G2  2.17  1.87  1.56  1.80  1.43  1.12  1.40  1.57  1.38  1.09\n",
       "G3  1.04  1.09  0.73  1.03  1.16  2.05  1.99  1.96  2.20  2.01\n",
       "G4  1.54  1.44  0.90  1.60  1.46  2.01  2.11  2.17  2.43  2.44\n",
       "G5  1.53  1.44  1.10  1.46  1.76  2.04  1.80  2.25  1.95  1.75\n",
       "G6  2.01  1.65  1.78  1.78  1.92  2.15  2.40  2.46  2.00  2.15"
      ]
     },
     "execution_count": 63,
     "metadata": {},
     "output_type": "execute_result"
    }
   ],
   "source": [
    "data = {\n",
    "    'sc_1': [3.53,2.17,1.04,1.54,1.53,2.01],\n",
    "    'sc_2': [3.67,1.87,1.09,1.44,1.44,1.65],\n",
    "    'sc_3': [3.57,1.56,0.73,0.90,1.10,1.78],\n",
    "    'sc_4': [3.78,1.80,1.03,1.60,1.46,1.78],\n",
    "    'sc_5': [3.62,1.43,1.16,1.46,1.76,1.92],\n",
    "    'km_1': [3.69,1.12,2.05,2.01,2.04,2.15],\n",
    "    'km_2': [3.35,1.40,1.99,2.11,1.80,2.40],\n",
    "    'km_3': [3.97,1.57,1.96,2.17,2.25,2.46],\n",
    "    'km_4': [3.83,1.38,2.20,2.43,1.95,2.00],\n",
    "    'km_5': [3.81,1.09,2.01,2.44,1.75,2.15]\n",
    "}\n",
    "df_YPD = pd.DataFrame(data=data,index=['G{0}'.format(i+1) for i in range(len(data['sc_1']))])\n",
    "df_YPD"
   ]
  },
  {
   "cell_type": "code",
   "execution_count": 72,
   "metadata": {},
   "outputs": [
    {
     "name": "stdout",
     "output_type": "stream",
     "text": [
      "0.4222966650959096\n",
      "0.020383922129212376\n",
      "1.939298016449149e-06\n",
      "0.000548781890606994\n",
      "0.006951935362803424\n",
      "0.005192812014866184\n"
     ]
    },
    {
     "data": {
      "image/png": "[encoded data removed]",
      "text/plain": [
       "<Figure size 360x158.4 with 1 Axes>"
      ]
     },
     "metadata": {
      "needs_background": "light"
     },
     "output_type": "display_data"
    }
   ],
   "source": [
    "do_plot(df_YPD,'G1',(0,5),\n",
    "       outname='../figures/exp_40_generations.pdf')"
   ]
  },
  {
   "cell_type": "code",
   "execution_count": null,
   "metadata": {},
   "outputs": [],
   "source": []
  },
  {
   "cell_type": "code",
   "execution_count": null,
   "metadata": {},
   "outputs": [],
   "source": []
  }
 ],
 "metadata": {
  "kernelspec": {
   "display_name": "Python 3",
   "language": "python",
   "name": "python3"
  },
  "language_info": {
   "codemirror_mode": {
    "name": "ipython",
    "version": 3
   },
   "file_extension": ".py",
   "mimetype": "text/x-python",
   "name": "python",
   "nbconvert_exporter": "python",
   "pygments_lexer": "ipython3",
   "version": "3.6.7"
  }
 },
 "nbformat": 4,
 "nbformat_minor": 2
}
