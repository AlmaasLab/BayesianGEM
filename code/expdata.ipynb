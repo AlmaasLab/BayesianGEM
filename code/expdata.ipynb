{
 "cells": [
  {
   "cell_type": "code",
   "execution_count": 1,
   "metadata": {},
   "outputs": [],
   "source": [
    "import numpy as np\n",
    "import pandas as pd\n",
    "import matplotlib.pyplot as plt\n",
    "from scipy.stats import ttest_ind\n",
    "from matplotlib import rc"
   ]
  },
  {
   "cell_type": "markdown",
   "metadata": {},
   "source": [
    "rc('text', usetex=True)"
   ]
  },
  {
   "cell_type": "code",
   "execution_count": 9,
   "metadata": {},
   "outputs": [],
   "source": [
    "def do_plot(df,first_ind,ylim,ylabel='OD600',figsize=(5,2.2),outname=None):\n",
    "    plt.figure(figsize=figsize)\n",
    "\n",
    "    scs = [col for col in df.columns if 'sc' in col]\n",
    "    kms = [col for col in df.columns if 'km' in col]\n",
    "\n",
    "    pos = 0\n",
    "    tick_pos = []\n",
    "    for g in df.index:\n",
    "        x = np.array([pos]*5)\n",
    "        if g == first_ind: label = 'IMX581'\n",
    "        else: label = None\n",
    "\n",
    "        plt.bar(pos,np.mean(df.loc[g,scs]),color='#1f77b4',label=label,zorder=0)\n",
    "        \n",
    "        plt.scatter(x+np.random.normal(0,0.1,5),df.loc[g,scs],color='k',zorder=1,s=3)\n",
    "\n",
    "        if g == first_ind: label = r\"IMX581 $\\mathit{ScERG1}$$::$$\\mathit{kmERG1}$\"\n",
    "        else: label = None\n",
    "\n",
    "        plt.bar(pos+1,np.mean(df.loc[g,kms]),color='#ff7f0e',label=label,zorder=0)\n",
    "        \n",
    "        plt.scatter(x+1+np.random.normal(0,0.1,5),df.loc[g,kms],color='k',zorder=1,s=3)\n",
    "\n",
    "        pval = ttest_ind(df.loc[g,scs],df.loc[g,kms])[1]\n",
    "        print(pval)\n",
    "        if pval<0.001: pval='$p$<0.001'\n",
    "        else: pval = '$p$={0:.3f}'.format(pval)\n",
    "        #print(pval)\n",
    "        plt.text(pos+0.5,np.max(df.loc[g,:])+(ylim[1]-ylim[0])/50,pval,ha='center',va='bottom',fontsize=8)\n",
    "        tick_pos.append(pos+0.5)\n",
    "        pos += 3\n",
    "    \n",
    "    # add trendline\n",
    "    plt.plot(np.arange(0,3*df.shape[0],3)+0.5,np.mean(df.loc[:,scs],axis=1),'-',color='#1f77b4',zorder=1)\n",
    "    plt.plot(np.arange(0,3*df.shape[0],3)+0.5,np.mean(df.loc[:,kms],axis=1),'-',color='#ff7f0e',zorder=1)\n",
    "    \n",
    "    plt.xticks(tick_pos,df.index)\n",
    "    plt.ylim(ylim)\n",
    "    plt.legend(loc='upper right')\n",
    "    plt.ylabel(ylabel)\n",
    "    plt.tight_layout()\n",
    "    if outname is not None: plt.savefig(outname)\n",
    "    plt.show()"
   ]
  },
  {
   "cell_type": "code",
   "execution_count": null,
   "metadata": {},
   "outputs": [],
   "source": []
  },
  {
   "cell_type": "markdown",
   "metadata": {},
   "source": [
    "#### 42 C"
   ]
  },
  {
   "cell_type": "code",
   "execution_count": 10,
   "metadata": {},
   "outputs": [
    {
     "data": {
      "text/html": [
       "<div>\n",
       "<style scoped>\n",
       "    .dataframe tbody tr th:only-of-type {\n",
       "        vertical-align: middle;\n",
       "    }\n",
       "\n",
       "    .dataframe tbody tr th {\n",
       "        vertical-align: top;\n",
       "    }\n",
       "\n",
       "    .dataframe thead th {\n",
       "        text-align: right;\n",
       "    }\n",
       "</style>\n",
       "<table border=\"1\" class=\"dataframe\">\n",
       "  <thead>\n",
       "    <tr style=\"text-align: right;\">\n",
       "      <th></th>\n",
       "      <th>sc_1</th>\n",
       "      <th>sc_2</th>\n",
       "      <th>sc_3</th>\n",
       "      <th>sc_4</th>\n",
       "      <th>sc_5</th>\n",
       "      <th>km_1</th>\n",
       "      <th>km_2</th>\n",
       "      <th>km_3</th>\n",
       "      <th>km_4</th>\n",
       "      <th>km_5</th>\n",
       "    </tr>\n",
       "  </thead>\n",
       "  <tbody>\n",
       "    <tr>\n",
       "      <th>P1</th>\n",
       "      <td>1.400</td>\n",
       "      <td>0.98</td>\n",
       "      <td>1.500</td>\n",
       "      <td>1.300</td>\n",
       "      <td>0.960</td>\n",
       "      <td>2.120</td>\n",
       "      <td>1.170</td>\n",
       "      <td>1.010</td>\n",
       "      <td>1.740</td>\n",
       "      <td>1.460</td>\n",
       "    </tr>\n",
       "    <tr>\n",
       "      <th>P2</th>\n",
       "      <td>0.256</td>\n",
       "      <td>0.24</td>\n",
       "      <td>0.201</td>\n",
       "      <td>0.178</td>\n",
       "      <td>0.223</td>\n",
       "      <td>0.246</td>\n",
       "      <td>0.238</td>\n",
       "      <td>0.224</td>\n",
       "      <td>0.216</td>\n",
       "      <td>0.231</td>\n",
       "    </tr>\n",
       "  </tbody>\n",
       "</table>\n",
       "</div>"
      ],
      "text/plain": [
       "     sc_1  sc_2   sc_3   sc_4   sc_5   km_1   km_2   km_3   km_4   km_5\n",
       "P1  1.400  0.98  1.500  1.300  0.960  2.120  1.170  1.010  1.740  1.460\n",
       "P2  0.256  0.24  0.201  0.178  0.223  0.246  0.238  0.224  0.216  0.231"
      ]
     },
     "execution_count": 10,
     "metadata": {},
     "output_type": "execute_result"
    }
   ],
   "source": [
    "data = {\n",
    "    'sc_1': [1.40,0.256],\n",
    "    'sc_2': [0.98,0.240],\n",
    "    'sc_3': [1.50,0.201],\n",
    "    'sc_4': [1.30,0.178],\n",
    "    'sc_5': [0.96,0.223],\n",
    "    'km_1': [2.12,0.246],\n",
    "    'km_2': [1.17,0.238],\n",
    "    'km_3': [1.01,0.224],\n",
    "    'km_4': [1.74,0.216],\n",
    "    'km_5': [1.46,0.231]\n",
    "}\n",
    "df_YPD42 = pd.DataFrame(data=data,index=['P{0}'.format(i+1) for i in range(len(data['sc_1']))])\n",
    "df_YPD42"
   ]
  },
  {
   "cell_type": "code",
   "execution_count": 18,
   "metadata": {},
   "outputs": [],
   "source": [
    "df_YPD42.to_csv('../data/OD600_different_passages_42C.csv')"
   ]
  },
  {
   "cell_type": "code",
   "execution_count": 11,
   "metadata": {},
   "outputs": [
    {
     "name": "stdout",
     "output_type": "stream",
     "text": [
      "0.26599048255452884\n",
      "0.4630992924615711\n"
     ]
    },
    {
     "data": {
      "image/png": "[encoded data removed]",
      "text/plain": [
       "<Figure size 144x158.4 with 1 Axes>"
      ]
     },
     "metadata": {
      "needs_background": "light"
     },
     "output_type": "display_data"
    }
   ],
   "source": [
    "do_plot(df_YPD42,'P1',ylim=(0,5),figsize=(2,2.2),\n",
    "       outname='../figures/exp_42_generations.pdf')"
   ]
  },
  {
   "cell_type": "markdown",
   "metadata": {},
   "source": [
    "#### 40 C"
   ]
  },
  {
   "cell_type": "code",
   "execution_count": 12,
   "metadata": {},
   "outputs": [
    {
     "data": {
      "text/html": [
       "<div>\n",
       "<style scoped>\n",
       "    .dataframe tbody tr th:only-of-type {\n",
       "        vertical-align: middle;\n",
       "    }\n",
       "\n",
       "    .dataframe tbody tr th {\n",
       "        vertical-align: top;\n",
       "    }\n",
       "\n",
       "    .dataframe thead th {\n",
       "        text-align: right;\n",
       "    }\n",
       "</style>\n",
       "<table border=\"1\" class=\"dataframe\">\n",
       "  <thead>\n",
       "    <tr style=\"text-align: right;\">\n",
       "      <th></th>\n",
       "      <th>sc_1</th>\n",
       "      <th>sc_2</th>\n",
       "      <th>sc_3</th>\n",
       "      <th>sc_4</th>\n",
       "      <th>sc_5</th>\n",
       "      <th>km_1</th>\n",
       "      <th>km_2</th>\n",
       "      <th>km_3</th>\n",
       "      <th>km_4</th>\n",
       "      <th>km_5</th>\n",
       "    </tr>\n",
       "  </thead>\n",
       "  <tbody>\n",
       "    <tr>\n",
       "      <th>P1</th>\n",
       "      <td>3.53</td>\n",
       "      <td>3.67</td>\n",
       "      <td>3.57</td>\n",
       "      <td>3.78</td>\n",
       "      <td>3.62</td>\n",
       "      <td>3.69</td>\n",
       "      <td>3.35</td>\n",
       "      <td>3.97</td>\n",
       "      <td>3.83</td>\n",
       "      <td>3.81</td>\n",
       "    </tr>\n",
       "    <tr>\n",
       "      <th>P2</th>\n",
       "      <td>2.17</td>\n",
       "      <td>1.87</td>\n",
       "      <td>1.56</td>\n",
       "      <td>1.80</td>\n",
       "      <td>1.43</td>\n",
       "      <td>1.12</td>\n",
       "      <td>1.40</td>\n",
       "      <td>1.57</td>\n",
       "      <td>1.38</td>\n",
       "      <td>1.09</td>\n",
       "    </tr>\n",
       "    <tr>\n",
       "      <th>P3</th>\n",
       "      <td>1.04</td>\n",
       "      <td>1.09</td>\n",
       "      <td>0.73</td>\n",
       "      <td>1.03</td>\n",
       "      <td>1.16</td>\n",
       "      <td>2.05</td>\n",
       "      <td>1.99</td>\n",
       "      <td>1.96</td>\n",
       "      <td>2.20</td>\n",
       "      <td>2.01</td>\n",
       "    </tr>\n",
       "    <tr>\n",
       "      <th>P4</th>\n",
       "      <td>1.54</td>\n",
       "      <td>1.44</td>\n",
       "      <td>0.90</td>\n",
       "      <td>1.60</td>\n",
       "      <td>1.46</td>\n",
       "      <td>2.01</td>\n",
       "      <td>2.11</td>\n",
       "      <td>2.17</td>\n",
       "      <td>2.43</td>\n",
       "      <td>2.44</td>\n",
       "    </tr>\n",
       "    <tr>\n",
       "      <th>P5</th>\n",
       "      <td>1.53</td>\n",
       "      <td>1.44</td>\n",
       "      <td>1.10</td>\n",
       "      <td>1.46</td>\n",
       "      <td>1.76</td>\n",
       "      <td>2.04</td>\n",
       "      <td>1.80</td>\n",
       "      <td>2.25</td>\n",
       "      <td>1.95</td>\n",
       "      <td>1.75</td>\n",
       "    </tr>\n",
       "    <tr>\n",
       "      <th>P6</th>\n",
       "      <td>2.01</td>\n",
       "      <td>1.65</td>\n",
       "      <td>1.78</td>\n",
       "      <td>1.78</td>\n",
       "      <td>1.92</td>\n",
       "      <td>2.15</td>\n",
       "      <td>2.40</td>\n",
       "      <td>2.46</td>\n",
       "      <td>2.00</td>\n",
       "      <td>2.15</td>\n",
       "    </tr>\n",
       "  </tbody>\n",
       "</table>\n",
       "</div>"
      ],
      "text/plain": [
       "    sc_1  sc_2  sc_3  sc_4  sc_5  km_1  km_2  km_3  km_4  km_5\n",
       "P1  3.53  3.67  3.57  3.78  3.62  3.69  3.35  3.97  3.83  3.81\n",
       "P2  2.17  1.87  1.56  1.80  1.43  1.12  1.40  1.57  1.38  1.09\n",
       "P3  1.04  1.09  0.73  1.03  1.16  2.05  1.99  1.96  2.20  2.01\n",
       "P4  1.54  1.44  0.90  1.60  1.46  2.01  2.11  2.17  2.43  2.44\n",
       "P5  1.53  1.44  1.10  1.46  1.76  2.04  1.80  2.25  1.95  1.75\n",
       "P6  2.01  1.65  1.78  1.78  1.92  2.15  2.40  2.46  2.00  2.15"
      ]
     },
     "execution_count": 12,
     "metadata": {},
     "output_type": "execute_result"
    }
   ],
   "source": [
    "data = {\n",
    "    'sc_1': [3.53,2.17,1.04,1.54,1.53,2.01],\n",
    "    'sc_2': [3.67,1.87,1.09,1.44,1.44,1.65],\n",
    "    'sc_3': [3.57,1.56,0.73,0.90,1.10,1.78],\n",
    "    'sc_4': [3.78,1.80,1.03,1.60,1.46,1.78],\n",
    "    'sc_5': [3.62,1.43,1.16,1.46,1.76,1.92],\n",
    "    'km_1': [3.69,1.12,2.05,2.01,2.04,2.15],\n",
    "    'km_2': [3.35,1.40,1.99,2.11,1.80,2.40],\n",
    "    'km_3': [3.97,1.57,1.96,2.17,2.25,2.46],\n",
    "    'km_4': [3.83,1.38,2.20,2.43,1.95,2.00],\n",
    "    'km_5': [3.81,1.09,2.01,2.44,1.75,2.15]\n",
    "}\n",
    "df_YPD = pd.DataFrame(data=data,index=['P{0}'.format(i+1) for i in range(len(data['sc_1']))])\n",
    "df_YPD"
   ]
  },
  {
   "cell_type": "code",
   "execution_count": 13,
   "metadata": {},
   "outputs": [
    {
     "name": "stdout",
     "output_type": "stream",
     "text": [
      "0.4222966650959096\n",
      "0.020383922129212376\n",
      "1.939298016449149e-06\n",
      "0.000548781890606994\n",
      "0.006951935362803424\n",
      "0.005192812014866184\n"
     ]
    },
    {
     "data": {
      "image/png": "[encoded data removed]",
      "text/plain": [
       "<Figure size 360x158.4 with 1 Axes>"
      ]
     },
     "metadata": {
      "needs_background": "light"
     },
     "output_type": "display_data"
    }
   ],
   "source": [
    "do_plot(df_YPD,'P1',(0,5),\n",
    "       outname='../figures/exp_40_generations.pdf')"
   ]
  },
  {
   "cell_type": "markdown",
   "metadata": {},
   "source": [
    "#### 40 °C repeat"
   ]
  },
  {
   "cell_type": "code",
   "execution_count": 14,
   "metadata": {},
   "outputs": [
    {
     "data": {
      "text/html": [
       "<div>\n",
       "<style scoped>\n",
       "    .dataframe tbody tr th:only-of-type {\n",
       "        vertical-align: middle;\n",
       "    }\n",
       "\n",
       "    .dataframe tbody tr th {\n",
       "        vertical-align: top;\n",
       "    }\n",
       "\n",
       "    .dataframe thead th {\n",
       "        text-align: right;\n",
       "    }\n",
       "</style>\n",
       "<table border=\"1\" class=\"dataframe\">\n",
       "  <thead>\n",
       "    <tr style=\"text-align: right;\">\n",
       "      <th></th>\n",
       "      <th>sc_1</th>\n",
       "      <th>sc_2</th>\n",
       "      <th>sc_3</th>\n",
       "      <th>sc_4</th>\n",
       "      <th>sc_5</th>\n",
       "      <th>km_1</th>\n",
       "      <th>km_2</th>\n",
       "      <th>km_3</th>\n",
       "      <th>km_4</th>\n",
       "      <th>km_5</th>\n",
       "    </tr>\n",
       "  </thead>\n",
       "  <tbody>\n",
       "    <tr>\n",
       "      <th>P1</th>\n",
       "      <td>3.18</td>\n",
       "      <td>3.64</td>\n",
       "      <td>3.32</td>\n",
       "      <td>3.64</td>\n",
       "      <td>3.58</td>\n",
       "      <td>2.94</td>\n",
       "      <td>3.10</td>\n",
       "      <td>3.54</td>\n",
       "      <td>3.64</td>\n",
       "      <td>3.26</td>\n",
       "    </tr>\n",
       "    <tr>\n",
       "      <th>P2</th>\n",
       "      <td>2.15</td>\n",
       "      <td>2.27</td>\n",
       "      <td>1.67</td>\n",
       "      <td>2.22</td>\n",
       "      <td>2.10</td>\n",
       "      <td>2.20</td>\n",
       "      <td>2.29</td>\n",
       "      <td>1.34</td>\n",
       "      <td>1.40</td>\n",
       "      <td>2.21</td>\n",
       "    </tr>\n",
       "    <tr>\n",
       "      <th>P3</th>\n",
       "      <td>1.01</td>\n",
       "      <td>0.96</td>\n",
       "      <td>1.78</td>\n",
       "      <td>1.02</td>\n",
       "      <td>1.01</td>\n",
       "      <td>1.98</td>\n",
       "      <td>1.81</td>\n",
       "      <td>1.54</td>\n",
       "      <td>1.79</td>\n",
       "      <td>1.78</td>\n",
       "    </tr>\n",
       "    <tr>\n",
       "      <th>P4</th>\n",
       "      <td>1.03</td>\n",
       "      <td>0.95</td>\n",
       "      <td>1.12</td>\n",
       "      <td>0.86</td>\n",
       "      <td>0.97</td>\n",
       "      <td>1.36</td>\n",
       "      <td>1.63</td>\n",
       "      <td>1.38</td>\n",
       "      <td>1.34</td>\n",
       "      <td>1.41</td>\n",
       "    </tr>\n",
       "    <tr>\n",
       "      <th>P5</th>\n",
       "      <td>0.86</td>\n",
       "      <td>0.97</td>\n",
       "      <td>0.88</td>\n",
       "      <td>0.76</td>\n",
       "      <td>0.83</td>\n",
       "      <td>1.30</td>\n",
       "      <td>1.20</td>\n",
       "      <td>1.15</td>\n",
       "      <td>1.03</td>\n",
       "      <td>1.23</td>\n",
       "    </tr>\n",
       "    <tr>\n",
       "      <th>P6</th>\n",
       "      <td>0.62</td>\n",
       "      <td>0.98</td>\n",
       "      <td>0.92</td>\n",
       "      <td>0.55</td>\n",
       "      <td>0.70</td>\n",
       "      <td>1.48</td>\n",
       "      <td>1.42</td>\n",
       "      <td>1.43</td>\n",
       "      <td>1.23</td>\n",
       "      <td>1.38</td>\n",
       "    </tr>\n",
       "    <tr>\n",
       "      <th>P7</th>\n",
       "      <td>0.68</td>\n",
       "      <td>0.97</td>\n",
       "      <td>0.98</td>\n",
       "      <td>0.65</td>\n",
       "      <td>0.81</td>\n",
       "      <td>1.43</td>\n",
       "      <td>1.45</td>\n",
       "      <td>1.31</td>\n",
       "      <td>1.37</td>\n",
       "      <td>1.21</td>\n",
       "    </tr>\n",
       "  </tbody>\n",
       "</table>\n",
       "</div>"
      ],
      "text/plain": [
       "    sc_1  sc_2  sc_3  sc_4  sc_5  km_1  km_2  km_3  km_4  km_5\n",
       "P1  3.18  3.64  3.32  3.64  3.58  2.94  3.10  3.54  3.64  3.26\n",
       "P2  2.15  2.27  1.67  2.22  2.10  2.20  2.29  1.34  1.40  2.21\n",
       "P3  1.01  0.96  1.78  1.02  1.01  1.98  1.81  1.54  1.79  1.78\n",
       "P4  1.03  0.95  1.12  0.86  0.97  1.36  1.63  1.38  1.34  1.41\n",
       "P5  0.86  0.97  0.88  0.76  0.83  1.30  1.20  1.15  1.03  1.23\n",
       "P6  0.62  0.98  0.92  0.55  0.70  1.48  1.42  1.43  1.23  1.38\n",
       "P7  0.68  0.97  0.98  0.65  0.81  1.43  1.45  1.31  1.37  1.21"
      ]
     },
     "execution_count": 14,
     "metadata": {},
     "output_type": "execute_result"
    }
   ],
   "source": [
    "\n",
    "data = {\n",
    "    'sc_1': [0.159*20,2.15,1.01,1.03,0.86,0.62,0.68],\n",
    "    'sc_2': [0.182*20,2.27,0.96,0.95,0.97,0.98,0.97],\n",
    "    'sc_3': [0.166*20,1.67,1.78,1.12,0.88,0.92,0.98],\n",
    "    'sc_4': [0.182*20,2.22,1.02,0.86,0.76,0.55,0.65],\n",
    "    'sc_5': [0.179*20,2.10,1.01,0.97,0.83,0.70,0.81],\n",
    "    'km_1': [0.147*20,2.20,1.98,1.36,1.30,1.48,1.43],\n",
    "    'km_2': [0.155*20,2.29,1.81,1.63,1.20,1.42,1.45],\n",
    "    'km_3': [0.177*20,1.34,1.54,1.38,1.15,1.43,1.31],\n",
    "    'km_4': [0.182*20,1.40,1.79,1.34,1.03,1.23,1.37],\n",
    "    'km_5': [0.163*20,2.21,1.78,1.41,1.23,1.38,1.21],\n",
    "}\n",
    "df_YPD_re = pd.DataFrame(data=data,index=['P{0}'.format(i+1) for i in range(len(data['sc_1']))])\n",
    "df_YPD_re"
   ]
  },
  {
   "cell_type": "code",
   "execution_count": 19,
   "metadata": {},
   "outputs": [],
   "source": [
    "df_YPD_re.to_csv('../data/OD600_different_passages_40C.csv')"
   ]
  },
  {
   "cell_type": "code",
   "execution_count": 16,
   "metadata": {},
   "outputs": [
    {
     "name": "stdout",
     "output_type": "stream",
     "text": [
      "0.3071766486653719\n",
      "0.43806217285854876\n",
      "0.006582026069128921\n",
      "0.00020434428373136535\n",
      "0.0004603664241351136\n",
      "0.00014779781030237565\n",
      "0.0001815580117326102\n"
     ]
    },
    {
     "data": {
      "image/png": "[encoded data removed]",
      "text/plain": [
       "<Figure size 360x158.4 with 1 Axes>"
      ]
     },
     "metadata": {
      "needs_background": "light"
     },
     "output_type": "display_data"
    }
   ],
   "source": [
    "do_plot(df_YPD_re,'P1',(0,5),\n",
    "       outname='../figures/exp_40_re_generations.pdf')"
   ]
  },
  {
   "cell_type": "code",
   "execution_count": null,
   "metadata": {},
   "outputs": [],
   "source": []
  }
 ],
 "metadata": {
  "kernelspec": {
   "display_name": "Python 3",
   "language": "python",
   "name": "python3"
  },
  "language_info": {
   "codemirror_mode": {
    "name": "ipython",
    "version": 3
   },
   "file_extension": ".py",
   "mimetype": "text/x-python",
   "name": "python",
   "nbconvert_exporter": "python",
   "pygments_lexer": "ipython3",
   "version": "3.6.7"
  }
 },
 "nbformat": 4,
 "nbformat_minor": 2
}
