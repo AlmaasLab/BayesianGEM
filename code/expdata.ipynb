{
 "cells": [
  {
   "cell_type": "code",
   "execution_count": 1,
   "metadata": {},
   "outputs": [],
   "source": [
    "import numpy as np\n",
    "import pandas as pd\n",
    "import matplotlib.pyplot as plt\n",
    "from scipy.stats import ttest_ind\n",
    "from matplotlib import rc"
   ]
  },
  {
   "cell_type": "code",
   "execution_count": 2,
<<<<<<< HEAD
   "metadata": {},
   "outputs": [],
   "source": [
    "rc('text', usetex=False)"
   ]
  },
  {
   "cell_type": "code",
   "execution_count": 10,
=======
>>>>>>> 5a269485df4c340b0b052c3133c609c4eba543c8
   "metadata": {},
   "outputs": [],
   "source": [
    "rc('text', usetex=True)"
   ]
  },
  {
   "cell_type": "code",
   "execution_count": 42,
   "metadata": {},
   "outputs": [],
   "source": [
    "def do_plot(df,first_ind,ylim,ylabel='OD600',figsize=(5,2.2),outname=None,ad_legend=False):\n",
    "    plt.figure(figsize=figsize)\n",
    "\n",
    "    scs = [col for col in df.columns if 'sc' in col]\n",
    "    kms = [col for col in df.columns if 'km' in col]\n",
    "\n",
    "    pos = 0\n",
    "    tick_pos = []\n",
    "    for g in df.index:\n",
    "        x = np.array([pos]*5)\n",
<<<<<<< HEAD
=======
    "        \n",
    "        \n",
>>>>>>> 5a269485df4c340b0b052c3133c609c4eba543c8
    "        if g == first_ind: label = 'IMX581'\n",
    "        else: label = None\n",
    "\n",
    "        plt.bar(pos,np.mean(df.loc[g,scs]),color='#1f77b4',label=label,zorder=0)\n",
<<<<<<< HEAD
    "        \n",
    "        plt.scatter(x+np.random.normal(0,0.1,5),df.loc[g,scs],color='k',zorder=1,s=3)\n",
    "\n",
    "        if g == first_ind: label = r\"IMX581 $\\mathit{ScERG1}$$::$$\\mathit{kmERG1}$\"\n",
    "        else: label = None\n",
    "\n",
    "        plt.bar(pos+1,np.mean(df.loc[g,kms]),color='#ff7f0e',label=label,zorder=0)\n",
    "        \n",
    "        plt.scatter(x+1+np.random.normal(0,0.1,5),df.loc[g,kms],color='k',zorder=1,s=3)\n",
=======
    "        plt.scatter(x+np.random.normal(0,0.1,5),df.loc[g,scs],color='k',zorder=1,s=3,label=None)\n",
    "\n",
    "        if g == first_ind: label = r'IMX581 \\textit{ScERG1$\\Delta$::KmERG1}'\n",
    "        else: label = None\n",
    "\n",
    "        plt.bar(pos+1,np.mean(df.loc[g,kms]),color='#ff7f0e',label=label,zorder=0)\n",
    "        plt.scatter(x+1+np.random.normal(0,0.1,5),df.loc[g,kms],color='k',zorder=1,s=3,label=None)\n",
>>>>>>> 5a269485df4c340b0b052c3133c609c4eba543c8
    "\n",
    "        pval = ttest_ind(df.loc[g,scs],df.loc[g,kms])[1]\n",
    "        print(pval)\n",
    "        if pval<0.001: pval='$p<$0.001'\n",
    "        else: pval = '$p$={0:.3f}'.format(pval)\n",
    "        #print(pval)\n",
    "        plt.text(pos+0.5,np.max(df.loc[g,:])+(ylim[1]-ylim[0])/50,pval,ha='center',va='bottom',fontsize=8)\n",
    "        tick_pos.append(pos+0.5)\n",
    "        pos += 3\n",
    "    \n",
    "    # add trendline\n",
    "    plt.plot(np.arange(0,3*df.shape[0],3)+0.5,np.mean(df.loc[:,scs],axis=1),'-',color='#1f77b4',zorder=1)\n",
    "    plt.plot(np.arange(0,3*df.shape[0],3)+0.5,np.mean(df.loc[:,kms],axis=1),'-',color='#ff7f0e',zorder=1)\n",
    "    \n",
    "    plt.xticks(tick_pos,df.index)\n",
    "    plt.ylim(ylim)\n",
    "    if ad_legend: plt.legend(loc='lower center',bbox_to_anchor=(0.5,1.01),fontsize=8)\n",
    "    else: plt.legend(loc='upper right')\n",
    "    plt.ylabel(ylabel)\n",
    "    if not ad_legend:plt.tight_layout()\n",
    "    if outname is not None: plt.savefig(outname)\n",
    "    if ad_legend and outname is not None:plt.savefig(outname,bbox_inches='tight')\n",
    "    plt.show()"
   ]
  },
  {
   "cell_type": "code",
<<<<<<< HEAD
   "execution_count": null,
   "metadata": {},
   "outputs": [],
   "source": []
=======
   "execution_count": 31,
   "metadata": {},
   "outputs": [],
   "source": [
    "?plt.savefig"
   ]
>>>>>>> 5a269485df4c340b0b052c3133c609c4eba543c8
  },
  {
   "cell_type": "markdown",
   "metadata": {},
   "source": [
    "#### 42 C"
   ]
  },
  {
   "cell_type": "code",
<<<<<<< HEAD
   "execution_count": 4,
=======
   "execution_count": 10,
>>>>>>> 5a269485df4c340b0b052c3133c609c4eba543c8
   "metadata": {},
   "outputs": [
    {
     "data": {
      "text/html": [
       "<div>\n",
       "<style scoped>\n",
       "    .dataframe tbody tr th:only-of-type {\n",
       "        vertical-align: middle;\n",
       "    }\n",
       "\n",
       "    .dataframe tbody tr th {\n",
       "        vertical-align: top;\n",
       "    }\n",
       "\n",
       "    .dataframe thead th {\n",
       "        text-align: right;\n",
       "    }\n",
       "</style>\n",
       "<table border=\"1\" class=\"dataframe\">\n",
       "  <thead>\n",
       "    <tr style=\"text-align: right;\">\n",
       "      <th></th>\n",
       "      <th>sc_1</th>\n",
       "      <th>sc_2</th>\n",
       "      <th>sc_3</th>\n",
       "      <th>sc_4</th>\n",
       "      <th>sc_5</th>\n",
       "      <th>km_1</th>\n",
       "      <th>km_2</th>\n",
       "      <th>km_3</th>\n",
       "      <th>km_4</th>\n",
       "      <th>km_5</th>\n",
       "    </tr>\n",
       "  </thead>\n",
       "  <tbody>\n",
       "    <tr>\n",
       "      <th>G1</th>\n",
       "      <td>1.400</td>\n",
       "      <td>0.98</td>\n",
       "      <td>1.500</td>\n",
       "      <td>1.300</td>\n",
       "      <td>0.960</td>\n",
       "      <td>2.120</td>\n",
       "      <td>1.170</td>\n",
       "      <td>1.010</td>\n",
       "      <td>1.740</td>\n",
       "      <td>1.460</td>\n",
       "    </tr>\n",
       "    <tr>\n",
       "      <th>G2</th>\n",
       "      <td>0.256</td>\n",
       "      <td>0.24</td>\n",
       "      <td>0.201</td>\n",
       "      <td>0.178</td>\n",
       "      <td>0.223</td>\n",
       "      <td>0.246</td>\n",
       "      <td>0.238</td>\n",
       "      <td>0.224</td>\n",
       "      <td>0.216</td>\n",
       "      <td>0.231</td>\n",
       "    </tr>\n",
       "  </tbody>\n",
       "</table>\n",
       "</div>"
      ],
      "text/plain": [
       "     sc_1  sc_2   sc_3   sc_4   sc_5   km_1   km_2   km_3   km_4   km_5\n",
       "G1  1.400  0.98  1.500  1.300  0.960  2.120  1.170  1.010  1.740  1.460\n",
       "G2  0.256  0.24  0.201  0.178  0.223  0.246  0.238  0.224  0.216  0.231"
      ]
     },
<<<<<<< HEAD
     "execution_count": 4,
=======
     "execution_count": 10,
>>>>>>> 5a269485df4c340b0b052c3133c609c4eba543c8
     "metadata": {},
     "output_type": "execute_result"
    }
   ],
   "source": [
    "data = {\n",
    "    'sc_1': [1.40,0.256],\n",
    "    'sc_2': [0.98,0.240],\n",
    "    'sc_3': [1.50,0.201],\n",
    "    'sc_4': [1.30,0.178],\n",
    "    'sc_5': [0.96,0.223],\n",
    "    'km_1': [2.12,0.246],\n",
    "    'km_2': [1.17,0.238],\n",
    "    'km_3': [1.01,0.224],\n",
    "    'km_4': [1.74,0.216],\n",
    "    'km_5': [1.46,0.231]\n",
    "}\n",
    "df_YPD42 = pd.DataFrame(data=data,index=['G{0}'.format(i+1) for i in range(len(data['sc_1']))])\n",
    "df_YPD42"
   ]
  },
  {
   "cell_type": "code",
<<<<<<< HEAD
   "execution_count": 5,
=======
   "execution_count": 43,
>>>>>>> 5a269485df4c340b0b052c3133c609c4eba543c8
   "metadata": {},
   "outputs": [
    {
     "name": "stdout",
     "output_type": "stream",
     "text": [
      "0.26599048255452884\n",
      "0.4630992924615711\n"
     ]
    },
    {
     "data": {
<<<<<<< HEAD
      "image/png": "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\n",
=======
      "image/png": "iVBORw0KGgoAAAANSUhEUgAAAKIAAAC4CAYAAABgvzfmAAAABHNCSVQICAgIfAhkiAAAAAlwSFlzAAALEgAACxIB0t1+/AAAADl0RVh0U29mdHdhcmUAbWF0cGxvdGxpYiB2ZXJzaW9uIDIuMi4zLCBodHRwOi8vbWF0cGxvdGxpYi5vcmcvIxREBQAAEtFJREFUeJztnW1MW2eWx/9nQGEXT8AYU2U0kGTsnVXXrUQX3CSKUD4E0hRGqZKKtDtUVUDCtlKJVitYnCoJ6qauUiOilRIpWYdI9EsyTWBVlGpKZp2MVhWKFIK9QaosrSa4NFCVBINt0tAEQZ/9cH2Jw5ud4mtfm/OTLNvPfXuu+XOel3vOc0gIAYZJNb9KdQUYBmAhMiqBhcioAhYiowpYiIwqYCEyqiBbqRN7vd792dnZR4QQm5S6BpNeENH43Nzcp2VlZb2LtykmxKysrFNGo/Gn3NzcABEpdRkmTRBCYGZm5td37949BWCJEJVsmrM0Gs1jFiEDAEQEjUbzGEDWctu5j8ioAsWa5mi2Hvlz+VqOH/n0D56VtvX39+devHixoKmpaWLHjh2m6enpO/K2urq6Lfn5+XNGo/HJ8PBwzrlz574PBAJZb7zxhuHmzZt/6+rqKujs7NSXlpbO7N27d7qiomLm+PHjmwDgnXfeCVZUVMz09/fnXrt2baPD4bi/lntgVicpQkwWL7/88qOurq6ChoaGIAAEg8Gs/Pz8uZaWlkB1dbWht7d3Y3t7+6YLFy58Jx/T2to6vn///ocA0NHRoW9qapowmUyzdXV1W3Q63Q8XL14sSNX9rCcyqmkuLS2dcbvdeYAkqrfeeisob+vr6/M3NTVtefPNN4Mmk2lWLm9vb99UXV1t6O/vz62vrw82NzcXV1dXG957770Jk8k029TUNJGKe1lvZJQQCwsL5/Lz8+cCgUCW1+vVbN++/ZG8zefzbSgpKXni9Xo1ctm+ffumr1696j916tRYa2vrb7/88su8ysrK6aNHj46zJUwuGSVEAGhqapo4fvz4JoPB8Di6vLGxccvVq1f9BoPhcUdHh14u1+v18y+88MI8ALjd7ryamprpioqKmaGhodxk1309k1F9RAAwmUyzIyMjOR9//PH4gwcPsgDg8OHDv7VYLAG9Xj/vcDju79y58/c1NTXTt27d0gwMDOSOjIzktLe3f6/T6eaam5uLCwoK5ltbW8cDgUCWw+H4zdDQUG5vb++03JdkEg8p5Rg7NDQ0UlpaGlDk5EzaMjQ0pC8tLd26uDzjmmYmPWEhMqqAhcioAhYiowpYiIwqYCEyqiA584gf5a/J6QEfhVXr9BAIBLLef//9Yvn7pUuXvlu8j8/n23Dw4EHjrl27pgHAaDQ+qampmT548KDxwIEDU5OTk9lGo/FJS0tLoL+/P/fs2bNF+fn5c+FwOFs+33L12Llz5+9v3rz5t9V+Op/Pt8HhcPzm0qVL38l1PXbs2A/RjzmTVd/VyKgJ7VQ4PcTzh71165amoaFhoqWlZWFeNVLPhTJ5kv2TTz7Z1NfX548+3ufzbTh79mxRWVnZwiPL3t7ejbt3757u6OjQR593uWuXlZU9kgV5+vTpMb1eP7/aPSlR31hklBBlp4eGhoag7PQwMDCQC0hODyUlJS9/8MEH44udHlwuV9HRo0fH6+vrg+++++4WADh69Oi47PRw5syZopWuaTAYHjc2Nm6JFnRXV1eB/MSmr6/PL38eHh7OKSwsnHM4HPflMvnZ94ULF75rbm4uPnXq1Njia5hMplmDwfB4x44dM9HlDofj/ksvvfRP0YLp6OjQ19TUTH/11Vd5NTU10wMDA7lGo/HJ3r17/3F0dPQbeb/q6mpDeXn5oy+++EJ34MCBKY/Ho6msrJxuaWkJKFXf1cgoIRYWFs4BUnPp9Xo1x44d+0EW4iKnhwAgOT3s27dv+sGDB1mNjY1bLBZLoLKycnrHjh0zFy9eLKioqIj5Qzocjvs+ny/Y3NxcPDg4mFtXVxd0u9150U300NBQ7uImVC7r6OjQFxYWzptMptl79+7lmEymWZ/Pt+HMmTNFe/fuXXis6PF4NHIz19vbu1Eub2homIi2ivK7yWQKyNcBgEOHDk1Etxb37t3L6evr809OTmabzeaZurq6oPwPl+j6xkPGDVaS6fQQCASyAMkC2Gy2Ca1WOy83hdH7hcPhJf/wcll9fX3wypUrC82/z+fbYDKZZrdt2zYTDAazo/Zf1sW+paUl0NXVtaLFDofD2efOnfve4XDc7+joWAhk27x58xMAGBkZydm/f//DW7duabZt2zajdH1XIqMsIpBcp4f+/v5cl8tVVFBQMJ+fnz937ty57wGp2RseHs7Ztm3bzPbt2x+Njo7m1NXVbQGkpryuri4oC0Gv18+Hw+GsQCCQ5XK5vmtubi7eunXrk3A4nH369OmxQCCQdfz48U2jo6M5XV1dBZOTk1k3btzIu3Llik6ux/T0dFZHR4e+vr4++NlnnxVEv8vXAYBdu3ZN9/b2btTr9fPl5eWPgKeCGRgYyG1qaprw+XwbEllf2QLHgp0emKTCTg+MqmEhMqpASSH+/PPPP3NQM7NARA8/L7dNSSF+MzExkc9iZABJhBMTE/kAvlluu2Kj5rm5ucbx8fEL4+PjL4O7AIxkCb+Zm5trXG6jYqNmhnke2FIxqkAxIRJRkIg8RORU6hpM5qBY00xEVUKI64qcnMk4lHzEpyUigxDCv9xGIrICsAKARqMpf/HFFxWsCqMkHo8nIIRY8Xl3PCgpRB2AKSJyCSFsizcKIc4DOA8AZrNZDA4OKlgVRkmIaIkz8POiWB9RCHFeCBECECKiWqWuw2QGigiRiKxR4ptU4hpMZqGURbwCyRJWAYAQokeh6zAZgiJ9xEiTLI+YeeTMxIQntBlVwEJkVAELkVEFLERGFbAQGVXAQmRUAQuRUQUsREYVsBAZVcBCZFQBC5FRBSxERhWwEBlVwEJkVAELkVEFLERGFSguRI5rZuJBUSFGQgUMSl6DyQyUXOnBAGDZmObIdisRDRLR4MTEhFLVYNIEJS3iisH1wEK4qVkIYS4qWlNsNpMBKBVOysuNMM+FUis9TEX6h1oABiIqE0J4FboWkwEoYhGFEN6IRdRBEiPDrIqio+ZIP9DI1pCJBU9oM6qAhcioAhYiowpYiIwqYCEyqoCFyKgCFiKjCliIjCpgITKqgIXIqAIWIqMKWIiMKmAhMqqAhcioAhYiowpYiIwqiCtUgIheAVAFoBBSSjOvEOKvMY6pinzcI4Swr6mWTMYT0yIS0UkAewB8CymL1LcAXouUr3RMGSQBXgdQFgktZZgVicciGoUQHy4q+y8i+s+VDoiEBniJSAvAv1xYaXS+5s2bNz9HlZlMJB4h+omoBYAXwBSkgKgyAKE4jjWvtN/ifM1x1ZbJWGI2zUKIIwD+F8BrAGyQmmlvpDzWsdchZbLnfM3MqsQ7ap6CNEgJI478y0TkjDS9gGQRdb+sesx6IWbTHBmUTEJax8YLKU75NSLas0zfUcYFKbC+CoA20gwzzIooNVjx4+kCTLz0CBMTpQcrDBMXMYUohDhCRJWQBitaAEEA7lgT2gzzPMTTR8wTQtwAcCMiyDLwejZMgoln1OwEACL6C4B/htT3MxLROSUrxqwv4ukjUuT9WyFEx0Ih0RVlqsSsR+KxiN0R0QkiaiGi3UT0KaSBi2oJhUKw2Wyw2Wzwep8uRub3+2Gz2bBnz56F8vb2dtjt9hW/M0lACBHzBeB3AP4NwEkALQAq4zku3ld5eblINE6nUwwPDwshhLBarQvl3d3dQgghgsGgqKqqEt3d3cLlcolgMLiwPfo7ExsAg2KNGojLDUwI8S0RhQAYIU1u31bm32J1rl+/DrfbjT179sDv98Nqta647+3bt9Ha2gpAsoIytbVPnzYaDAa43W5MTU3B4/GgvLwcHo/nme+rXYNJHPG4gf2OiAYBCADdkB7z3Yj4KCYVs9mMUCiEqqoqeDwe3LlzBz09PUteMqHQylOddrsdTqeUAsbpdMLlcsHtdi/7nVGeePqIn0Jqii8IIW4IITqFEK8CWOnxnmJotVpotdLMkd/vR15e3or7vvrqqwuWUD5GRhahVquF0WhcEGwoFFrynUkO8TTNQSFEeLnyRFcmFl6vF6FQCD09PXA6nTAYDDAYlve5tVqtsFgs0Ol0+PDDD+H3++H1ehfe7XY7jEYjrFYr7HbJgdxut8NsNj/znUkSsTqRAE4+T/kvecU7WHG5XAsDEEY9IAGDlXiaZhsR3ZazRMmfEfGuTibd3d3JviSTJOJ51qwaX0IePGQucTnGEtFWIjpJRH8honNEtEXpiiWbzs5OlJSUoLOzM9VVWZ/EarshPV/+bwC7IU1s1wIYBLB7rf0C+aXEhPbzUlxcLACI4uLiVFcl7UCS+ohHhBCvCSH+KoT4VgjRI4QwQ4pfWRYi0hJRbeSVFvma29raUFxcjLa2tlRXZV0SjxAp9i5LeAuATgjRAyyEjqoai8WC0dFRWCyWVFdlXRLPPOIUEW0VQozIBUS0FasIVDwbo2KAFMPyDBzXzEQTjxDtkDxwhgEMA9gGqa9YGevAyAoPU2KZAHvBcc1MFPFM34QhRe1VImLdhOSxHQ+1QogV+5IMIxN3vuaI+OIVIIioVgjRHvnMicSZVVEsgz0AJxF5iMijxDWYzEKpxOHXhZSnuTzyUr015Ant1ELSfGRqMZvNYnBwMKV1KCkpwdjYGIqLizE6OprSuqQbROSJzC3/YnjF2Ag8oZ1a2CIya4YtIpMxsBAZVZB2QuTRbWaSdn3ENY1uP8pfdXOnZxYnvn6Ctl05sJRvWOEcy4XvrG/WZR+xra0NBQUF+PHHHxNuFU98/QRj0wInvn6S0PMysUk7IVosFmg0GoRCIZw4cSKh527blYPiPELbrpyEnpeJTdoJEVBuzs9SvgGj/7px5WaZUYy4nR7UhOy8KltEdmZNf9LSIgKSCMfGxhLePDOpQbUWceuRP6+6feal/cgKf46Zl/avuO/Ip39QomqMAqStRdz4yusofu8zbHzl9YSet9Mzi5L/eIhOz2xCz8usTtoKUSl4Cic1KCZEIqoiorRbmoGncFKDYn1EIcR1Ikq75bQs5Rt4+iYFpF3T/PDONYydPYSHd64l7JzcL0w9KRMiEVnlFcYmJibiPi5880+YfziJ4P90JUyQ3C9MPSkTohDivBDCLIQwFxUVxX1c/s4/ImujHgAw/3AS4Zufr7ku3C9MPaqdR1yJja+8jo2vvI6Hd64hfPNz5O/8lzWfk/uFqUcxIUaShZsj8c09MQ94TmRBMpmBkqPmHgAJFyCTmaTdqJnJTFiIjCpIu8EKEx+hUGghPYfNZkNZWdkz241GI9xuNwwGA9rb2zE5OYm3334bAHD58uWFXIaLj1MKFmKGcv78edjtdhgMBthsNrhcrme2VVVVAQB6enqg1WphtVqh1WoRCoXgdDrh9Xpx+fJlFiKzlETkIgQAj8cDo9EIAEtyEVqtVvT09ODkyZO4cSPuxd/WDAsxjTCbzeju7kZVVRVsNhvu3LmDu3fvLtlPTnwZCoWWpH+TUwBH5yyUs3gdPHgQVqsVtbW10Gq1OHny5EK+QqXhwUoakYhchFqtFi6XC5cvX4bT6VySe1D+XFVVhevXk7eIG1vENCIRuQjl5txut8Nms0Gn0z2Te3BwcBButxt+vz9p1hBQcYB9rFCBeFgSKhAjwD4uUhhgLw8yVhJfqliXAfbrmUzORchNcxqRybkI2SIyqoCFqHIWr37W2dmJgoIC6HS6hK7909nZidzcXBARNBpN0ldb46ZZ5SxeSODw4cOYn59f2PZcq1wsM1iTV0D7cVbgp8dS2czMDE602GD5vmWZcygzWGMhqhR51kBeSGAq7x9gtdmAyCwH5fx61cUFgPgWGJDDJAr+Dvj7bOCnOSA3G0n3VmchqhzZAXjs7CFJhPQr6F57L2FOwW27cmKvCZkElPbQDgEokzNQMb+c/J1/XAiNSKRnulrCJBQRYkSEcmyzgVOgrZ1MD41QatT8KgDZ5cMPIDm+REzaolTTrF30vXDxDtH5mgH8SET/l+hK0NNHpXoAgYSc9N9/SR711JDE+9+y1tMqJcQQAN1qO0Tna1YaIhpc67PQdCYd7l+ppvk2nlpFA4DMfTbFJASlspP2ADBE0uWCBypMLJSMa1bTlE1SugAqRvX3rwp/RIZhpwdGFbAQGVWQkc+aicgFafpIC8ArhLBHyg0AXEKIPamsn9Kscv+yi/eUEMKWqvotR8YJMfJju+SROhFpo95rIU0nZSyr3L8VgEUIESIil9oeu2ZU0xyxeNroH1gIEZLfIyP5UKrqpzQx7v+8/BnAMJY+/UopGSVESNbOH3OvzCXe+98DQDXWEMg8IfoRaXqJSBtpgoIprlMyiXn/kf6jLco6qoKMEqIQwg9IOV4iTbEN68hCxrp/InICcMr7qYmMnNCOGjVOAYA8Qoz8IayQnjScVJtVSBTL3T8RtQJ4Wy6DNKBRzYq+GSlEJv3IqKaZSV9YiIwqYCEyqoCFyKgCFiKjCliIjCpgITKqgIXIqIL/ByRP2C5UO9o8AAAAAElFTkSuQmCC\n",
>>>>>>> 5a269485df4c340b0b052c3133c609c4eba543c8
      "text/plain": [
       "<Figure size 144x158.4 with 1 Axes>"
      ]
     },
     "metadata": {
      "needs_background": "light"
     },
     "output_type": "display_data"
    }
   ],
   "source": [
    "do_plot(df_YPD42,'G1',ylim=(0,5),figsize=(2,2.2),\n",
    "       outname='../figures/exp_42_generations.pdf',ad_legend=True)"
   ]
  },
  {
   "cell_type": "markdown",
   "metadata": {},
   "source": [
    "#### 40 C"
   ]
  },
  {
   "cell_type": "code",
<<<<<<< HEAD
   "execution_count": 6,
=======
   "execution_count": 27,
>>>>>>> 5a269485df4c340b0b052c3133c609c4eba543c8
   "metadata": {},
   "outputs": [
    {
     "data": {
      "text/html": [
       "<div>\n",
       "<style scoped>\n",
       "    .dataframe tbody tr th:only-of-type {\n",
       "        vertical-align: middle;\n",
       "    }\n",
       "\n",
       "    .dataframe tbody tr th {\n",
       "        vertical-align: top;\n",
       "    }\n",
       "\n",
       "    .dataframe thead th {\n",
       "        text-align: right;\n",
       "    }\n",
       "</style>\n",
       "<table border=\"1\" class=\"dataframe\">\n",
       "  <thead>\n",
       "    <tr style=\"text-align: right;\">\n",
       "      <th></th>\n",
       "      <th>sc_1</th>\n",
       "      <th>sc_2</th>\n",
       "      <th>sc_3</th>\n",
       "      <th>sc_4</th>\n",
       "      <th>sc_5</th>\n",
       "      <th>km_1</th>\n",
       "      <th>km_2</th>\n",
       "      <th>km_3</th>\n",
       "      <th>km_4</th>\n",
       "      <th>km_5</th>\n",
       "    </tr>\n",
       "  </thead>\n",
       "  <tbody>\n",
       "    <tr>\n",
       "      <th>G1</th>\n",
       "      <td>3.53</td>\n",
       "      <td>3.67</td>\n",
       "      <td>3.57</td>\n",
       "      <td>3.78</td>\n",
       "      <td>3.62</td>\n",
       "      <td>3.69</td>\n",
       "      <td>3.35</td>\n",
       "      <td>3.97</td>\n",
       "      <td>3.83</td>\n",
       "      <td>3.81</td>\n",
       "    </tr>\n",
       "    <tr>\n",
       "      <th>G2</th>\n",
       "      <td>2.17</td>\n",
       "      <td>1.87</td>\n",
       "      <td>1.56</td>\n",
       "      <td>1.80</td>\n",
       "      <td>1.43</td>\n",
       "      <td>1.12</td>\n",
       "      <td>1.40</td>\n",
       "      <td>1.57</td>\n",
       "      <td>1.38</td>\n",
       "      <td>1.09</td>\n",
       "    </tr>\n",
       "    <tr>\n",
       "      <th>G3</th>\n",
       "      <td>1.04</td>\n",
       "      <td>1.09</td>\n",
       "      <td>0.73</td>\n",
       "      <td>1.03</td>\n",
       "      <td>1.16</td>\n",
       "      <td>2.05</td>\n",
       "      <td>1.99</td>\n",
       "      <td>1.96</td>\n",
       "      <td>2.20</td>\n",
       "      <td>2.01</td>\n",
       "    </tr>\n",
       "    <tr>\n",
       "      <th>G4</th>\n",
       "      <td>1.54</td>\n",
       "      <td>1.44</td>\n",
       "      <td>0.90</td>\n",
       "      <td>1.60</td>\n",
       "      <td>1.46</td>\n",
       "      <td>2.01</td>\n",
       "      <td>2.11</td>\n",
       "      <td>2.17</td>\n",
       "      <td>2.43</td>\n",
       "      <td>2.44</td>\n",
       "    </tr>\n",
       "    <tr>\n",
       "      <th>G5</th>\n",
       "      <td>1.53</td>\n",
       "      <td>1.44</td>\n",
       "      <td>1.10</td>\n",
       "      <td>1.46</td>\n",
       "      <td>1.76</td>\n",
       "      <td>2.04</td>\n",
       "      <td>1.80</td>\n",
       "      <td>2.25</td>\n",
       "      <td>1.95</td>\n",
       "      <td>1.75</td>\n",
       "    </tr>\n",
       "    <tr>\n",
       "      <th>G6</th>\n",
       "      <td>2.01</td>\n",
       "      <td>1.65</td>\n",
       "      <td>1.78</td>\n",
       "      <td>1.78</td>\n",
       "      <td>1.92</td>\n",
       "      <td>2.15</td>\n",
       "      <td>2.40</td>\n",
       "      <td>2.46</td>\n",
       "      <td>2.00</td>\n",
       "      <td>2.15</td>\n",
       "    </tr>\n",
       "  </tbody>\n",
       "</table>\n",
       "</div>"
      ],
      "text/plain": [
       "    sc_1  sc_2  sc_3  sc_4  sc_5  km_1  km_2  km_3  km_4  km_5\n",
       "G1  3.53  3.67  3.57  3.78  3.62  3.69  3.35  3.97  3.83  3.81\n",
       "G2  2.17  1.87  1.56  1.80  1.43  1.12  1.40  1.57  1.38  1.09\n",
       "G3  1.04  1.09  0.73  1.03  1.16  2.05  1.99  1.96  2.20  2.01\n",
       "G4  1.54  1.44  0.90  1.60  1.46  2.01  2.11  2.17  2.43  2.44\n",
       "G5  1.53  1.44  1.10  1.46  1.76  2.04  1.80  2.25  1.95  1.75\n",
       "G6  2.01  1.65  1.78  1.78  1.92  2.15  2.40  2.46  2.00  2.15"
      ]
     },
<<<<<<< HEAD
     "execution_count": 6,
=======
     "execution_count": 27,
>>>>>>> 5a269485df4c340b0b052c3133c609c4eba543c8
     "metadata": {},
     "output_type": "execute_result"
    }
   ],
   "source": [
    "data = {\n",
    "    'sc_1': [3.53,2.17,1.04,1.54,1.53,2.01],\n",
    "    'sc_2': [3.67,1.87,1.09,1.44,1.44,1.65],\n",
    "    'sc_3': [3.57,1.56,0.73,0.90,1.10,1.78],\n",
    "    'sc_4': [3.78,1.80,1.03,1.60,1.46,1.78],\n",
    "    'sc_5': [3.62,1.43,1.16,1.46,1.76,1.92],\n",
    "    'km_1': [3.69,1.12,2.05,2.01,2.04,2.15],\n",
    "    'km_2': [3.35,1.40,1.99,2.11,1.80,2.40],\n",
    "    'km_3': [3.97,1.57,1.96,2.17,2.25,2.46],\n",
    "    'km_4': [3.83,1.38,2.20,2.43,1.95,2.00],\n",
    "    'km_5': [3.81,1.09,2.01,2.44,1.75,2.15]\n",
    "}\n",
    "df_YPD = pd.DataFrame(data=data,index=['G{0}'.format(i+1) for i in range(len(data['sc_1']))])\n",
    "df_YPD"
   ]
  },
  {
   "cell_type": "code",
<<<<<<< HEAD
   "execution_count": 7,
=======
   "execution_count": 30,
>>>>>>> 5a269485df4c340b0b052c3133c609c4eba543c8
   "metadata": {},
   "outputs": [
    {
     "name": "stdout",
     "output_type": "stream",
     "text": [
      "0.4222966650959096\n",
      "0.020383922129212376\n",
      "1.939298016449149e-06\n",
      "0.000548781890606994\n",
      "0.006951935362803424\n",
      "0.005192812014866184\n"
     ]
    },
    {
     "data": {
<<<<<<< HEAD
      "image/png": "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\n",
=======
      "image/png": "iVBORw0KGgoAAAANSUhEUgAAAWAAAACXCAYAAAArgYFZAAAABHNCSVQICAgIfAhkiAAAAAlwSFlzAAALEgAACxIB0t1+/AAAADl0RVh0U29mdHdhcmUAbWF0cGxvdGxpYiB2ZXJzaW9uIDIuMi4zLCBodHRwOi8vbWF0cGxvdGxpYi5vcmcvIxREBQAAGQlJREFUeJzt3U9sG9edB/DvixtbTmJ7TMeXQk5j6rAN2oOXpC5ZwBs0wyCLIkAPZFyjCIoFluSqt2IDTbUHIRAQuNQW6C0tyUsvRaOQ7WVRoAWZIsgCuUga+LBAsEA02cLsyRE1tvPHTld9e+DMZEiR1Eia4fzh9wMIJodD8j2T85vH33vznpBSgoiIpu+xsAtARDSrGICJiELCAExEFBIGYCKikDAAExGFhAGYiCgkDMBERCEJLAALIfaEENtCiGpQ70FEFGciqAsxhBCqlLITyIsTESVAkCkIRQiRDvD1iYhi7WsBvnYKQE8IUZNSVoYfFEKUAZQB4Mknn8x+85vfDLAoRETTs729/YmU8vJh+wWWgnDeoJ8D3pRStsbtk8vl5NbWVqDlICKaFiHEtpQyd9h+gaQghBBlIUTBursbxHsQEcVdUDngdwCYQggVACa1fomIZlUgOWAppQnAHgHBkRBERCME2QlHNDV//etf0e128fDhw7CLQjNkbm4O8/PzePzxx4/1fAZgSoRut4tz587h2WefhRAi7OLQDJBSYnd3F91uF1evXj3Wa/BSZEqEhw8f4tKlSwy+NDVCCFy6dOlEv7oYgCkxGHxp2k76nWMAJiIKCXPAlEjP/uT3vr7e//70uxMfN00TL774Ira3twH0W0btdhuqqjr7VCoV9Ho9NJtNtFotbGxsoNlsAgA6nQ6q1Sra7TZ0XUexWEQmkwEANBoNKIqCYrEIAEilUqjVagAAwzBQqVTQbrd9rS9NB1vARAHIZDJOkLT1ej3ndqFQQCqVQr1eh2ma0DTNCcb2481mE81mE4qioF6vI5/Po9lsIpvNotVqwTRNtFotGIYxtXqRvxiAiQKSSqVgmiYAoF6v48aNGwOP12o11Go1FItFVKtVKIriPGYYBjRNg67rAIBcLoft7W2Ypont7W1kMhkoioLl5eWB51G8zFQANk0TlUoFlUrF+WK7LSwswDAM52ddPp+HrusH7hN5USwW8c477wDAgXSErVKpwDCMgcfsgLqysoJSqQTDMJx0RLFYhKIoSKc50WASzFQArtfr0DTNaXkMP2YfBLquo1arodlsOq0Q930iL1RVRbPZhGmaIwOmaZrOd6pS+WrCwHQ67aQebty4gU6n46Qg2u02FhYW0Grx6v4kiH0A7nQ60DTN+ZJOsrm56RwIw3mz7e1tLCwsAOjn32zpdPrAfSKvMpnMgQBrKxaLqNVqKJfL6PV6TlB1/8ra2dlBOp2GaZpODtl9m+It9qMgcrkcms0mVFVFpVLB7du38dFHHx3Yzw6ipmkeyJmtr69D07QDrQpN01CtVsfeJzpMpVKBpmlOELVpmoZ8Pu+c0JvNJhYWFpzcrj3iIZ1OQ1VVqKqKYrHojHawO+w0TXPyxSsrK8wHx0zsA7CiKM6XzjAMnD9/fuy+i4uLTj7N/UVVFAW1Wg2dTgc7Ozuo1WpOsLX3G75P0XbYsDG/KYriDEED4Ny20wn2PvbtUSfynZ0d57Z7RMSkbdVqlY2CGAt8QnYvTjIhu52ftVsTdmfFKKZpolQqIZVKoVKpQFEU6LrutI7tn4qtVgvtdhvpdNpJS7jvLy8vH6usFJwPP/wQzz33XNjFoBk06rvndUL22Adgu/OMudnZxgBMYTlJAA68Ey7oZelH/SwjIoqDQHPA1ooYgTZNeQkmEcVVYC1ga0l6XiNJRDRGkCmItJRybAC2Fu7cEkJs3b17N8BinEyj0cCVK1fQaDTCLgoRJUxQqyKrUsqJa8FJKetSypyUMnf58uUgiuGLtbU1dLtdrK2thV0UIkqYoHLAPSv/qwBICyEyUspYTqKwurqKtbU1rK6uhl0UOoo3Lvj8evcmPhzV6ShbrZazr3sc8rB8Pj8wxn1xcRHLy8soFotIpVID72UP27TrYNffvnwa6F/clMlkBuo/XGcv7ImK7FFOlUoFxWJx5LwaYdTppIJaFVkH+mkG9INwbDQaDSfglkol54/oKOzpKN0H6/B0lO12G/V6Ha+++io0TcO777478Lj7Agt7LohyuYx6vY5WqwVVVSdOR2kYBjY2Npzg7L4Sb9S+7gtBbLquD2zPZrMoFArQNA2XLl1ygqn7CtP19XVsbGygXC6PfD3DMDwPG9V13bmKsFQqDQTjw0yrTicR6DA0K82wEGbr96g53OXlZXS7XV5sQScW9nSUhmHANE2nDPZ+9qyAxWLRmY1t3GRB9nbTNLG+vu7MJKjr+sAx4i7D8vIyUqnUwLZOp+OcVIav3LPrOnzbfn/DMFAsFtFoNJzytFotFItFaJqGbDaLer3u3LdfJ+g6+SH2k/Ec5qg5XHuNJ64vRicV9nSU9vwR2WwW+Xx+oFzVahXNZhO1Wg26rqPX6zlTtdpBrNPpONuvXr2KQqGAcrmMjY2NkZML2UbNt2KfBAqFAjqdzkCrPZ1OO0HZfdt+/2q1CsMwBl5zc3MT+Xwe1WoVpmlCVVU0Gg3nhDWNOvkh8QF4dXUV8/Pz43O4b1wY+Kv+wxeYPy/w3fkHuHLhMTReOXtgHyIvojAdZblcdmZUs1fRAHAgmK2srDgtcjsAbm5uolqtOqkU+7nuYNhqtZDNZrG+vu683tbWFhYXF537duvX5nVSq83NTaiq6ry/u866ruPVV1916mK3lO0TVdB18ksiA7A77VAqlXDnzh3PedxS9jTu/Pgc3vvzPrr3JdbefxRwaSnJwpqO0p16ADAQnIZbcp1OZ+QcKrquI5frX01bqVSczrzFxUUnT1ooFKCq6sDzdV0fuD+cey6Xy+h0OhNz0vbrrKysAOgH7Vu3bjmP9Xo9KIoCwzCcMrqDZNB18kviAnCj0cDS0tKJh46tXj+D+fMCq9fP+Fg6mjX2yIfhFvCo6SjtqSXtEQ92ukFVVSwvL6PdbqNYLGJzc9PpDHJPR+kOaL1eD8ViEfl83smNptNpKIqCVCqFfD7vpD90XXdywvl83plX290qVFUVnU5/ZKmdJ7XL6E6h2AseNJtNGIaBVquFW7duIZ/PD/z1ej0nLWCP7hi+7X7/dDqNdDoNXdcHflHouo5sNgsATm7c3h5UnfwU68l4Rq18233rh9h/sAtAQJx5Ahdf+Gecu/bywD4DUxUeJ6VwyJAkmj5OxkNhifRkPNN24fmbEGeeAiAhH32Gex+8HXaRiIhGSlwAPnftZTx22kobiMdw4fnvh1sgIqIxEheAgX4r+NS5p5F66UcH0g9ERFER+yWJRjl37WUG3hkkpeT4bZqqk/ahJbIFfFyN7S9x5ecP0Nj+Muyi0BHNzc1hd3f3xAcEkVdSSuzu7mJubu7Yr5HIFvBxrb3/yBn7W8qeDrs4dATz8/PodruI8tSmlDxzc3OYn58/9vMZgF1Wr5/B2vuPOPY3hh5//HFcvXo17GIQHQkDsEspe5otXyKaGuaAiYhCwgBMRBQSBmAiopB4ygELIa4BUAFcArALQJdS/umQ59gTnOallNqJSklElECHtoCFELcA5AF8DKBj/fuStX3cczLoB94OgIy1RD0REbl4aQEvSClXhrb9Vgjxy3FPsJYg0oUQCgBj1PL01npxZQB45plnjlBkIqJk8BKADSHE6wB0AD0AKQAZAJNnU+7LjdtPSlkHUAf601F6Ki0RUYIcGoCllD8RQrwI4CUAF9APqO3DcsDWcztCiKIQoiCl9LaGChHRCZmm6Uz4XqlUnInah7en0+mB+4ZhoFarIZPJIJ/P+7oE/SheL8Tood/5Bte/YwkhqgB2rFauiX6rmSjRjnvQZzIZ6LqOTqfD1bh9Uq/XnVVA3EsPDW9fWFgYuJ/P56FpWuCB1+a1E+5FAAaANjx0wgGooZ+6UAEoViAmSjT74LYXghy3ffi+YRjY2NjA7u6hbZuZ1ul0oGmas0jpJJubm86yRe5lhIa3j9qvWq2iWCwOrM0XlKA64Qz0AzbQHzlBFBudTgftdhv5fB6GYTjrrw3TdR2GYSCdTiOTyWBzc9NpwQ4f9O7tvV5v4P5wK41Gy+VyaDabUFUVlUoFt2/fxkcffXRgP3sF5nFLyQ9vd99XVRWqqjpL17fb7YBq0+flQgxDCPG6EOI7Qohr1r+vw1snHFHs5HI5mKYJVVWxvb19YPXeVquFVquFdDqNQqEwcQXgcdsPWxGYDlIUxQmUhmHg/PnzY/ddXFx0ToLuYDu8fdR+9sKl03DUTjgFwB48dsIRxdHwgT6qFTWKfTBnMpmRB729fdx+UXDcPPbW1ha2t7cBYOC2n+wVkVutFqrVqrNS8ijlchmlUgmpVAorKyvO6s/D29Pp9MD9TqeDzc1NGIaBarXqex2GHboqshDivJTyvnX7RfSHoO1IKX/nVyH8XBXZC66KHC1R67zSdR21Ws1ZNt7dwnXrdDrOEumZTAamaToHc6VSgaIo0HUdqqoObHcf9O56bW1toVqtTq0DaJT19XUUCoUDaZHh7QsLCyP3s5d5D6IO9XodqqqODbpR4nVVZC854CqAJSHEH9HvhDMALAghfiGlXDphOekYvAYsRVFQrVads/moABYFx+2x1jQNGxsbvpdna2vLeZ9JhoOMoihoNpsD2+zXGN4+fD/I/K/XnDZwMF89bvtwHtvWbDYDq4ud/00SLzlge5Gtj6WUP5NS/lZK+R/ozwtBIfDa22635JrNJjRNG/s8v3jtpdZ1Ha1Wy+llPm6PtR2I/TYcHONuOKd9+/ZtJ4/t/rMdN4/darWQzWb9r4Cl3W7HovV7FF4CcFMI8Q4A6eqM+yn6Y4PJJ0EMsbF7g4F+S2zc8/ySlM6rpB3o0+q8arfbiWuhBs1LJ9y7QggDQAH9Vm8G/U64d4Mu3CwJaogNAGiahmq1ilKpNPZ5fpjlzisvGo0G1tbWsLq6ilKpNLX3nUbnFdD/zKc1esAPYX0ebp6uhJNSfiyEMAEsoH8l3GagpZpBx2mlHBawgK+C7zQC2PCBPsw+eQx3Xh33oDdNE9VqFVtbW+h0OpFvfWmahr29PWiaNtUD3mtOGzhZHjvoMbN+W1tbQ7fbxdJSvysrjCDsZRTEVQBNAL9E/yq4NPqzmJWklLf9KARHQXjveQfgubfd7nxJp9NYWFgYCGhBdMLFqZc6DBcvXnR+gezt7U3tffP5PGq1Gj+XIY1GA0tLS9jf38f8/Dzu3Lnj22v7OQripwBelFLaUeddAA0hxAaAGycoI7kE0UrJZDIHhmcF2cGUxF5qP62vrzs/eacpbi3TabFbvGF8JjYvAXjPFXwHtvtdmFmWhODFA32yUqkUWq6RRgv7M/EyCmJcoGUA9lHSet4pmRqNBq5cuYJGoxF2URLBSwu4Ys1qZo8HltbtqwCGJ+khCkwUeq09O07fAhD5qyztjqu1tbXofwbDItLf43ZoC1hKmZJSLkopc9affZsXYkwBWxxfcR/8cdTY/hJXfv4Aje0vwy7Ksa2urmJ+fj60nKmf7M/jtd99Htrn4mlZeiHEs0KIW0KIPwohfiGE+EbQBaO+uAcdP8X94F97/xG69yWWfv8wtkG4VCrhzp078Wv9jmB/Hr/57/9D977E2vuPpl4GLxOy/z36a7e1Afwr+qMgfiuE+M6E5yhCiIL1F/yUQgkW96DjB/tXAIBYH/yr18/glAD2JUI52GnQ6vUzmD8vcPPbX8P8eYHV62emXgYvLeCfSClfklL+SUr5sZSyZY1vm3QR/qsAUvY6cNYKyHQMSWpxHNfy8jK63W7sl+spZU/jF9+dw8U54NMvZSxbwVFKiZ20LKXsadz58Tlc/4bXldn8d5TJeDyTUtZdyxClMWJVDCFEWQixJYTYunv37lHfgpLqjQsH/sTD/vwPpmkidVag8crZg/vFRCl7Gk+eFjAfxrMVHKWUmF9lsVMRkUxBAOgJIZ51b7DuHxqYhRBpAD1riaIBVpDOSSlzly9f9lRYmk1VdQ6nrG/bXkwDl5v90zeMn7zH4jrRrV77pF/2a58Ab1xA45WzuHLhsYMnxSmw03MvvPDCiVrCYX4eXgKwBqBudb69bs2M1gTwLx6eW5BS+j9f4AyI0k+9sNk/3ZU54OIc4hO4xrB/+payp8MuypENlz3M1qOdnnvvvfdO1BIO8/PwMgztnpTyJQAtAPcA1KyhaPcnPU8IUZBSrlu3432JVwii9FMvCkrZ09jTzqOnnY9l4EqqKLTm49xR7Tn7bE0/6WkKSivgVoUQ9oUa2jHKNrMajQY+++wzKIoSyy8VzQ53S9h932+TJ976Ok794Jd4cwd407XfwKRbEeVpHPBRSSk7UsoFKWXW+uPS9EewtraGvb09PPXUUzM9+oH85Wday31RSRhpiAe3/4DuWz/E3f/8Gbpv/RAPbv9hau/tp/DGX5Bj+Oz++be+h1P33sbn3/rexDN/HM7wFB1+XkbsDrqr1884/07LvQ9+g/0Hu/j8w/cB+Tfc++BtnLv28tTe3y+BtIDpZM5dexnzP/pVLL9QFF1+5krdud8wOrEuPH8Tp849jSeeu45T557Ghee/P7X39hNbwEQzws+pF0vZ06F0hj64/Qfc++A3uPD8Tcz/6FdTf3+/sQWcYBzK5j/+n4bLTj3c++DtsIviCwbgCLI7GE7ascChbP7TNA3dbheaFv+BPXE8mdiph7imHIYxAEeQX2f5OI+PjCp7DcXD1lKMgzieoJPWP8IAHEF+neU5kY+/Go0GhBA4e/YshBCxajkOe+211/CXv/wFZ8+e5Qk6ROyEiyz/WlixWkkiwuzx2adOncIXX3wRi1Uhxg1j/POvfw1IiS8ePsKbO1+P3QUMScEWcAT53dFg/9RcWlqKdastbHZK5+bNm7FP7Tzx3D8C4jE88dz1sIsy09gCjqALz9/EvQ/e9q2jYXV1FUtLS9jf349Fqy0KRrcc+5e8/heAUz/4fiwvfbVdfuV14JXXwy7GzGMAjqBz114+eifDhCkASwDwT49j7f2/OdMI9p8T7QUgiZKOAXhGhDVwnojGYw6YiCgkDMAUuDgO+CeaBgbgBHNPGRimOA74Tyq/rrIkfwQWgIUQqhCiHdTr0+GG52kNIyA3Gg18+umnuHjxYqyHbSVF0uZSiLvAAjAnYQ/f8HIx0544u9FoYGlpCaZp4v79iStY0ZQkbS6FuOMoiAQbHvkwjYmz3eNnu2+tYH9/HwCwv7+PpX/7d7y58/UDz4nT+Nm4O9YQRwpMaAFYCFEGUAaAZ555JqxizJRpD0WzLyg5c+XbeHTnv9nqIhoSWgCWUtYB1AEgl8vFf2opOiCJrS33hOBJqxtNH0dBEB0BO7HIT0GOgigAyFn/EiUCO7HIT4GlIKSULQCtoF6fKAxJTKtQeJiCoMBx8D/RaAzAFDjmTYlGYwCmwDFvSjQaL8SgwDFvSjQaW8BERCFhACYiCgkDMBFRSBiAiYhCwgBMRBQSBmAiopAwABMRhYQBmIgoJAzAREQhYQAmIgoJAzARUUgCmwvCmojdBJCRUq4H9T5ERHEVSAvYXgXDWpreFEKoQbwPEVGcBZWCWARgWLcNAJmA3oeIKLaElP4vSCyEqAGoSSl1q/Wbl1JqQ/s4y9ID+DsA/+N7QSZ7GsAnU37PICSlHkBy6sJ6REsY9fiGlPLyYTsFlQM2AaQm7eBelj4MQogtKWUurPf3S1LqASSnLqxHtES5HkGlIDYBKNbtNIB2QO9DRBRbgQRga0XktN35ZnXGERGRS5DL0kd96Flo6Q+fJaUeQHLqwnpES2TrEUgnHBERHY5XwhERhYQBmIgoJDOzLL01NjmF/ugM3R6XLIRIoz9mOR9m+Y5iQl2a1i49KWUlrPJ5NaEeNWsXc3j8eBSNq4f12DKARSllMazyeTWqHkKIDIAmAN3arSSlNMMqoxcTvlcqAPtz0CJRDyll4v/Q/wKprvuK/S+AZQA7YZfRh7qUXbdr7n2i+DehHhkAadc+mbDLepx62LcBVAE0wy7nCT+Patjl86Ee6Sh+DolPQVgtXEW6hsJJ68wnpTRlf7RG+GdCDw6pS11+dUbfwVfjsCPnkHroUkpDCKGgH4j1ca8Ttkn1sFTRPxlGmod6pIUQVas1HFmH1KMAoCeEqAkhInNdQuIDMPpnPuPQveLBa13yAKI89npiPVw/e6NcB2BCPaw6mFLKOHz3Jn0edgC7BaBhBbmomlSPS+j/0q0AaEdlgrBZCMAG+h8MhBCKdQbcC7lMx3VoXaz8V0VGIb813sR6WK3gvPV4JA6UMSbVo4p+y7EGIGPNfRJVY+shpTSklEXr+7QBIK6fxy6+ymNHZoKwxAdguwUihFCtlEMFMW0RH1YXIUQV/XxdpOs3qR5DP3N3YR1QUTSpHlLKvOx3vGnodwRF9mKAI3weC4jwsXPI8aGj/8sQiNCv4pm5EMPVM9oDAOvDsYNWGf2rZW5FvOUIYHRdrN72G/Y29Ed2tEIqoidj6mF3XKWsbXEaPTDw3bIeUwA04loPK+VQtXYxZLxGpQwf6852GZFRQjMTgImIoibxKQgioqhiACYiCgkDMBFRSBiAiYhCwgBMRBQSBmAiopAwABMRhYQBmIgoJP8PNVaO/k3MRUcAAAAASUVORK5CYII=\n",
>>>>>>> 5a269485df4c340b0b052c3133c609c4eba543c8
      "text/plain": [
       "<Figure size 360x158.4 with 1 Axes>"
      ]
     },
     "metadata": {
      "needs_background": "light"
     },
     "output_type": "display_data"
    }
   ],
   "source": [
    "do_plot(df_YPD,'G1',(0,5),\n",
    "       outname='../figures/exp_40_generations.pdf')"
   ]
  },
  {
   "cell_type": "markdown",
   "metadata": {},
   "source": [
    "#### 40 °C repeat"
   ]
  },
  {
   "cell_type": "code",
   "execution_count": 4,
   "metadata": {},
<<<<<<< HEAD
   "outputs": [
    {
     "data": {
      "text/html": [
       "<div>\n",
       "<style scoped>\n",
       "    .dataframe tbody tr th:only-of-type {\n",
       "        vertical-align: middle;\n",
       "    }\n",
       "\n",
       "    .dataframe tbody tr th {\n",
       "        vertical-align: top;\n",
       "    }\n",
       "\n",
       "    .dataframe thead th {\n",
       "        text-align: right;\n",
       "    }\n",
       "</style>\n",
       "<table border=\"1\" class=\"dataframe\">\n",
       "  <thead>\n",
       "    <tr style=\"text-align: right;\">\n",
       "      <th></th>\n",
       "      <th>sc_1</th>\n",
       "      <th>sc_2</th>\n",
       "      <th>sc_3</th>\n",
       "      <th>sc_4</th>\n",
       "      <th>sc_5</th>\n",
       "      <th>km_1</th>\n",
       "      <th>km_2</th>\n",
       "      <th>km_3</th>\n",
       "      <th>km_4</th>\n",
       "      <th>km_5</th>\n",
       "    </tr>\n",
       "  </thead>\n",
       "  <tbody>\n",
       "    <tr>\n",
       "      <th>G1</th>\n",
       "      <td>3.18</td>\n",
       "      <td>3.64</td>\n",
       "      <td>3.32</td>\n",
       "      <td>3.64</td>\n",
       "      <td>3.58</td>\n",
       "      <td>2.94</td>\n",
       "      <td>3.10</td>\n",
       "      <td>3.54</td>\n",
       "      <td>3.64</td>\n",
       "      <td>3.26</td>\n",
       "    </tr>\n",
       "    <tr>\n",
       "      <th>G2</th>\n",
       "      <td>2.15</td>\n",
       "      <td>2.27</td>\n",
       "      <td>1.67</td>\n",
       "      <td>2.22</td>\n",
       "      <td>2.10</td>\n",
       "      <td>2.20</td>\n",
       "      <td>2.29</td>\n",
       "      <td>1.34</td>\n",
       "      <td>1.40</td>\n",
       "      <td>2.21</td>\n",
       "    </tr>\n",
       "    <tr>\n",
       "      <th>G3</th>\n",
       "      <td>1.01</td>\n",
       "      <td>0.96</td>\n",
       "      <td>1.78</td>\n",
       "      <td>1.02</td>\n",
       "      <td>1.01</td>\n",
       "      <td>1.98</td>\n",
       "      <td>1.81</td>\n",
       "      <td>1.54</td>\n",
       "      <td>1.79</td>\n",
       "      <td>1.78</td>\n",
       "    </tr>\n",
       "    <tr>\n",
       "      <th>G4</th>\n",
       "      <td>1.03</td>\n",
       "      <td>0.95</td>\n",
       "      <td>1.12</td>\n",
       "      <td>0.86</td>\n",
       "      <td>0.97</td>\n",
       "      <td>1.36</td>\n",
       "      <td>1.63</td>\n",
       "      <td>1.38</td>\n",
       "      <td>1.34</td>\n",
       "      <td>1.41</td>\n",
       "    </tr>\n",
       "    <tr>\n",
       "      <th>G5</th>\n",
       "      <td>0.86</td>\n",
       "      <td>0.97</td>\n",
       "      <td>0.88</td>\n",
       "      <td>0.76</td>\n",
       "      <td>0.83</td>\n",
       "      <td>1.30</td>\n",
       "      <td>1.20</td>\n",
       "      <td>1.15</td>\n",
       "      <td>1.03</td>\n",
       "      <td>1.23</td>\n",
       "    </tr>\n",
       "    <tr>\n",
       "      <th>G6</th>\n",
       "      <td>0.62</td>\n",
       "      <td>0.98</td>\n",
       "      <td>0.92</td>\n",
       "      <td>0.55</td>\n",
       "      <td>0.70</td>\n",
       "      <td>1.48</td>\n",
       "      <td>1.42</td>\n",
       "      <td>1.43</td>\n",
       "      <td>1.23</td>\n",
       "      <td>1.38</td>\n",
       "    </tr>\n",
       "    <tr>\n",
       "      <th>G7</th>\n",
       "      <td>0.68</td>\n",
       "      <td>0.97</td>\n",
       "      <td>0.98</td>\n",
       "      <td>0.65</td>\n",
       "      <td>0.81</td>\n",
       "      <td>1.43</td>\n",
       "      <td>1.45</td>\n",
       "      <td>1.31</td>\n",
       "      <td>1.37</td>\n",
       "      <td>1.21</td>\n",
       "    </tr>\n",
       "  </tbody>\n",
       "</table>\n",
       "</div>"
      ],
      "text/plain": [
       "    sc_1  sc_2  sc_3  sc_4  sc_5  km_1  km_2  km_3  km_4  km_5\n",
       "G1  3.18  3.64  3.32  3.64  3.58  2.94  3.10  3.54  3.64  3.26\n",
       "G2  2.15  2.27  1.67  2.22  2.10  2.20  2.29  1.34  1.40  2.21\n",
       "G3  1.01  0.96  1.78  1.02  1.01  1.98  1.81  1.54  1.79  1.78\n",
       "G4  1.03  0.95  1.12  0.86  0.97  1.36  1.63  1.38  1.34  1.41\n",
       "G5  0.86  0.97  0.88  0.76  0.83  1.30  1.20  1.15  1.03  1.23\n",
       "G6  0.62  0.98  0.92  0.55  0.70  1.48  1.42  1.43  1.23  1.38\n",
       "G7  0.68  0.97  0.98  0.65  0.81  1.43  1.45  1.31  1.37  1.21"
      ]
     },
     "execution_count": 4,
     "metadata": {},
     "output_type": "execute_result"
    }
   ],
   "source": [
    "\n",
    "data = {\n",
    "    'sc_1': [0.159*20,2.15,1.01,1.03,0.86,0.62,0.68],\n",
    "    'sc_2': [0.182*20,2.27,0.96,0.95,0.97,0.98,0.97],\n",
    "    'sc_3': [0.166*20,1.67,1.78,1.12,0.88,0.92,0.98],\n",
    "    'sc_4': [0.182*20,2.22,1.02,0.86,0.76,0.55,0.65],\n",
    "    'sc_5': [0.179*20,2.10,1.01,0.97,0.83,0.70,0.81],\n",
    "    'km_1': [0.147*20,2.20,1.98,1.36,1.30,1.48,1.43],\n",
    "    'km_2': [0.155*20,2.29,1.81,1.63,1.20,1.42,1.45],\n",
    "    'km_3': [0.177*20,1.34,1.54,1.38,1.15,1.43,1.31],\n",
    "    'km_4': [0.182*20,1.40,1.79,1.34,1.03,1.23,1.37],\n",
    "    'km_5': [0.163*20,2.21,1.78,1.41,1.23,1.38,1.21],\n",
    "}\n",
    "df_YPD_re = pd.DataFrame(data=data,index=['G{0}'.format(i+1) for i in range(len(data['sc_1']))])\n",
    "df_YPD_re"
   ]
  },
  {
   "cell_type": "code",
   "execution_count": 11,
   "metadata": {},
   "outputs": [
    {
     "name": "stdout",
     "output_type": "stream",
     "text": [
      "0.3071766486653719\n",
      "0.43806217285854876\n",
      "0.006582026069128921\n",
      "0.00020434428373136535\n",
      "0.0004603664241351136\n",
      "0.00014779781030237565\n",
      "0.0001815580117326102\n"
     ]
    },
    {
     "data": {
      "image/png": "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\n",
      "text/plain": [
       "<Figure size 360x158.4 with 1 Axes>"
      ]
     },
     "metadata": {
      "needs_background": "light"
     },
     "output_type": "display_data"
    }
   ],
   "source": [
    "do_plot(df_YPD_re,'G1',(0,5),\n",
    "       outname='../figures/exp_40_re_generations.pdf')"
   ]
  },
  {
   "cell_type": "code",
   "execution_count": null,
   "metadata": {},
=======
>>>>>>> 5a269485df4c340b0b052c3133c609c4eba543c8
   "outputs": [],
   "source": []
  }
 ],
 "metadata": {
  "kernelspec": {
   "display_name": "Python 3",
   "language": "python",
   "name": "python3"
  },
  "language_info": {
   "codemirror_mode": {
    "name": "ipython",
    "version": 3
   },
   "file_extension": ".py",
   "mimetype": "text/x-python",
   "name": "python",
   "nbconvert_exporter": "python",
   "pygments_lexer": "ipython3",
   "version": "3.7.2"
  }
 },
 "nbformat": 4,
 "nbformat_minor": 2
}
