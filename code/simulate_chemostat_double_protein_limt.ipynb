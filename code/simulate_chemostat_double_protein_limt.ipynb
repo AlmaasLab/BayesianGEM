{
 "cells": [
  {
   "cell_type": "code",
   "execution_count": 1,
   "metadata": {},
   "outputs": [],
   "source": [
    "import numpy as np\n",
    "import pandas as pd\n",
    "import pickle\n",
    "import GEMS\n",
    "import os\n",
    "from multiprocessing import Process,cpu_count,Manager\n",
    "from etcpy import etc"
   ]
  },
  {
   "cell_type": "code",
   "execution_count": 3,
   "metadata": {},
   "outputs": [],
   "source": [
    "def chemostat_double_protein_limt(thermalParams,Ts):\n",
    "    df,new_params = GEMS.format_input(thermalParams)\n",
    "    \n",
    "    mae = pickle.load(open('../models/aerobic.pkl','rb'))\n",
    "    mae.reactions.get_by_id('prot_pool_exchange').upper_bound *=2\n",
    "    print(mae.reactions.get_by_id('prot_pool_exchange').upper_bound)\n",
    "    growth_id = 'r_2111'\n",
    "    glc_up_id = 'r_1714_REV'\n",
    "    prot_pool_id = 'prot_pool_exchange'\n",
    "    dilut = 0.1\n",
    "    sigma = 1.0\n",
    "\n",
    "    met_names = ['Glucose','CO2','Ethanol']\n",
    "    \n",
    "    try:\n",
    "        solution = etc.simulate_chomostat(mae,dilut,new_params,Ts+273.15,\n",
    "                                          sigma,growth_id,glc_up_id,prot_pool_id)\n",
    "    \n",
    "    except: solution = None\n",
    "\n",
    "    return solution"
   ]
  },
  {
   "cell_type": "code",
   "execution_count": 3,
   "metadata": {},
   "outputs": [],
   "source": [
    "def worker(particle,index,Q,Ts):\n",
    "    \n",
    "    results = chemostat_double_protein_limt(particle,Ts)\n",
    "    \n",
    "    Q.put((index,results))"
   ]
  },
  {
   "cell_type": "code",
   "execution_count": 4,
   "metadata": {},
   "outputs": [],
   "source": [
    "outfile = '../results/chemostat_double_protein_limt.pkl'"
   ]
  },
  {
   "cell_type": "code",
   "execution_count": null,
   "metadata": {},
   "outputs": [],
   "source": [
    "particles = pickle.load(open('../results/smcabc_gem_three_conditions_save_all_particles.pkl','rb')).population\n",
    "Ts = np.arange(30,45,0.5)\n",
    "Q = Manager().Queue()\n",
    "jobs = [Process(target=worker,args=(particle,index,Q,Ts)) \n",
    "                               for index,particle in enumerate(particles)]\n",
    "\n",
    "for p in jobs: p.start()\n",
    "for p in jobs: p.join()\n",
    "\n",
    "\n",
    "# In[ ]:\n",
    "\n",
    "\n",
    "results_population = [None for _ in particles] \n",
    "for index,res in [Q.get(timeout=1) for p in jobs]: results_population[index] = res\n",
    "pickle.dump([Ts,results_population],open(outfile,'wb'))"
   ]
  },
  {
   "cell_type": "code",
   "execution_count": null,
   "metadata": {},
   "outputs": [],
   "source": []
  }
 ],
 "metadata": {
  "kernelspec": {
   "display_name": "Python 3",
   "language": "python",
   "name": "python3"
  },
  "language_info": {
   "codemirror_mode": {
    "name": "ipython",
    "version": 3
   },
   "file_extension": ".py",
   "mimetype": "text/x-python",
   "name": "python",
   "nbconvert_exporter": "python",
   "pygments_lexer": "ipython3",
   "version": "3.6.7"
  }
 },
 "nbformat": 4,
 "nbformat_minor": 4
}
