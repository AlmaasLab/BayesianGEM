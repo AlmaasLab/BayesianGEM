{
 "cells": [
  {
   "cell_type": "code",
   "execution_count": 4,
   "metadata": {},
   "outputs": [],
   "source": [
    "import numpy as np\n",
    "import pandas as pd\n",
    "import pickle\n",
    "import GEMS\n",
    "import os\n",
    "from multiprocessing import Process,cpu_count,Manager\n",
    "from etcpy import etc"
   ]
  },
  {
   "cell_type": "code",
   "execution_count": 8,
   "metadata": {},
   "outputs": [],
   "source": [
    "def get_target_rxns(model):\n",
    "    topt_exp = {}\n",
    "    for line in open('../data/1_temperature_optimum_data_filtered_assay_at.tsv'):\n",
    "        if line.startswith('ec'): continue\n",
    "        cont = line.split()\n",
    "        topts = [float(item) for item in cont[2].split(',')]\n",
    "        topt_exp[cont[-1]] = topt_exp.get(cont[-1],[]) + topts\n",
    "        \n",
    "    rxns = []\n",
    "    for uni in topt_exp.keys(): \n",
    "        try:\n",
    "            met_prot = model.metabolites.get_by_id('prot_{0}'.format(uni))\n",
    "            lst = [rxn.id for rxn in met_prot.reactions if 'prot_pool' not in rxn.reaction]\n",
    "            rxns.extend(lst)\n",
    "        except: continue\n",
    "    return rxns,topt_exp"
   ]
  },
  {
   "cell_type": "code",
   "execution_count": 9,
   "metadata": {},
   "outputs": [],
   "source": [
    "def set_temperature_constraints(model,particle,T):\n",
    "    df,_ = GEMS.format_input(particle)\n",
    "    \n",
    "    etc.map_fNT(model,T,df)\n",
    "    etc.map_kcatT(model,T,df)\n",
    "    etc.set_NGAMT(model,T)\n",
    "    etc.set_sigma(model,0.5)"
   ]
  },
  {
   "cell_type": "code",
   "execution_count": 10,
   "metadata": {},
   "outputs": [],
   "source": [
    "def get_flux_range_through_given_rxn(model,rxn_id,growth_id):\n",
    "\n",
    "    with model:\n",
    "        rmax = model.optimize().objective_value\n",
    "        model.reactions.get_by_id(growth_id).upper_bound = rmax*0.999\n",
    "        \n",
    "        model.objective = rxn_id\n",
    "        model.objective.direction = 'max'\n",
    "        vmax = model.optimize().objective_value\n",
    "        \n",
    "        model.objective.direction = 'min'\n",
    "        vmin = model.optimize().objective_value\n",
    "\n",
    "    return vmin,vmax"
   ]
  },
  {
   "cell_type": "code",
   "execution_count": 28,
   "metadata": {},
   "outputs": [],
   "source": [
    "def simulate_one_particle(particle,T,target_rxns):\n",
    "    growth_id = 'r_2111'\n",
    "    print('Load model')\n",
    "    mae = pickle.load(open('../models/aerobic.pkl','rb'))\n",
    "    \n",
    "    print('Set temperature constraits')\n",
    "    set_temperature_constraints(mae,particle,T)\n",
    "    \n",
    "    print('Get vmax, vmin')\n",
    "    # This is to avoid some unbounded results\n",
    "    for rxn_id in target_rxns:\n",
    "        mae.reactions.get_by_id(rxn_id).upper_bound = 1000\n",
    "    \n",
    "    fvas = {}\n",
    "    for rxn_id in target_rxns:\n",
    "        try:\n",
    "            vmin,vmax = get_flux_range_through_given_rxn(mae,rxn_id,growth_id)\n",
    "            fvas[rxn_id] = [vmin,vmax]\n",
    "        except:\n",
    "            fvas[rxn_id] = [None,None]\n",
    "    return fvas"
   ]
  },
  {
   "cell_type": "code",
   "execution_count": 23,
   "metadata": {},
   "outputs": [],
   "source": [
    "def worker(particle,index,Q,target_rxns):\n",
    "    results = {32:None,40:None}\n",
    "    #try:\n",
    "    results[32] = simulate_one_particle(particle,32+273.15,target_rxns)\n",
    "    results[40] = simulate_one_particle(particle,40+273.15,target_rxns)\n",
    "    #except: None\n",
    "    Q.put((index,results))"
   ]
  },
  {
   "cell_type": "code",
   "execution_count": 87,
   "metadata": {},
   "outputs": [],
   "source": [
    "outfile = '../results/32_vs_40_topt_exp_rxns.pkl'\n",
    "particles = pickle.load(open('../results/smcabc_gem_three_conditions_save_all_particles.pkl','rb')).population\n",
    "\n",
    "mae = pickle.load(open('../models/aerobic.pkl','rb'))\n",
    "target_rxns,topt_exp = get_target_rxns(mae)\n",
    "\n",
    "Q = Manager().Queue()\n",
    "jobs = [Process(target=worker,args=(particle,index,Q,target_rxns)) \n",
    "                               for index,particle in enumerate(particles)]\n",
    "\n",
    "for p in jobs: p.start()\n",
    "for p in jobs: p.join()\n",
    "\n",
    "\n",
    "# In[ ]:\n",
    "\n",
    "\n",
    "results_population = [None for _ in particles] \n",
    "for index,res in [Q.get(timeout=1) for p in jobs]: results_population[index] = res\n",
    "pickle.dump([topt_exp,results_population],open(outfile,'wb'))"
   ]
  }
 ],
 "metadata": {
  "kernelspec": {
   "display_name": "Python 3",
   "language": "python",
   "name": "python3"
  },
  "language_info": {
   "codemirror_mode": {
    "name": "ipython",
    "version": 3
   },
   "file_extension": ".py",
   "mimetype": "text/x-python",
   "name": "python",
   "nbconvert_exporter": "python",
   "pygments_lexer": "ipython3",
   "version": "3.6.7"
  }
 },
 "nbformat": 4,
 "nbformat_minor": 4
}
