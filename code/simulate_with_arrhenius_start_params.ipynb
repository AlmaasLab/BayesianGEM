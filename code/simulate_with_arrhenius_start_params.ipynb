{
 "cells": [
  {
   "cell_type": "code",
   "execution_count": 76,
   "metadata": {},
   "outputs": [],
   "source": [
    "import GEMS\n",
    "import pandas as pd\n",
    "import numpy as np\n",
    "import os\n",
    "import cobra\n",
    "\n",
    "import pickle\n",
    "from arrhenius_etcpy import arrhenius_etc\n",
    "from sklearn.metrics import mean_squared_error as MSE\n",
    "from sklearn.metrics import r2_score\n",
    "\n",
    "import matplotlib.pyplot as plt"
   ]
  },
  {
   "cell_type": "code",
   "execution_count": 77,
   "metadata": {},
   "outputs": [
    {
     "name": "stdout",
     "output_type": "stream",
     "text": [
      "Parameter Threads unchanged\n",
      "   Value: 4  Min: 0  Max: 1024  Default: 0\n"
     ]
    }
   ],
   "source": [
    "path = '../'\n",
    "params = pd.read_csv(os.path.join(path,'data/model_enzyme_params.csv'),index_col=0)\n",
    "dfae_batch,dfan_batch = GEMS.load_exp_batch_data(os.path.join(path,'data/ExpGrowth.tsv'))\n",
    "dfchemo = pd.read_csv(os.path.join(path,'data/Chemostat_exp_data.txt'),sep='\\t',index_col=0)"
   ]
  },
  {
   "cell_type": "code",
   "execution_count": 78,
   "metadata": {},
   "outputs": [],
   "source": [
    "def aerobic(params):\n",
    "    # thermalParams: a dictionary with ids like uniprotid_Topt \n",
    "    df = arrhenius_etc.calculate_thermal_params(params)\n",
    "    mae = pickle.load(open(os.path.join(path,'models/aerobic.pkl'),'rb'))\n",
    "    \n",
    "    try: rae = arrhenius_etc.simulate_growth(mae,dfae_batch.index+273.15,df=df,sigma=0.5)\n",
    "    except: rae = np.zeros(dfae_batch.shape[0])\n",
    "    \n",
    "    rae = [0 if x is None else x for x in rae]\n",
    "    rae = [0 if x<1e-3 else x for x in rae]\n",
    "    print(rae)\n",
    "    rexp = GEMS.aerobic_exp_data()['data']\n",
    "    \n",
    "    print('r2_batch:',r2_score(rexp,rae))\n",
    "    print('MSE_ae',MSE(rexp,rae))\n",
    "    return {'data':np.array(rae)}"
   ]
  },
  {
   "cell_type": "code",
   "execution_count": 79,
   "metadata": {},
   "outputs": [
    {
     "data": {
      "text/html": [
       "<div>\n",
       "<style scoped>\n",
       "    .dataframe tbody tr th:only-of-type {\n",
       "        vertical-align: middle;\n",
       "    }\n",
       "\n",
       "    .dataframe tbody tr th {\n",
       "        vertical-align: top;\n",
       "    }\n",
       "\n",
       "    .dataframe thead th {\n",
       "        text-align: right;\n",
       "    }\n",
       "</style>\n",
       "<table border=\"1\" class=\"dataframe\">\n",
       "  <thead>\n",
       "    <tr style=\"text-align: right;\">\n",
       "      <th></th>\n",
       "      <th>Topt</th>\n",
       "      <th>Topt_std</th>\n",
       "      <th>Length</th>\n",
       "      <th>Tm</th>\n",
       "      <th>Tm_std</th>\n",
       "      <th>T90</th>\n",
       "      <th>dCpt</th>\n",
       "      <th>dCpt_std</th>\n",
       "    </tr>\n",
       "  </thead>\n",
       "  <tbody>\n",
       "    <tr>\n",
       "      <th>O13525</th>\n",
       "      <td>310.15</td>\n",
       "      <td>13</td>\n",
       "      <td>335</td>\n",
       "      <td>324.625351</td>\n",
       "      <td>5.91247</td>\n",
       "      <td>NaN</td>\n",
       "      <td>-6300</td>\n",
       "      <td>2000</td>\n",
       "    </tr>\n",
       "    <tr>\n",
       "      <th>P00044</th>\n",
       "      <td>314.15</td>\n",
       "      <td>13</td>\n",
       "      <td>109</td>\n",
       "      <td>321.817780</td>\n",
       "      <td>3.40000</td>\n",
       "      <td>324.65</td>\n",
       "      <td>-6300</td>\n",
       "      <td>2000</td>\n",
       "    </tr>\n",
       "    <tr>\n",
       "      <th>P00045</th>\n",
       "      <td>317.15</td>\n",
       "      <td>13</td>\n",
       "      <td>113</td>\n",
       "      <td>324.625351</td>\n",
       "      <td>5.91247</td>\n",
       "      <td>NaN</td>\n",
       "      <td>-6300</td>\n",
       "      <td>2000</td>\n",
       "    </tr>\n",
       "    <tr>\n",
       "      <th>P00127</th>\n",
       "      <td>317.15</td>\n",
       "      <td>13</td>\n",
       "      <td>147</td>\n",
       "      <td>324.625351</td>\n",
       "      <td>5.91247</td>\n",
       "      <td>NaN</td>\n",
       "      <td>-6300</td>\n",
       "      <td>2000</td>\n",
       "    </tr>\n",
       "    <tr>\n",
       "      <th>P00128</th>\n",
       "      <td>309.15</td>\n",
       "      <td>13</td>\n",
       "      <td>127</td>\n",
       "      <td>324.625351</td>\n",
       "      <td>5.91247</td>\n",
       "      <td>NaN</td>\n",
       "      <td>-6300</td>\n",
       "      <td>2000</td>\n",
       "    </tr>\n",
       "    <tr>\n",
       "      <th>...</th>\n",
       "      <td>...</td>\n",
       "      <td>...</td>\n",
       "      <td>...</td>\n",
       "      <td>...</td>\n",
       "      <td>...</td>\n",
       "      <td>...</td>\n",
       "      <td>...</td>\n",
       "      <td>...</td>\n",
       "    </tr>\n",
       "    <tr>\n",
       "      <th>P81451</th>\n",
       "      <td>307.15</td>\n",
       "      <td>13</td>\n",
       "      <td>68</td>\n",
       "      <td>324.625351</td>\n",
       "      <td>5.91247</td>\n",
       "      <td>NaN</td>\n",
       "      <td>-6300</td>\n",
       "      <td>2000</td>\n",
       "    </tr>\n",
       "    <tr>\n",
       "      <th>P00401</th>\n",
       "      <td>310.15</td>\n",
       "      <td>13</td>\n",
       "      <td>534</td>\n",
       "      <td>324.625351</td>\n",
       "      <td>5.91247</td>\n",
       "      <td>NaN</td>\n",
       "      <td>-6300</td>\n",
       "      <td>2000</td>\n",
       "    </tr>\n",
       "    <tr>\n",
       "      <th>P00410</th>\n",
       "      <td>308.15</td>\n",
       "      <td>13</td>\n",
       "      <td>251</td>\n",
       "      <td>324.625351</td>\n",
       "      <td>5.91247</td>\n",
       "      <td>NaN</td>\n",
       "      <td>-6300</td>\n",
       "      <td>2000</td>\n",
       "    </tr>\n",
       "    <tr>\n",
       "      <th>P00420</th>\n",
       "      <td>311.15</td>\n",
       "      <td>13</td>\n",
       "      <td>269</td>\n",
       "      <td>324.625351</td>\n",
       "      <td>5.91247</td>\n",
       "      <td>NaN</td>\n",
       "      <td>-6300</td>\n",
       "      <td>2000</td>\n",
       "    </tr>\n",
       "    <tr>\n",
       "      <th>P00163</th>\n",
       "      <td>309.15</td>\n",
       "      <td>13</td>\n",
       "      <td>385</td>\n",
       "      <td>324.625351</td>\n",
       "      <td>5.91247</td>\n",
       "      <td>NaN</td>\n",
       "      <td>-6300</td>\n",
       "      <td>2000</td>\n",
       "    </tr>\n",
       "  </tbody>\n",
       "</table>\n",
       "<p>764 rows × 8 columns</p>\n",
       "</div>"
      ],
      "text/plain": [
       "          Topt  Topt_std  Length          Tm   Tm_std     T90  dCpt  dCpt_std\n",
       "O13525  310.15        13     335  324.625351  5.91247     NaN -6300      2000\n",
       "P00044  314.15        13     109  321.817780  3.40000  324.65 -6300      2000\n",
       "P00045  317.15        13     113  324.625351  5.91247     NaN -6300      2000\n",
       "P00127  317.15        13     147  324.625351  5.91247     NaN -6300      2000\n",
       "P00128  309.15        13     127  324.625351  5.91247     NaN -6300      2000\n",
       "...        ...       ...     ...         ...      ...     ...   ...       ...\n",
       "P81451  307.15        13      68  324.625351  5.91247     NaN -6300      2000\n",
       "P00401  310.15        13     534  324.625351  5.91247     NaN -6300      2000\n",
       "P00410  308.15        13     251  324.625351  5.91247     NaN -6300      2000\n",
       "P00420  311.15        13     269  324.625351  5.91247     NaN -6300      2000\n",
       "P00163  309.15        13     385  324.625351  5.91247     NaN -6300      2000\n",
       "\n",
       "[764 rows x 8 columns]"
      ]
     },
     "execution_count": 79,
     "metadata": {},
     "output_type": "execute_result"
    }
   ],
   "source": [
    "params"
   ]
  },
  {
   "cell_type": "code",
   "execution_count": 80,
   "metadata": {},
   "outputs": [],
   "source": [
    "useable_T90_frame = (\n",
    "    params.\n",
    "    loc[np.isfinite(params['T90'])].\n",
    "    assign(melting_point_difference = lambda df: df.T90 - df.Tm)\n",
    "    )\n",
    "melting_point_difference_mean = useable_T90_frame['melting_point_difference'].mean()"
   ]
  },
  {
   "cell_type": "code",
   "execution_count": 81,
   "metadata": {},
   "outputs": [
    {
     "data": {
      "text/plain": [
       "3.0549373458113154"
      ]
     },
     "execution_count": 81,
     "metadata": {},
     "output_type": "execute_result"
    }
   ],
   "source": [
    "melting_point_difference_mean"
   ]
  },
  {
   "cell_type": "code",
   "execution_count": 82,
   "metadata": {},
   "outputs": [
    {
     "name": "stderr",
     "output_type": "stream",
     "text": [
      "/tmp/ipykernel_2168539/2304606689.py:1: SettingWithCopyWarning: \n",
      "A value is trying to be set on a copy of a slice from a DataFrame\n",
      "\n",
      "See the caveats in the documentation: https://pandas.pydata.org/pandas-docs/stable/user_guide/indexing.html#returning-a-view-versus-a-copy\n",
      "  params.T90[np.isnan(params.T90)] = params.Tm + melting_point_difference_mean\n"
     ]
    }
   ],
   "source": [
    "params.T90[np.isnan(params.T90)] = params.Tm + melting_point_difference_mean"
   ]
  },
  {
   "cell_type": "code",
   "execution_count": 83,
   "metadata": {},
   "outputs": [
    {
     "data": {
      "text/html": [
       "<div>\n",
       "<style scoped>\n",
       "    .dataframe tbody tr th:only-of-type {\n",
       "        vertical-align: middle;\n",
       "    }\n",
       "\n",
       "    .dataframe tbody tr th {\n",
       "        vertical-align: top;\n",
       "    }\n",
       "\n",
       "    .dataframe thead th {\n",
       "        text-align: right;\n",
       "    }\n",
       "</style>\n",
       "<table border=\"1\" class=\"dataframe\">\n",
       "  <thead>\n",
       "    <tr style=\"text-align: right;\">\n",
       "      <th></th>\n",
       "      <th>Ea</th>\n",
       "      <th>dHeq</th>\n",
       "      <th>Tm</th>\n",
       "      <th>Topt</th>\n",
       "    </tr>\n",
       "  </thead>\n",
       "  <tbody>\n",
       "    <tr>\n",
       "      <th>O13525</th>\n",
       "      <td>63608.464130</td>\n",
       "      <td>636084.641304</td>\n",
       "      <td>324.625351</td>\n",
       "      <td>310.15</td>\n",
       "    </tr>\n",
       "    <tr>\n",
       "      <th>P00044</th>\n",
       "      <td>67388.060553</td>\n",
       "      <td>673880.605530</td>\n",
       "      <td>321.817780</td>\n",
       "      <td>314.15</td>\n",
       "    </tr>\n",
       "    <tr>\n",
       "      <th>P00045</th>\n",
       "      <td>63608.464130</td>\n",
       "      <td>636084.641304</td>\n",
       "      <td>324.625351</td>\n",
       "      <td>317.15</td>\n",
       "    </tr>\n",
       "    <tr>\n",
       "      <th>P00127</th>\n",
       "      <td>63608.464130</td>\n",
       "      <td>636084.641304</td>\n",
       "      <td>324.625351</td>\n",
       "      <td>317.15</td>\n",
       "    </tr>\n",
       "    <tr>\n",
       "      <th>P00128</th>\n",
       "      <td>63608.464130</td>\n",
       "      <td>636084.641304</td>\n",
       "      <td>324.625351</td>\n",
       "      <td>309.15</td>\n",
       "    </tr>\n",
       "    <tr>\n",
       "      <th>...</th>\n",
       "      <td>...</td>\n",
       "      <td>...</td>\n",
       "      <td>...</td>\n",
       "      <td>...</td>\n",
       "    </tr>\n",
       "    <tr>\n",
       "      <th>P81451</th>\n",
       "      <td>63608.464130</td>\n",
       "      <td>636084.641304</td>\n",
       "      <td>324.625351</td>\n",
       "      <td>307.15</td>\n",
       "    </tr>\n",
       "    <tr>\n",
       "      <th>P00401</th>\n",
       "      <td>63608.464130</td>\n",
       "      <td>636084.641304</td>\n",
       "      <td>324.625351</td>\n",
       "      <td>310.15</td>\n",
       "    </tr>\n",
       "    <tr>\n",
       "      <th>P00410</th>\n",
       "      <td>63608.464130</td>\n",
       "      <td>636084.641304</td>\n",
       "      <td>324.625351</td>\n",
       "      <td>308.15</td>\n",
       "    </tr>\n",
       "    <tr>\n",
       "      <th>P00420</th>\n",
       "      <td>63608.464130</td>\n",
       "      <td>636084.641304</td>\n",
       "      <td>324.625351</td>\n",
       "      <td>311.15</td>\n",
       "    </tr>\n",
       "    <tr>\n",
       "      <th>P00163</th>\n",
       "      <td>63608.464130</td>\n",
       "      <td>636084.641304</td>\n",
       "      <td>324.625351</td>\n",
       "      <td>309.15</td>\n",
       "    </tr>\n",
       "  </tbody>\n",
       "</table>\n",
       "<p>764 rows × 4 columns</p>\n",
       "</div>"
      ],
      "text/plain": [
       "                  Ea           dHeq          Tm    Topt\n",
       "O13525  63608.464130  636084.641304  324.625351  310.15\n",
       "P00044  67388.060553  673880.605530  321.817780  314.15\n",
       "P00045  63608.464130  636084.641304  324.625351  317.15\n",
       "P00127  63608.464130  636084.641304  324.625351  317.15\n",
       "P00128  63608.464130  636084.641304  324.625351  309.15\n",
       "...              ...            ...         ...     ...\n",
       "P81451  63608.464130  636084.641304  324.625351  307.15\n",
       "P00401  63608.464130  636084.641304  324.625351  310.15\n",
       "P00410  63608.464130  636084.641304  324.625351  308.15\n",
       "P00420  63608.464130  636084.641304  324.625351  311.15\n",
       "P00163  63608.464130  636084.641304  324.625351  309.15\n",
       "\n",
       "[764 rows x 4 columns]"
      ]
     },
     "execution_count": 83,
     "metadata": {},
     "output_type": "execute_result"
    }
   ],
   "source": [
    "thermalparams = arrhenius_etc.calculate_thermal_params(params=params)\n",
    "thermalparams"
   ]
  },
  {
   "cell_type": "code",
   "execution_count": 84,
   "metadata": {},
   "outputs": [
    {
     "data": {
      "text/html": [
       "<div>\n",
       "<style scoped>\n",
       "    .dataframe tbody tr th:only-of-type {\n",
       "        vertical-align: middle;\n",
       "    }\n",
       "\n",
       "    .dataframe tbody tr th {\n",
       "        vertical-align: top;\n",
       "    }\n",
       "\n",
       "    .dataframe thead th {\n",
       "        text-align: right;\n",
       "    }\n",
       "</style>\n",
       "<table border=\"1\" class=\"dataframe\">\n",
       "  <thead>\n",
       "    <tr style=\"text-align: right;\">\n",
       "      <th></th>\n",
       "      <th>enzyme</th>\n",
       "      <th>Temperature</th>\n",
       "      <th>fNT</th>\n",
       "    </tr>\n",
       "  </thead>\n",
       "  <tbody>\n",
       "    <tr>\n",
       "      <th>0</th>\n",
       "      <td>O13525</td>\n",
       "      <td>10.00000</td>\n",
       "      <td>1.000000</td>\n",
       "    </tr>\n",
       "    <tr>\n",
       "      <th>1</th>\n",
       "      <td>O13525</td>\n",
       "      <td>10.04004</td>\n",
       "      <td>1.000000</td>\n",
       "    </tr>\n",
       "    <tr>\n",
       "      <th>2</th>\n",
       "      <td>O13525</td>\n",
       "      <td>10.08008</td>\n",
       "      <td>1.000000</td>\n",
       "    </tr>\n",
       "    <tr>\n",
       "      <th>3</th>\n",
       "      <td>O13525</td>\n",
       "      <td>10.12012</td>\n",
       "      <td>1.000000</td>\n",
       "    </tr>\n",
       "    <tr>\n",
       "      <th>4</th>\n",
       "      <td>O13525</td>\n",
       "      <td>10.16016</td>\n",
       "      <td>1.000000</td>\n",
       "    </tr>\n",
       "    <tr>\n",
       "      <th>...</th>\n",
       "      <td>...</td>\n",
       "      <td>...</td>\n",
       "      <td>...</td>\n",
       "    </tr>\n",
       "    <tr>\n",
       "      <th>763995</th>\n",
       "      <td>P00163</td>\n",
       "      <td>49.83984</td>\n",
       "      <td>0.767349</td>\n",
       "    </tr>\n",
       "    <tr>\n",
       "      <th>763996</th>\n",
       "      <td>P00163</td>\n",
       "      <td>49.87988</td>\n",
       "      <td>0.762066</td>\n",
       "    </tr>\n",
       "    <tr>\n",
       "      <th>763997</th>\n",
       "      <td>P00163</td>\n",
       "      <td>49.91992</td>\n",
       "      <td>0.756703</td>\n",
       "    </tr>\n",
       "    <tr>\n",
       "      <th>763998</th>\n",
       "      <td>P00163</td>\n",
       "      <td>49.95996</td>\n",
       "      <td>0.751260</td>\n",
       "    </tr>\n",
       "    <tr>\n",
       "      <th>763999</th>\n",
       "      <td>P00163</td>\n",
       "      <td>50.00000</td>\n",
       "      <td>0.745737</td>\n",
       "    </tr>\n",
       "  </tbody>\n",
       "</table>\n",
       "<p>764000 rows × 3 columns</p>\n",
       "</div>"
      ],
      "text/plain": [
       "        enzyme  Temperature       fNT\n",
       "0       O13525     10.00000  1.000000\n",
       "1       O13525     10.04004  1.000000\n",
       "2       O13525     10.08008  1.000000\n",
       "3       O13525     10.12012  1.000000\n",
       "4       O13525     10.16016  1.000000\n",
       "...        ...          ...       ...\n",
       "763995  P00163     49.83984  0.767349\n",
       "763996  P00163     49.87988  0.762066\n",
       "763997  P00163     49.91992  0.756703\n",
       "763998  P00163     49.95996  0.751260\n",
       "763999  P00163     50.00000  0.745737\n",
       "\n",
       "[764000 rows x 3 columns]"
      ]
     },
     "execution_count": 84,
     "metadata": {},
     "output_type": "execute_result"
    }
   ],
   "source": [
    "def compute_fNT_from_thermal_params(enzymes, T):\n",
    "    dHeq, Tm = thermalparams.loc[enzymes, ['dHeq', 'Tm']].T.to_numpy()\n",
    "    return arrhenius_etc.calculate_fNT(T=T + 273.15, dHeq=dHeq, Tm=Tm)\n",
    "index = pd.MultiIndex.from_product([thermalparams.index, np.linspace(start=10,stop=50,num=1000)], names=['enzyme', 'Temperature'])\n",
    "denaturation_frame = pd.DataFrame(index=index).reset_index().assign(fNT = lambda df: compute_fNT_from_thermal_params(enzymes=df.enzyme, T=df.Temperature))\n",
    "denaturation_frame"
   ]
  },
  {
   "cell_type": "code",
   "execution_count": 85,
   "metadata": {},
   "outputs": [
    {
     "data": {
      "text/html": [
       "<div>\n",
       "<style scoped>\n",
       "    .dataframe tbody tr th:only-of-type {\n",
       "        vertical-align: middle;\n",
       "    }\n",
       "\n",
       "    .dataframe tbody tr th {\n",
       "        vertical-align: top;\n",
       "    }\n",
       "\n",
       "    .dataframe thead th {\n",
       "        text-align: right;\n",
       "    }\n",
       "</style>\n",
       "<table border=\"1\" class=\"dataframe\">\n",
       "  <thead>\n",
       "    <tr style=\"text-align: right;\">\n",
       "      <th></th>\n",
       "      <th>enzyme</th>\n",
       "      <th>Temperature</th>\n",
       "      <th>fNT</th>\n",
       "    </tr>\n",
       "  </thead>\n",
       "  <tbody>\n",
       "    <tr>\n",
       "      <th>29749</th>\n",
       "      <td>P00927</td>\n",
       "      <td>39.989990</td>\n",
       "      <td>0.563846</td>\n",
       "    </tr>\n",
       "    <tr>\n",
       "      <th>29748</th>\n",
       "      <td>P00927</td>\n",
       "      <td>39.949950</td>\n",
       "      <td>0.574825</td>\n",
       "    </tr>\n",
       "    <tr>\n",
       "      <th>29747</th>\n",
       "      <td>P00927</td>\n",
       "      <td>39.909910</td>\n",
       "      <td>0.585734</td>\n",
       "    </tr>\n",
       "    <tr>\n",
       "      <th>29746</th>\n",
       "      <td>P00927</td>\n",
       "      <td>39.869870</td>\n",
       "      <td>0.596562</td>\n",
       "    </tr>\n",
       "    <tr>\n",
       "      <th>390749</th>\n",
       "      <td>P38013</td>\n",
       "      <td>39.989990</td>\n",
       "      <td>0.596655</td>\n",
       "    </tr>\n",
       "    <tr>\n",
       "      <th>...</th>\n",
       "      <td>...</td>\n",
       "      <td>...</td>\n",
       "      <td>...</td>\n",
       "    </tr>\n",
       "    <tr>\n",
       "      <th>389715</th>\n",
       "      <td>P38009</td>\n",
       "      <td>38.628629</td>\n",
       "      <td>1.000000</td>\n",
       "    </tr>\n",
       "    <tr>\n",
       "      <th>389716</th>\n",
       "      <td>P38009</td>\n",
       "      <td>38.668669</td>\n",
       "      <td>1.000000</td>\n",
       "    </tr>\n",
       "    <tr>\n",
       "      <th>389717</th>\n",
       "      <td>P38009</td>\n",
       "      <td>38.708709</td>\n",
       "      <td>1.000000</td>\n",
       "    </tr>\n",
       "    <tr>\n",
       "      <th>389719</th>\n",
       "      <td>P38009</td>\n",
       "      <td>38.788789</td>\n",
       "      <td>1.000000</td>\n",
       "    </tr>\n",
       "    <tr>\n",
       "      <th>33449</th>\n",
       "      <td>P00950</td>\n",
       "      <td>27.977978</td>\n",
       "      <td>1.000000</td>\n",
       "    </tr>\n",
       "  </tbody>\n",
       "</table>\n",
       "<p>573000 rows × 3 columns</p>\n",
       "</div>"
      ],
      "text/plain": [
       "        enzyme  Temperature       fNT\n",
       "29749   P00927    39.989990  0.563846\n",
       "29748   P00927    39.949950  0.574825\n",
       "29747   P00927    39.909910  0.585734\n",
       "29746   P00927    39.869870  0.596562\n",
       "390749  P38013    39.989990  0.596655\n",
       "...        ...          ...       ...\n",
       "389715  P38009    38.628629  1.000000\n",
       "389716  P38009    38.668669  1.000000\n",
       "389717  P38009    38.708709  1.000000\n",
       "389719  P38009    38.788789  1.000000\n",
       "33449   P00950    27.977978  1.000000\n",
       "\n",
       "[573000 rows x 3 columns]"
      ]
     },
     "execution_count": 85,
     "metadata": {},
     "output_type": "execute_result"
    }
   ],
   "source": [
    "denaturation_frame.query('Temperature < 40').sort_values('fNT')"
   ]
  },
  {
   "cell_type": "code",
   "execution_count": 86,
   "metadata": {},
   "outputs": [],
   "source": [
    "def anaerobic(params):\n",
    "    df = arrhenius_etc.calculate_thermal_params(params)\n",
    "    man = pickle.load(open(os.path.join(path,'models/anaerobic.pkl'),'rb'))\n",
    "\n",
    "    try: ran = arrhenius_etc.simulate_growth(man,dfan_batch.index+273.15,df=df,sigma=0.5)\n",
    "    except: ran = np.zeros(dfan_batch.shape[0])\n",
    "    ran = [0 if x is None else x for x in ran]\n",
    "    rexp = GEMS.anaerobic_exp_data()['data']\n",
    "    \n",
    "    print('r2_batch_an:',r2_score(rexp,ran))\n",
    "    print('MSE_an',MSE(rexp,ran))\n",
    "\n",
    "    return  {'data':np.array(ran)}"
   ]
  },
  {
   "cell_type": "code",
   "execution_count": 87,
   "metadata": {},
   "outputs": [],
   "source": [
    "def chemostat(params):\n",
    "    \n",
    "    mae = pickle.load(open(os.path.join(path,'models/aerobic.pkl'),'rb'))\n",
    "    exp_flux = GEMS.chemostat_exp_data()['data']\n",
    "    \n",
    "    growth_id = 'r_2111'\n",
    "    glc_up_id = 'r_1714_REV'\n",
    "    prot_pool_id = 'prot_pool_exchange'\n",
    "    dilut = 0.1\n",
    "    sigma = 0.5\n",
    "    \n",
    "    try:\n",
    "        solution = arrhenius_etc.simulate_chomostat(mae,dilut,params,dfchemo.index+273.15,\n",
    "                                              sigma,growth_id,glc_up_id,prot_pool_id)\n",
    "\n",
    "        # Extract fluxes\n",
    "        rxn_lst = [\n",
    "                'r_1714_REV',#Glucose\n",
    "                'r_1672', #CO2\n",
    "                'r_1761', # Ethanol\n",
    "            ]\n",
    "        columns = ['Glucose','CO2','Ethanol']\n",
    "\n",
    "        pred_flux = []\n",
    "        for i,rxn_id in enumerate(rxn_lst):\n",
    "            x = [s.fluxes[rxn_id] for s in solution]\n",
    "            x.extend([0]*(len(dfchemo.index)-len(x)))\n",
    "            pred_flux += x\n",
    "        print(pred_flux)\n",
    "    \n",
    "    except: pred_flux = [0 for item in exp_flux]\n",
    "    \n",
    "    print('r2_flux:',r2_score(exp_flux,pred_flux))\n",
    "    print('MSE_chemo',MSE(exp_flux,pred_flux))\n",
    "\n",
    "    return  {'data':np.array(pred_flux)}"
   ]
  },
  {
   "cell_type": "code",
   "execution_count": 88,
   "metadata": {},
   "outputs": [
    {
     "name": "stdout",
     "output_type": "stream",
     "text": [
      "Read LP format model from file /tmp/tmpg9awfa_o.lp\n",
      "Reading time = 0.02 seconds\n",
      ": 3389 rows, 13486 columns, 49610 nonzeros\n",
      "16.0 2.532769030921892e-11\n",
      "22.0 1.1174185387756126e-06\n",
      "26.0 0.001077538228716133\n",
      "29.0 0.09903395694546538\n",
      "34.0 0.3846888842928528\n",
      "37.0 0.5267235810328885\n",
      "40.0 0.7265841453033106\n",
      "42.0 0.8541351567175207\n",
      "[0, 0, 0.001077538228716133, 0.09903395694546538, 0.3846888842928528, 0.5267235810328885, 0.7265841453033106, 0.8541351567175207]\n",
      "r2_batch: -13.283738376624136\n",
      "MSE_ae 0.17370364966447763\n"
     ]
    }
   ],
   "source": [
    "rae = aerobic(params)"
   ]
  },
  {
   "cell_type": "code",
   "execution_count": 14,
   "metadata": {},
   "outputs": [
    {
     "data": {
      "text/plain": [
       "{'data': array([0.        , 0.        , 0.00107754, 0.09903396, 0.38468888,\n",
       "        0.52672358, 0.72658415, 0.85413516])}"
      ]
     },
     "execution_count": 14,
     "metadata": {},
     "output_type": "execute_result"
    }
   ],
   "source": [
    "rae"
   ]
  },
  {
   "cell_type": "code",
   "execution_count": 15,
   "metadata": {},
   "outputs": [
    {
     "name": "stdout",
     "output_type": "stream",
     "text": [
      "Read LP format model from file /tmp/tmpbe72x4ta.lp\n",
      "Reading time = 0.02 seconds\n",
      ": 3389 rows, 13486 columns, 49608 nonzeros\n",
      "5.0 0.0\n",
      "10.0 0.009479642968949601\n",
      "15.0 0.031648178437040445\n",
      "18.5 0.05813662354768515\n",
      "22.5 0.10177344343289588\n",
      "26.30000000000001 0.16194089470240183\n",
      "30.0 0.23956785013275111\n",
      "31.0 0.26163940974638195\n",
      "33.0 0.30931113666583626\n",
      "34.0 0.3396303802376215\n",
      "35.0 0.3759936089761288\n",
      "37.5 0.5013774061742491\n",
      "40.0 0.6665039665045144\n",
      "r2_batch_an: -1.8400002894546312\n",
      "MSE_an 0.03570781097664086\n"
     ]
    }
   ],
   "source": [
    "ran = anaerobic(params)"
   ]
  },
  {
   "cell_type": "code",
   "execution_count": 16,
   "metadata": {},
   "outputs": [
    {
     "name": "stdout",
     "output_type": "stream",
     "text": [
      "Read LP format model from file /tmp/tmp62rosuj9.lp\n",
      "Reading time = 0.04 seconds\n",
      ": 3389 rows, 13486 columns, 49610 nonzeros\n",
      "[1.0784201918239564, 1.3562481688893477, 1.3684950763251038, 1.374357493349424, 1.3803342104254401, 1.386550243264047, 2.851180990314684, 4.51814885270713, 4.591630297321562, 4.626804799467466, 4.662665101923578, 4.699961298955253, 0.0, 0.0, 0.0, 0.0, 0.0, 0.0]\n",
      "r2_flux: -0.35803249159938844\n",
      "MSE_chemo 38.57505249944226\n"
     ]
    }
   ],
   "source": [
    "chem  = chemostat(params)"
   ]
  },
  {
   "cell_type": "code",
   "execution_count": 17,
   "metadata": {},
   "outputs": [
    {
     "data": {
      "image/png": "[encoded data removed]",
      "text/plain": [
       "<Figure size 216x172.8 with 1 Axes>"
      ]
     },
     "metadata": {
      "needs_background": "light"
     },
     "output_type": "display_data"
    },
    {
     "data": {
      "image/png": "[encoded data removed]",
      "text/plain": [
       "<Figure size 216x172.8 with 1 Axes>"
      ]
     },
     "metadata": {
      "needs_background": "light"
     },
     "output_type": "display_data"
    },
    {
     "data": {
      "image/png": "[encoded data removed]",
      "text/plain": [
       "<Figure size 216x172.8 with 1 Axes>"
      ]
     },
     "metadata": {
      "needs_background": "light"
     },
     "output_type": "display_data"
    },
    {
     "data": {
      "image/png": "[encoded data removed]",
      "text/plain": [
       "<Figure size 216x172.8 with 1 Axes>"
      ]
     },
     "metadata": {
      "needs_background": "light"
     },
     "output_type": "display_data"
    },
    {
     "data": {
      "image/png": "[encoded data removed]",
      "text/plain": [
       "<Figure size 216x172.8 with 1 Axes>"
      ]
     },
     "metadata": {
      "needs_background": "light"
     },
     "output_type": "display_data"
    },
    {
     "data": {
      "image/png": "[encoded data removed]",
      "text/plain": [
       "<Figure size 216x172.8 with 1 Axes>"
      ]
     },
     "metadata": {
      "needs_background": "light"
     },
     "output_type": "display_data"
    }
   ],
   "source": [
    "plt.figure(figsize=(3,2.4))\n",
    "plt.scatter(dfae_batch.index,dfae_batch['r_ae'].values,label='Exp',color='k')\n",
    "plt.plot(dfae_batch.index,rae['data'],markersize=5,marker='o',label='Pred')\n",
    "plt.xlabel('Temperature ($^\\circ$C)')\n",
    "#plt.ylabel('Specific growth rate (h$^{-1}$)')\n",
    "plt.ylabel('Aerobic $r_{max}$ (h$^{-1}$)')\n",
    "\n",
    "plt.legend(fontsize=9,loc='upper left')\n",
    "plt.tight_layout()\n",
    "plt.savefig('../figures/simulated_results_with_start_points_ae_batch.pdf')\n",
    "plt.show()\n",
    "\n",
    "plt.figure(figsize=(3,2.4))\n",
    "plt.scatter(dfan_batch.index,dfan_batch['r_an'].values,label='Exp',color='k')\n",
    "plt.plot(dfan_batch.index,ran['data'],markersize=5,marker='o',label='Pred')\n",
    "plt.xlabel('Temperature ($^\\circ$C)')\n",
    "plt.ylabel('Anaerobic $r_{max}$ (h$^{-1}$)')\n",
    "plt.legend(fontsize=9)\n",
    "plt.tight_layout()\n",
    "plt.savefig('../figures/simulated_results_with_start_points_an_batch.pdf')\n",
    "plt.show()\n",
    "\n",
    "plt.figure(figsize=(3,2.4))\n",
    "mets = ['Glucose','CO2','Ethanol']\n",
    "labels = ['Glucose','CO$_2$','Ethanol']\n",
    "cs = ['#1b9e77', '#d95f02', '#7570b3']\n",
    "for i in range(3):\n",
    "    plt.scatter(dfchemo.index, dfchemo[mets[i]],label='Exp {0}'.format(labels[i]),color=cs[i])\n",
    "    plt.plot(dfchemo.index, chem['data'][i*6:(i+1)*6],label='Pred {0}'.format(labels[i]),color=cs[i])\n",
    "plt.xlabel('Temperature ($^\\circ$C)')\n",
    "plt.ylabel('Flux (mmol gDW$^{-1}$ h$^{-1}$)')\n",
    "plt.legend(fontsize=9)\n",
    "\n",
    "plt.tight_layout()\n",
    "plt.savefig('../figures/simulated_results_with_start_points_ae_chemo.pdf')\n",
    "plt.show()\n",
    "\n",
    "\n",
    "mets = ['Glucose','CO2','Ethanol']\n",
    "labels = ['Glucose','CO$_2$','Ethanol']\n",
    "cs = ['#1b9e77', '#d95f02', '#7570b3']\n",
    "for i in range(3):\n",
    "    plt.figure(figsize=(3,2.4))\n",
    "    plt.scatter(dfchemo.index, dfchemo[mets[i]],label='Exp'.format(labels[i]),color='k')\n",
    "    plt.plot(dfchemo.index, chem['data'][i*6:(i+1)*6],label='Pred'.format(labels[i]))\n",
    "    plt.xlabel('Temperature ($^\\circ$C)')\n",
    "    plt.ylabel(labels[i]+' (mmol gDW$^{-1}$ h$^{-1}$)')\n",
    "    plt.legend(fontsize=9)\n",
    "\n",
    "    plt.tight_layout()\n",
    "    plt.savefig('../figures/simulated_results_with_start_points_ae_chemo_{0}.pdf'.format(mets[i]))\n",
    "    plt.show()\n"
   ]
  },
  {
   "cell_type": "markdown",
   "metadata": {},
   "source": [
    "# Extend the temperature range"
   ]
  },
  {
   "cell_type": "code",
   "execution_count": 57,
   "metadata": {},
   "outputs": [],
   "source": [
    "def aerobic_temperatures_supplied(params, T):\n",
    "    df = arrhenius_etc.calculate_thermal_params(params)\n",
    "    mae = pickle.load(open(os.path.join(path,'models/aerobic.pkl'),'rb'))\n",
    "    mae.solver.problem.setParam('Threads', 4)\n",
    "    \n",
    "    try: rae = arrhenius_etc.simulate_growth(mae, T + 273.15,df=df,sigma=0.5)\n",
    "    except: rae = np.zeros(dfae_batch.shape[0])\n",
    "    rae = [0 if x is None else x for x in rae]\n",
    "    rae = [0 if x<1e-3 else x for x in rae]\n",
    "    return {'data':np.array(rae)}"
   ]
  },
  {
   "cell_type": "code",
   "execution_count": 73,
   "metadata": {},
   "outputs": [
    {
     "name": "stdout",
     "output_type": "stream",
     "text": [
      "Read LP format model from file /tmp/tmpb8ch74fb.lp\n",
      "Reading time = 0.03 seconds\n",
      ": 3389 rows, 13486 columns, 49610 nonzeros\n",
      "10.0 0.0\n",
      "20.0 0.08164346543571765\n",
      "30.0 0.2715248166081066\n",
      "38.0 0.5883858122155308\n",
      "40.0 0.7265823949043987\n",
      "42.0 0.8541327182676515\n",
      "44.0 0.7412833899866387\n",
      "45.0 0.4720389585752273\n",
      "46.0 0.21575408741965008\n",
      "47.0 0.07867759195286442\n",
      "48.0 0.02340996750595187\n",
      "49.0 0.0048872600396171135\n",
      "50.0 0.0006312194206082567\n"
     ]
    }
   ],
   "source": [
    "T = np.array([10, 20, 30, 38,40, 42, 44, 45, 46, 47, 48, 49, 50], dtype=np.float64)\n",
    "aerobic_temperatures = aerobic_temperatures_supplied(params, T)"
   ]
  },
  {
   "cell_type": "code",
   "execution_count": 66,
   "metadata": {},
   "outputs": [
    {
     "data": {
      "image/png": "[encoded data removed]",
      "text/plain": [
       "<Figure size 432x288 with 1 Axes>"
      ]
     },
     "metadata": {
      "needs_background": "light"
     },
     "output_type": "display_data"
    }
   ],
   "source": [
    "plt.plot(T, aerobic_temperatures['data'])\n",
    "plt.xlabel('Temperature ($^\\circ$C)')\n",
    "plt.ylabel('Aaerobic $r_{max}$ (h$^{-1}$)');\n"
   ]
  },
  {
   "cell_type": "code",
   "execution_count": 89,
   "metadata": {},
   "outputs": [
    {
     "name": "stdout",
     "output_type": "stream",
     "text": [
      "Read LP format model from file /tmp/tmpq6yz1nps.lp\n",
      "Reading time = 0.03 seconds\n",
      ": 3389 rows, 13486 columns, 49610 nonzeros\n"
     ]
    }
   ],
   "source": [
    "mae = pickle.load(open(os.path.join(path,'models/aerobic.pkl'),'rb'))"
   ]
  },
  {
   "cell_type": "code",
   "execution_count": 97,
   "metadata": {},
   "outputs": [
    {
     "data": {
      "text/plain": [
       "NoneType"
      ]
     },
     "execution_count": 97,
     "metadata": {},
     "output_type": "execute_result"
    }
   ],
   "source": [
    "type(mae.solver.problem.setParam('Threads', 4))"
   ]
  }
 ],
 "metadata": {
  "interpreter": {
   "hash": "e9819e7ee1a1a61b455eaae14950dec9cb4c9242e726e37784600f07b10d695c"
  },
  "kernelspec": {
   "display_name": "Python 3.8.12 64-bit ('etcFBA': conda)",
   "name": "python3"
  },
  "language_info": {
   "codemirror_mode": {
    "name": "ipython",
    "version": 3
   },
   "file_extension": ".py",
   "mimetype": "text/x-python",
   "name": "python",
   "nbconvert_exporter": "python",
   "pygments_lexer": "ipython3",
   "version": "3.8.12"
  },
  "orig_nbformat": 4
 },
 "nbformat": 4,
 "nbformat_minor": 2
}
