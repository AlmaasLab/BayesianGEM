{
 "cells": [
  {
   "cell_type": "code",
   "execution_count": 1,
   "metadata": {},
   "outputs": [],
   "source": [
    "import GEMS\n",
    "import pandas as pd\n",
    "import numpy as np\n",
    "import os\n",
    "\n",
    "\n",
    "import pickle\n",
    "from etcpy import etc\n",
    "from sklearn.metrics import mean_squared_error as MSE\n",
    "from sklearn.metrics import r2_score\n",
    "\n",
    "import matplotlib.pyplot as plt"
   ]
  },
  {
   "cell_type": "code",
   "execution_count": 2,
   "metadata": {},
   "outputs": [],
   "source": [
    "path = '../'\n",
    "params = pd.read_csv(os.path.join(path,'data/model_enzyme_params.csv'),index_col=0)\n",
    "dfae_batch,dfan_batch = GEMS.load_exp_batch_data(os.path.join(path,'data/ExpGrowth.tsv'))\n",
    "dfchemo = pd.read_csv(os.path.join(path,'data/Chemostat_exp_data.txt'),sep='\\t',index_col=0)"
   ]
  },
  {
   "cell_type": "code",
   "execution_count": 3,
   "metadata": {},
   "outputs": [],
   "source": [
    "def aerobic(params):\n",
    "    # thermalParams: a dictionary with ids like uniprotid_Topt \n",
    "    df = etc.calculate_thermal_params(params)\n",
    "    mae = pickle.load(open(os.path.join(path,'models/aerobic.pkl'),'rb'))\n",
    "    \n",
    "    try: rae = etc.simulate_growth(mae,dfae_batch.index+273.15,df=df,sigma=0.5)\n",
    "    except: rae = np.zeros(dfae_batch.shape[0])\n",
    "    \n",
    "    rae = [0 if x is None else x for x in rae]\n",
    "    rae = [0 if x<1e-3 else x for x in rae]\n",
    "    print(rae)\n",
    "    rexp = GEMS.aerobic_exp_data()['data']\n",
    "    \n",
    "    print('r2_batch:',r2_score(rexp,rae))\n",
    "    print('MSE_ae',MSE(rexp,rae))\n",
    "    return {'data':np.array(rae)}"
   ]
  },
  {
   "cell_type": "code",
   "execution_count": 4,
   "metadata": {},
   "outputs": [],
   "source": [
    "def anaerobic(params):\n",
    "    df = etc.calculate_thermal_params(params)\n",
    "    man = pickle.load(open(os.path.join(path,'models/anaerobic.pkl'),'rb'))\n",
    "\n",
    "    try: ran = etc.simulate_growth(man,dfan_batch.index+273.15,df=df,sigma=0.5)\n",
    "    except: ran = np.zeros(dfan_batch.shape[0])\n",
    "    ran = [0 if x is None else x for x in ran]\n",
    "    rexp = GEMS.anaerobic_exp_data()['data']\n",
    "    \n",
    "    print('r2_batch_an:',r2_score(rexp,ran))\n",
    "    print('MSE_an',MSE(rexp,ran))\n",
    "\n",
    "    return  {'data':np.array(ran)}"
   ]
  },
  {
   "cell_type": "code",
   "execution_count": 5,
   "metadata": {},
   "outputs": [],
   "source": [
    "def chemostat(params):\n",
    "    \n",
    "    mae = pickle.load(open(os.path.join(path,'models/aerobic.pkl'),'rb'))\n",
    "    exp_flux = GEMS.chemostat_exp_data()['data']\n",
    "    \n",
    "    growth_id = 'r_2111'\n",
    "    glc_up_id = 'r_1714_REV'\n",
    "    prot_pool_id = 'prot_pool_exchange'\n",
    "    dilut = 0.1\n",
    "    sigma = 0.5\n",
    "    \n",
    "    try:\n",
    "        solution = etc.simulate_chomostat(mae,dilut,params,dfchemo.index+273.15,\n",
    "                                              sigma,growth_id,glc_up_id,prot_pool_id)\n",
    "\n",
    "        # Extract fluxes\n",
    "        rxn_lst = [\n",
    "                'r_1714_REV',#Glucose\n",
    "                'r_1672', #CO2\n",
    "                'r_1761', # Ethanol\n",
    "            ]\n",
    "        columns = ['Glucose','CO2','Ethanol']\n",
    "\n",
    "        pred_flux = []\n",
    "        for i,rxn_id in enumerate(rxn_lst):\n",
    "            x = [s.fluxes[rxn_id] for s in solution]\n",
    "            x.extend([0]*(len(dfchemo.index)-len(x)))\n",
    "            pred_flux += x\n",
    "        print(pred_flux)\n",
    "    \n",
    "    except: pred_flux = [0 for item in exp_flux]\n",
    "    \n",
    "    print('r2_flux:',r2_score(exp_flux,pred_flux))\n",
    "    print('MSE_chemo',MSE(exp_flux,pred_flux))\n",
    "\n",
    "    return  {'data':np.array(pred_flux)}"
   ]
  },
  {
   "cell_type": "code",
   "execution_count": 6,
   "metadata": {},
   "outputs": [
    {
     "name": "stdout",
     "output_type": "stream",
     "text": [
      "Academic license - for non-commercial use only\n",
      "Read LP format model from file /tmp/tmpo4h8a3nq.lp\n",
      "Reading time = 0.05 seconds\n",
      ": 3389 rows, 13486 columns, 49610 nonzeros\n",
      "16.0 0.087306702476166\n",
      "22.0 0.2105560124291127\n",
      "26.0 0.305890505795534\n",
      "29.0 0.36491875349427655\n",
      "34.0 0.37945732248207237\n",
      "37.0 0.35910203900616283\n",
      "40.0 0.312006188736625\n",
      "42.0 0.2620948315998482\n",
      "[0.087306702476166, 0.2105560124291127, 0.305890505795534, 0.36491875349427655, 0.37945732248207237, 0.35910203900616283, 0.312006188736625, 0.2620948315998482]\n",
      "r2_batch: -0.43123011530175104\n",
      "MSE_ae 0.01740509998030239\n"
     ]
    }
   ],
   "source": [
    "rae = aerobic(params)"
   ]
  },
  {
   "cell_type": "code",
   "execution_count": 7,
   "metadata": {},
   "outputs": [
    {
     "name": "stdout",
     "output_type": "stream",
     "text": [
      "Read LP format model from file /tmp/tmpd4gf1b_4.lp\n",
      "Reading time = 0.07 seconds\n",
      ": 3389 rows, 13486 columns, 49608 nonzeros\n",
      "5.0 0.0010675427123762536\n",
      "10.0 0.017988415161135696\n",
      "15.0 0.06107538589205637\n",
      "18.5 0.11365063900037399\n",
      "22.5 0.19356290453072322\n",
      "26.30000000000001 0.2740670272243529\n",
      "30.0 0.3314700800963973\n",
      "31.0 0.33765889285433615\n",
      "33.0 0.33671223223868413\n",
      "34.0 0.33405644555961755\n",
      "35.0 0.3303851326221864\n",
      "37.5 0.31128642415183544\n",
      "40.0 0.2763968592062562\n",
      "r2_batch_an: 0.6412713228219331\n",
      "MSE_an 0.004510357215151777\n"
     ]
    }
   ],
   "source": [
    "ran = anaerobic(params)"
   ]
  },
  {
   "cell_type": "code",
   "execution_count": 8,
   "metadata": {},
   "outputs": [
    {
     "name": "stdout",
     "output_type": "stream",
     "text": [
      "Read LP format model from file /tmp/tmp1whp9vkl.lp\n",
      "Reading time = 0.03 seconds\n",
      ": 3389 rows, 13486 columns, 49610 nonzeros\n",
      "[1.0784201625625673, 1.3562481219350546, 1.3684950452976214, 1.374357446005284, 1.3803342007313788, 1.3865502041239934, 2.851180214746377, 4.518147970981268, 4.591629511156707, 4.626803915402663, 4.662664443759244, 4.699960464115004, 0.0, 0.0, 0.0, 0.0, 0.0, 0.0]\n",
      "r2_flux: -0.3580325510358968\n",
      "MSE_chemo 38.57505418774239\n"
     ]
    }
   ],
   "source": [
    "chem  = chemostat(params)"
   ]
  },
  {
   "cell_type": "code",
   "execution_count": null,
   "metadata": {},
   "outputs": [],
   "source": []
  },
  {
   "cell_type": "code",
   "execution_count": 18,
   "metadata": {},
   "outputs": [
    {
     "data": {
      "image/png": "[encoded data removed]",
      "text/plain": [
       "<Figure size 216x172.8 with 1 Axes>"
      ]
     },
     "metadata": {
      "needs_background": "light"
     },
     "output_type": "display_data"
    },
    {
     "data": {
      "image/png": "[encoded data removed]",
      "text/plain": [
       "<Figure size 216x172.8 with 1 Axes>"
      ]
     },
     "metadata": {
      "needs_background": "light"
     },
     "output_type": "display_data"
    },
    {
     "data": {
      "image/png": "[encoded data removed]",
      "text/plain": [
       "<Figure size 216x172.8 with 1 Axes>"
      ]
     },
     "metadata": {
      "needs_background": "light"
     },
     "output_type": "display_data"
    },
    {
     "data": {
      "image/png": "[encoded data removed]",
      "text/plain": [
       "<Figure size 216x172.8 with 1 Axes>"
      ]
     },
     "metadata": {
      "needs_background": "light"
     },
     "output_type": "display_data"
    },
    {
     "data": {
      "image/png": "[encoded data removed]",
      "text/plain": [
       "<Figure size 216x172.8 with 1 Axes>"
      ]
     },
     "metadata": {
      "needs_background": "light"
     },
     "output_type": "display_data"
    },
    {
     "data": {
      "image/png": "[encoded data removed]",
      "text/plain": [
       "<Figure size 216x172.8 with 1 Axes>"
      ]
     },
     "metadata": {
      "needs_background": "light"
     },
     "output_type": "display_data"
    }
   ],
   "source": [
    "plt.figure(figsize=(3,2.4))\n",
    "plt.scatter(dfae_batch.index,dfae_batch['r_ae'].values,label='Exp',color='k')\n",
    "plt.plot(dfae_batch.index,rae['data'],markersize=5,marker='o',label='Pred')\n",
    "plt.xlabel('Temperature ($^\\circ$C)')\n",
    "#plt.ylabel('Specific growth rate (h$^{-1}$)')\n",
    "plt.ylabel('Aerobic $r_{max}$ (h$^{-1}$)')\n",
    "\n",
    "plt.legend(fontsize=9,loc='upper left')\n",
    "plt.tight_layout()\n",
    "plt.savefig('../figures/simulated_results_with_start_points_ae_batch.pdf')\n",
    "plt.show()\n",
    "\n",
    "plt.figure(figsize=(3,2.4))\n",
    "plt.scatter(dfan_batch.index,dfan_batch['r_an'].values,label='Exp',color='k')\n",
    "plt.plot(dfan_batch.index,ran['data'],markersize=5,marker='o',label='Pred')\n",
    "plt.xlabel('Temperature ($^\\circ$C)')\n",
    "plt.ylabel('Anaerobic $r_{max}$ (h$^{-1}$)')\n",
    "plt.legend(fontsize=9)\n",
    "plt.tight_layout()\n",
    "plt.savefig('../figures/simulated_results_with_start_points_an_batch.pdf')\n",
    "plt.show()\n",
    "\n",
    "plt.figure(figsize=(3,2.4))\n",
    "mets = ['Glucose','CO2','Ethanol']\n",
    "labels = ['Glucose','CO$_2$','Ethanol']\n",
    "cs = ['#1b9e77', '#d95f02', '#7570b3']\n",
    "for i in range(3):\n",
    "    plt.scatter(dfchemo.index, dfchemo[mets[i]],label='Exp {0}'.format(labels[i]),color=cs[i])\n",
    "    plt.plot(dfchemo.index, chem['data'][i*6:(i+1)*6],label='Pred {0}'.format(labels[i]),color=cs[i])\n",
    "plt.xlabel('Temperature ($^\\circ$C)')\n",
    "plt.ylabel('Flux (mmol gDW$^{-1}$ h$^{-1}$)')\n",
    "plt.legend(fontsize=9)\n",
    "\n",
    "plt.tight_layout()\n",
    "plt.savefig('../figures/simulated_results_with_start_points_ae_chemo.pdf')\n",
    "plt.show()\n",
    "\n",
    "\n",
    "mets = ['Glucose','CO2','Ethanol']\n",
    "labels = ['Glucose','CO$_2$','Ethanol']\n",
    "cs = ['#1b9e77', '#d95f02', '#7570b3']\n",
    "for i in range(3):\n",
    "    plt.figure(figsize=(3,2.4))\n",
    "    plt.scatter(dfchemo.index, dfchemo[mets[i]],label='Exp'.format(labels[i]),color='k')\n",
    "    plt.plot(dfchemo.index, chem['data'][i*6:(i+1)*6],label='Pred'.format(labels[i]))\n",
    "    plt.xlabel('Temperature ($^\\circ$C)')\n",
    "    plt.ylabel(labels[i]+' (mmol gDW$^{-1}$ h$^{-1}$)')\n",
    "    plt.legend(fontsize=9)\n",
    "\n",
    "    plt.tight_layout()\n",
    "    plt.savefig('../figures/simulated_results_with_start_points_ae_chemo_{0}.pdf'.format(mets[i]))\n",
    "    plt.show()\n"
   ]
  }
 ],
 "metadata": {
  "kernelspec": {
   "display_name": "Python 3",
   "language": "python",
   "name": "python3"
  },
  "language_info": {
   "codemirror_mode": {
    "name": "ipython",
    "version": 3
   },
   "file_extension": ".py",
   "mimetype": "text/x-python",
   "name": "python",
   "nbconvert_exporter": "python",
   "pygments_lexer": "ipython3",
   "version": "3.6.7"
  }
 },
 "nbformat": 4,
 "nbformat_minor": 2
}
