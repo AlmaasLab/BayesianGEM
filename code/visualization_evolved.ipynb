{
 "cells": [
  {
   "cell_type": "code",
   "execution_count": 76,
   "metadata": {},
   "outputs": [],
   "source": [
    "import matplotlib.pyplot as plt\n",
    "import numpy as np\n",
    "import pandas as pd\n",
    "import pickle\n",
    "import GEMS\n",
    "import os\n",
    "import seaborn as sns\n",
    "from sklearn.metrics import mean_squared_error as MSE\n",
    "from scipy.stats import ttest_ind as ttest\n",
    "from sklearn.decomposition import PCA\n",
    "from scipy import stats \n",
    "from matplotlib import gridspec\n",
    "from statsmodels.stats.multitest import multipletests\n",
    "import matplotlib.cm as cm\n",
    "import etcpy\n",
    "import evo_etc"
   ]
  },
  {
   "cell_type": "code",
   "execution_count": 2,
   "metadata": {},
   "outputs": [],
   "source": [
    "dfae_batch,dfan_batch =GEMS.load_exp_batch_data('../data/ExpGrowth.tsv')\n",
    "dfchemo = pd.read_csv('../data/Chemostat_exp_data.txt',sep='\\t',index_col=0)"
   ]
  },
  {
   "cell_type": "code",
   "execution_count": 3,
   "metadata": {},
   "outputs": [],
   "source": [
    "def boot_strap_ci(data,sampling_time=1000):\n",
    "    # data is a matrix, we are going to get cis for all columns\n",
    "    data = np.array(data)\n",
    "    def _ci_of_a_column(lst):\n",
    "        means = []\n",
    "        for _ in range(sampling_time):\n",
    "            sampled_index = np.random.randint(0,len(lst),size=len(lst)) \n",
    "            means.append(np.mean(lst[sampled_index]))\n",
    "        means.sort()\n",
    "        return [means[24],means[974]]\n",
    "    \n",
    "    cis = list()\n",
    "    for i in range(data.shape[1]):\n",
    "        cis.append(_ci_of_a_column(data[:,i]))\n",
    "    \n",
    "    return np.array(cis)"
   ]
  },
  {
   "cell_type": "code",
   "execution_count": 4,
   "metadata": {},
   "outputs": [
    {
     "name": "stdout",
     "output_type": "stream",
     "text": [
      "P07244,\u001b[01;31m\u001b[KADE5\u001b[m\u001b[K,7\n"
     ]
    }
   ],
   "source": [
    "!less ../data/enzyme_uniprot_gene_name.csv|grep ADE5"
   ]
  },
  {
   "cell_type": "code",
   "execution_count": 5,
   "metadata": {},
   "outputs": [],
   "source": [
    "def load_gene_names():\n",
    "    gene_names = dict()\n",
    "    gene_ids = dict()\n",
    "    for line in open('../data/enzyme_uniprot_gene_name.csv'):\n",
    "        cont = line.strip().split(',')\n",
    "        gene_names[cont[0]] = cont[1]\n",
    "        gene_ids[cont[1]] = cont[0]\n",
    "    return gene_names,gene_ids"
   ]
  },
  {
   "cell_type": "markdown",
   "metadata": {},
   "source": [
    "### Visualize models from posterior distribution"
   ]
  },
  {
   "cell_type": "code",
   "execution_count": 125,
   "metadata": {},
   "outputs": [],
   "source": [
    "model = pickle.load(open('../results/smcevo_gem_three_conditions_save_all_particles.pkl','rb'))"
   ]
  },
  {
   "cell_type": "code",
   "execution_count": 134,
   "metadata": {},
   "outputs": [],
   "source": [
    "def plot_lines_prior_ae(model,outname=None):\n",
    "    sns.set_style(\"ticks\")\n",
    "    plt.figure(figsize=(3,2.4))\n",
    "    plt.scatter(dfae_batch.index,dfae_batch['r_ae'],color='k',label='experimental',zorder=1)\n",
    "    print(np.var(dfae_batch['r_ae'])*0.15)\n",
    "    for item in model.simulated_data_t0: \n",
    "        plt.plot(dfae_batch.index,item['ran'],zorder=0,color='#1f78b4')\n",
    "    plt.xlabel('Temperature ($^\\circ$C)')\n",
    "    #plt.ylabel('Maximal specific growth rate (h$^{-1}$)')\n",
    "    plt.ylabel('Aerobic $r_{max}$ (h$^{-1}$)')\n",
    "    plt.ylim((0,0.4))\n",
    "    #plt.legend(loc='upper left',fontsize=8)\n",
    "    #plt.title('Aerobic growth')\n",
    "    plt.tight_layout()\n",
    "    if outname is not None: plt.savefig(outname)\n",
    "    plt.show()"
   ]
  },
  {
   "cell_type": "code",
   "execution_count": 135,
   "metadata": {},
   "outputs": [],
   "source": [
    "def plot_lines_prior_an(model,outname=None):\n",
    "    sns.set_style(\"ticks\")\n",
    "    plt.figure(figsize=(3,2.4))\n",
    "    plt.scatter(dfan_batch.index,dfan_batch['r_an'],color='k',label='experimental',zorder=1)\n",
    "    \n",
    "    ts = [5.0,15.0,26.3,30.0,33.0,35.0,37.5,40.0]\n",
    "    for item in model.simulated_data_t0: \n",
    "        plt.plot(ts,item['ran'],zorder=0,color='#1f78b4')\n",
    "    \n",
    "    plt.xlabel('Temperature ($^\\circ$C)')\n",
    "    #plt.ylabel('Maximal specific growth rate (h$^{-1}$)')\n",
    "    plt.ylabel('Anaerobic $r_{max}$ (h$^{-1}$)')\n",
    "    plt.ylim((0,0.4))\n",
    "    #plt.legend(loc='upper left',fontsize=8)\n",
    "    #plt.title('Anaerobic growth')\n",
    "    plt.tight_layout()\n",
    "    if outname is not None: plt.savefig(outname)\n",
    "    plt.show()"
   ]
  },
  {
   "cell_type": "code",
   "execution_count": 136,
   "metadata": {},
   "outputs": [],
   "source": [
    "def plot_lines_prior_chemostat(model,prefix=None):\n",
    "    sns.set_style(\"ticks\")\n",
    "    \n",
    "    rs0 = []\n",
    "    for item in model.simulated_data_t0: rs0.append(item['chemostat'])\n",
    "\n",
    "    #rs0 = np.array(rs0)\n",
    "    \n",
    "    cols = ['Glucose','CO2','Ethanol']\n",
    "    titles = ['Glucose','CO$_2$','Ethanol']\n",
    "    \n",
    "    print(np.var(dfchemo[cols].values)*0.15)\n",
    "    for i in range(3):\n",
    "        if i<2: continue\n",
    "        plt.figure(figsize=(3,2.4))\n",
    "        plt.scatter(dfchemo.index,dfchemo[cols[i]],color='k',label='experimental',zorder=1)\n",
    "        for j,r in enumerate(rs0):\n",
    "            plt.plot(dfchemo.index,r[i*6:(i+1)*6],color='#1f78b4',zorder=0)\n",
    "        print(j)\n",
    "        plt.xlabel('Temperature ($^\\circ$C)')\n",
    "        plt.ylabel('{0}'.format(titles[i])+' (mmol gDW$^{-1}$ h$^{-1}$)')\n",
    "        plt.ylim((-1,18))\n",
    "        #plt.legend(loc='upper left',fontsize=8)\n",
    "        #plt.title(titles[i])\n",
    "        plt.tight_layout()\n",
    "        if prefix is not None: plt.savefig(prefix+'_{0}.pdf'.format(cols[i]))\n",
    "        plt.show()"
   ]
  },
  {
   "cell_type": "code",
   "execution_count": 137,
   "metadata": {},
   "outputs": [],
   "source": [
    "model.simulated_data_t0= model.all_simulated_data[0:100]"
   ]
  },
  {
   "cell_type": "code",
   "execution_count": 138,
   "metadata": {},
   "outputs": [
    {
     "name": "stdout",
     "output_type": "stream",
     "text": [
      "0.0018241406250000005\n"
     ]
    },
    {
     "data": {
      "image/png": "[encoded data removed]",
      "text/plain": [
       "<Figure size 216x172.8 with 1 Axes>"
      ]
     },
     "metadata": {},
     "output_type": "display_data"
    }
   ],
   "source": [
    "plot_lines_prior_ae(model,outname='../figures/aerobic_prior_lines.pdf')"
   ]
  },
  {
   "cell_type": "code",
   "execution_count": 139,
   "metadata": {},
   "outputs": [
    {
     "data": {
      "image/png": "[encoded data removed]",
      "text/plain": [
       "<Figure size 216x172.8 with 1 Axes>"
      ]
     },
     "metadata": {},
     "output_type": "display_data"
    }
   ],
   "source": [
    "plot_lines_prior_an(model,outname='../figures/anaerobic_prior_lines.pdf')"
   ]
  },
  {
   "cell_type": "code",
   "execution_count": 140,
   "metadata": {},
   "outputs": [
    {
     "name": "stdout",
     "output_type": "stream",
     "text": [
      "4.260765416666666\n",
      "99\n"
     ]
    },
    {
     "data": {
      "image/png": "[encoded data removed]",
      "text/plain": [
       "<Figure size 216x172.8 with 1 Axes>"
      ]
     },
     "metadata": {},
     "output_type": "display_data"
    }
   ],
   "source": [
    "plot_lines_prior_chemostat(model,prefix='../figures/chemostat_prior_lines')"
   ]
  },
  {
   "cell_type": "code",
   "execution_count": 141,
   "metadata": {},
   "outputs": [
    {
     "name": "stdout",
     "output_type": "stream",
     "text": [
      "/mnt/scratch/jakobpp/BayesianGEM/code\n"
     ]
    }
   ],
   "source": [
    "!pwd"
   ]
  },
  {
   "cell_type": "code",
   "execution_count": 142,
   "metadata": {},
   "outputs": [],
   "source": [
    "model.simulated_data = model.all_simulated_data[-100:-1]"
   ]
  },
  {
   "cell_type": "code",
   "execution_count": 143,
   "metadata": {},
   "outputs": [],
   "source": [
    "def plot_last_population_ae(model,outname=None):\n",
    "    sns.set_style(\"ticks\")\n",
    "    plt.figure(figsize=(3,2.4))\n",
    "    plt.scatter(dfae_batch.index,dfae_batch['r_ae'],color='k',label='experimental')\n",
    "    print(np.var(dfae_batch['r_ae'])*0.15)\n",
    "    \n",
    "    rs0 = list()\n",
    "    rs  = list()\n",
    "    for item in model.simulated_data_t0: rs0.append(item['rae'])\n",
    "    for item in model.simulated_data: rs.append(item['rae'])\n",
    "\n",
    "    rs0 = np.array(rs0)\n",
    "    y0 = np.percentile(rs0,[5,50,95],axis=0)\n",
    "    \n",
    "    rs = np.array(rs)\n",
    "    y = np.percentile(rs,[5,50,95],axis=0)\n",
    "    \n",
    "    \n",
    "    plt.plot(dfae_batch.index,y0[1,:],color='#1f78b4',label='prior')\n",
    "    plt.fill_between(dfae_batch.index,y0[0,:],y0[2,:],alpha=0.8,color='#1f78b4')\n",
    "    \n",
    "    plt.plot(dfae_batch.index,y[1,:],color='#fc8d59',label='posterior')\n",
    "    plt.fill_between(dfae_batch.index,y[0,:],y[2,:],alpha=0.8,color='#fc8d59')\n",
    "    \n",
    "    \n",
    "    plt.xlabel('Temperature ($^\\circ$C)')\n",
    "    #plt.ylabel('Maximal specific growth rate (h$^{-1}$)')\n",
    "    plt.ylabel('Aerobic $r_{max}$ (h$^{-1}$)')\n",
    "    plt.ylim((0,0.4))\n",
    "    #plt.legend(loc='upper left',fontsize=8)\n",
    "    #plt.title('Aerobic growth')\n",
    "    plt.tight_layout()\n",
    "    if outname is not None: plt.savefig(outname)\n",
    "    plt.show()"
   ]
  },
  {
   "cell_type": "code",
   "execution_count": 145,
   "metadata": {},
   "outputs": [],
   "source": [
    "def plot_last_population_an(model,outname=None):\n",
    "    sns.set_style(\"ticks\")\n",
    "    plt.figure(figsize=(3,2.4))\n",
    "    plt.scatter(dfan_batch.index,dfan_batch['r_an'],color='k',label='experimental')\n",
    "    \n",
    "    \n",
    "    rs0 = list() # prior\n",
    "    rs = list()  # posterior\n",
    "    for item in model.simulated_data: rs.append(item['ran'])\n",
    "    for item in model.simulated_data_t0:rs0.append(item['ran'])\n",
    "    ts = [5.0,15.0,26.3,30.0,33.0,35.0,37.5,40.0]\n",
    "    print(np.var(dfan_batch.loc[ts,'r_an'])*0.15)\n",
    "    \n",
    "    rs0 = np.array(rs0)\n",
    "    y0 = np.percentile(rs0,[5,50,95],axis=0)\n",
    "    \n",
    "    rs = np.array(rs)\n",
    "    y = np.percentile(rs,[5,50,95],axis=0)\n",
    "    \n",
    "    plt.plot(ts,y0[1,:],color='#1f78b4',label='prior')\n",
    "    plt.fill_between(ts,y0[0,:],y0[2,:],alpha=0.8,color='#1f78b4')\n",
    "    \n",
    "    plt.plot(ts,y[1,:],color='#fc8d59',label='posterior')\n",
    "    plt.fill_between(ts,y[0,:],y[2,:],alpha=0.8,color='#fc8d59')\n",
    "    plt.ylim([0, np.max(y0[1,:]*2)])\n",
    "    plt.xlabel('Temperature ($^\\circ$C)')\n",
    "    #plt.ylabel('Maximal specific growth rate (h$^{-1}$)')\n",
    "    plt.ylabel('Anaerobic $r_{max}$ (h$^{-1}$)')\n",
    "    #plt.ylim((0,0.4))\n",
    "    #plt.legend(loc='upper left',fontsize=8)\n",
    "    #plt.title('Anaerobic growth')\n",
    "    plt.tight_layout()\n",
    "    if outname is not None: plt.savefig(outname)\n",
    "    plt.show()"
   ]
  },
  {
   "cell_type": "code",
   "execution_count": 146,
   "metadata": {},
   "outputs": [],
   "source": [
    "def plot_last_population_chemostat(model,prefix=None):\n",
    "    sns.set_style(\"ticks\")\n",
    "    \n",
    "    rs0 = []\n",
    "    rs  = []\n",
    "    for item in model.simulated_data_t0: rs0.append(item['chemostat'])\n",
    "    for item in model.simulated_data: rs.append(item['chemostat'])\n",
    "\n",
    "    #rs0 = np.array(rs0)\n",
    "    #yt0 = np.mean(rs0,axis=0)\n",
    "    #yerrt0 = np.std(rs0,axis=0)\n",
    "    \n",
    "    #rs = np.array(rs)\n",
    "    #yt = np.mean(rs,axis=0)\n",
    "    #yerrt = np.std(rs,axis=0)\n",
    "    rs0 = np.array(rs0)\n",
    "    yt0 = np.percentile(rs0,[5,50,95],axis=0)\n",
    "    \n",
    "    rs = np.array(rs)\n",
    "    yt = np.percentile(rs,[5,50,95],axis=0)\n",
    "    \n",
    "    cols = ['Glucose','CO2','Ethanol']\n",
    "    titles = ['Glucose','CO$_2$','Ethanol']\n",
    "    print(np.var(dfchemo[cols].values)*0.15)\n",
    "    for i in range(3):\n",
    "        plt.figure(figsize=(3,2.4))\n",
    "        plt.scatter(dfchemo.index,dfchemo[cols[i]],color='k',label='experimental')\n",
    "        y0 = yt0[:,i*6:(i+1)*6]\n",
    "        #yerr0 = yerrt0[i*6:(i+1)*6]\n",
    "        plt.plot(dfchemo.index,y0[1,:],color='#1f78b4',label='prior')\n",
    "        plt.fill_between(dfchemo.index,y0[0,:],y0[2,:],alpha=0.8,color='#1f78b4')\n",
    "        \n",
    "        y = yt[:,i*6:(i+1)*6]\n",
    "        #yerr = yerrt[i*6:(i+1)*6]\n",
    "        plt.plot(dfchemo.index,y[1,:],color='#fc8d59',label='posterior')\n",
    "        plt.fill_between(dfchemo.index,y[0,:],y[2,:],alpha=0.8,color='#fc8d59')\n",
    "        \n",
    "        plt.xlabel('Temperature ($^\\circ$C)')\n",
    "        plt.ylabel('{0}'.format(titles[i])+' (mmol gDW$^{-1}$ h$^{-1}$)')\n",
    "        plt.ylim((-1,18))\n",
    "        #plt.legend(loc='upper left',fontsize=8)\n",
    "        #plt.title(titles[i])\n",
    "        plt.tight_layout()\n",
    "        if prefix is not None: plt.savefig(prefix+'_{0}.pdf'.format(cols[i]))\n",
    "        plt.show()"
   ]
  },
  {
   "cell_type": "code",
   "execution_count": 147,
   "metadata": {},
   "outputs": [],
   "source": [
    "def plot_legend_growth():\n",
    "    plt.figure(figsize=(3,2.4))\n",
    "    plt.scatter([],[],color='k',label='Exp')\n",
    "    \n",
    "    plt.plot([],[],color='#1f78b4',label='Prior')\n",
    "    plt.fill_between([],[],[],alpha=0.8,color='#1f78b4')\n",
    "    \n",
    "    plt.plot([],[],color='#fc8d59',label='Posterior')\n",
    "    plt.fill_between([],[],[],alpha=0.8,color='#fc8d59')\n",
    "    \n",
    "    plt.legend(loc='center')\n",
    "    plt.axis('off')\n",
    "    plt.tight_layout()\n",
    "    plt.savefig('../figures/prior_posterior_legend.pdf',transparent=True)\n",
    "    plt.show()"
   ]
  },
  {
   "cell_type": "code",
   "execution_count": 148,
   "metadata": {},
   "outputs": [
    {
     "name": "stdout",
     "output_type": "stream",
     "text": [
      "0.0018241406250000005\n"
     ]
    },
    {
     "data": {
      "image/png": "[encoded data removed]",
      "text/plain": [
       "<Figure size 216x172.8 with 1 Axes>"
      ]
     },
     "metadata": {},
     "output_type": "display_data"
    }
   ],
   "source": [
    "plot_last_population_ae(model,outname='../figures/aerobic_prior_posterior.pdf')"
   ]
  },
  {
   "cell_type": "code",
   "execution_count": 149,
   "metadata": {},
   "outputs": [
    {
     "name": "stdout",
     "output_type": "stream",
     "text": [
      "0.0017126156249999997\n"
     ]
    },
    {
     "data": {
      "image/png": "[encoded data removed]",
      "text/plain": [
       "<Figure size 216x172.8 with 1 Axes>"
      ]
     },
     "metadata": {},
     "output_type": "display_data"
    }
   ],
   "source": [
    "plot_last_population_an(model,outname='../figures/anaerobic_prior_posterior.pdf')"
   ]
  },
  {
   "cell_type": "code",
   "execution_count": 150,
   "metadata": {},
   "outputs": [
    {
     "name": "stdout",
     "output_type": "stream",
     "text": [
      "4.260765416666666\n"
     ]
    },
    {
     "data": {
      "image/png": "[encoded data removed]",
      "text/plain": [
       "<Figure size 216x172.8 with 1 Axes>"
      ]
     },
     "metadata": {},
     "output_type": "display_data"
    },
    {
     "data": {
      "image/png": "[encoded data removed]",
      "text/plain": [
       "<Figure size 216x172.8 with 1 Axes>"
      ]
     },
     "metadata": {},
     "output_type": "display_data"
    },
    {
     "data": {
      "image/png": "[encoded data removed]",
      "text/plain": [
       "<Figure size 216x172.8 with 1 Axes>"
      ]
     },
     "metadata": {},
     "output_type": "display_data"
    }
   ],
   "source": [
    "plot_last_population_chemostat(model,prefix='../figures/chemostat_prior_posterior')"
   ]
  },
  {
   "cell_type": "code",
   "execution_count": 70,
   "metadata": {},
   "outputs": [
    {
     "data": {
      "image/png": "[encoded data removed]",
      "text/plain": [
       "<Figure size 216x172.8 with 1 Axes>"
      ]
     },
     "metadata": {},
     "output_type": "display_data"
    }
   ],
   "source": [
    " plot_legend_growth()"
   ]
  },
  {
   "cell_type": "markdown",
   "metadata": {},
   "source": [
    "### Visualize particle population"
   ]
  },
  {
   "cell_type": "code",
   "execution_count": null,
   "metadata": {},
   "outputs": [],
   "source": [
    "def combine_dataframes_for_models(df_dict):\n",
    "    # augmented_df_list =[ df.assign(model = lambda df: label)  for df, label in zip(df_list, index)]\n",
    "    augmented_df_dict = {label: df.copy() for label, df in df_dict.items()}\n",
    "    print(\"Copying done\")\n",
    "    for label, df in augmented_df_dict.items():\n",
    "        df[\"model\"] = label\n",
    "        df[\"period\"] = \"Intermediate\"\n",
    "        df.loc[:128,\"period\"] = \"Prior\"\n",
    "        df.loc[df[\"r2\"] > 0.9,\"period\"] = 'Posterior'\n",
    "        df.reset_index()\n",
    "    print(\"Labelling done\")\n",
    "    return pd.concat(augmented_df_dict.values(), ignore_index=True)"
   ]
  },
  {
   "cell_type": "code",
   "execution_count": 87,
   "metadata": {},
   "outputs": [],
   "source": [
    "sample_particle = model.all_particles[0]"
   ]
  },
  {
   "cell_type": "code",
   "execution_count": 88,
   "metadata": {},
   "outputs": [
    {
     "data": {
      "text/plain": [
       "dict"
      ]
     },
     "execution_count": 88,
     "metadata": {},
     "output_type": "execute_result"
    }
   ],
   "source": [
    "type(sample_particle)"
   ]
  },
  {
   "cell_type": "code",
   "execution_count": 100,
   "metadata": {},
   "outputs": [],
   "source": [
    "reference_model = pickle.load(open(\"../results/smcabc_gem_three_conditions_save_all_particles.pkl\",'rb'))"
   ]
  },
  {
   "cell_type": "code",
   "execution_count": 94,
   "metadata": {},
   "outputs": [],
   "source": [
    "sample_key = 'O13525_Tm'"
   ]
  },
  {
   "cell_type": "code",
   "execution_count": 96,
   "metadata": {},
   "outputs": [
    {
     "data": {
      "text/plain": [
       "<random_sampler.RV at 0x7f4fd58f2310>"
      ]
     },
     "execution_count": 96,
     "metadata": {},
     "output_type": "execute_result"
    }
   ],
   "source": [
    "sample_particle[sample_key]"
   ]
  },
  {
   "cell_type": "code",
   "execution_count": 112,
   "metadata": {},
   "outputs": [],
   "source": [
    "def build_a_dataframe_for_all_particles(results, convert_results=False):\n",
    "    columns = list(results.all_particles[0].keys())\n",
    "    columns.sort()\n",
    "\n",
    "    data = list()\n",
    "    for p in results.all_particles:\n",
    "        if convert_results:\n",
    "            p_refined = evo_etc.convert_to_raw_particle(p)\n",
    "        else:\n",
    "            p_refined = p\n",
    "        data.append([p_refined[k] for k in columns])\n",
    "    df = pd.DataFrame(data=data,columns=columns)\n",
    "    df['r2'] = results.all_distances\n",
    "    print(df.shape)\n",
    "    \n",
    "    # Remove samples with a R2 score smaller than -3\n",
    "    df['r2'] = -df['r2']\n",
    "    sel_index = df.index[df['r2']>-3]\n",
    "    df = df.loc[sel_index,:]\n",
    "    print(df.shape)\n",
    "\n",
    "    return df"
   ]
  },
  {
   "cell_type": "code",
   "execution_count": 107,
   "metadata": {},
   "outputs": [],
   "source": [
    "def perform_pca_on_parameters(df):\n",
    "    # 1. normalize all columns to a standard normal distribution\n",
    "    X, y = df.values[:,:-1], df.values[:,-1]\n",
    "    X_n = np.zeros_like(X)\n",
    "    \n",
    "    for i in range(X_n.shape[1]): X_n[:,i] = (X[:,i]-np.mean(X[:,i]))/np.std(X[:,i])\n",
    "    pca = PCA(n_components=2)\n",
    "    PCS = pca.fit_transform(X_n)\n",
    "    print(pca.explained_variance_ratio_)\n",
    "    return PCS,pca.explained_variance_ratio_\n",
    "\n",
    "def perform_pca_on_parameters(df):\n",
    "    # 1. normalize all columns to a standard normal distribution\n",
    "    X, y, model, period = df.values[:,:-3], df.values[:,-3], df.values[:,-2], df.values[:,-1]\n",
    "    X_n = np.zeros_like(X)    \n",
    "    for i in range(X_n.shape[1]): X_n[:,i] = (X[:,i]-np.mean(X[:,i]))/np.std(X[:,i])\n",
    "    pca = PCA(n_components=2)\n",
    "    PCS = pca.fit_transform(X_n)\n",
    "    print(pca.explained_variance_ratio_)\n",
    "    return PCS,pca.explained_variance_ratio_"
   ]
  },
  {
   "cell_type": "code",
   "execution_count": 104,
   "metadata": {},
   "outputs": [],
   "source": [
    "def combine_dataframes_for_models(df_dict):\n",
    "    # augmented_df_list =[ df.assign(model = lambda df: label)  for df, label in zip(df_list, index)]\n",
    "    augmented_df_dict = {label: df.copy() for label, df in df_dict.items()}\n",
    "    print(\"Copying done\")\n",
    "    for label, df in augmented_df_dict.items():\n",
    "        df[\"model\"] = label\n",
    "        df[\"period\"] = \"Intermediate\"\n",
    "        df.loc[:128,\"period\"] = \"Prior\"\n",
    "        df.loc[df[\"r2\"] > 0.9,\"period\"] = 'Posterior'\n",
    "        df.reset_index()\n",
    "    print(\"Labelling done\")\n",
    "    return pd.concat(augmented_df_dict.values(), ignore_index=True)\n",
    "    "
   ]
  },
  {
   "cell_type": "code",
   "execution_count": 113,
   "metadata": {},
   "outputs": [
    {
     "name": "stdout",
     "output_type": "stream",
     "text": [
      "(6750, 2293)\n",
      "(6147, 2293)\n",
      "(21504, 2293)\n",
      "(21058, 2293)\n"
     ]
    }
   ],
   "source": [
    "df_theta = build_a_dataframe_for_all_particles(model, convert_results=True)\n",
    "df_reference = build_a_dataframe_for_all_particles(reference_model)"
   ]
  },
  {
   "cell_type": "code",
   "execution_count": 114,
   "metadata": {},
   "outputs": [
    {
     "name": "stdout",
     "output_type": "stream",
     "text": [
      "Copying done\n",
      "Labelling done\n"
     ]
    }
   ],
   "source": [
    "combined_df = combine_dataframes_for_models({'bayesian' : df_reference, 'evolution': df_theta})"
   ]
  },
  {
   "cell_type": "code",
   "execution_count": 115,
   "metadata": {},
   "outputs": [
    {
     "name": "stdout",
     "output_type": "stream",
     "text": [
      "[0.07613013 0.00849685]\n"
     ]
    }
   ],
   "source": [
    "PCS,EV = perform_pca_on_parameters(combined_df)"
   ]
  },
  {
   "cell_type": "code",
   "execution_count": 118,
   "metadata": {},
   "outputs": [
    {
     "data": {
      "text/html": [
       "<div>\n",
       "<style scoped>\n",
       "    .dataframe tbody tr th:only-of-type {\n",
       "        vertical-align: middle;\n",
       "    }\n",
       "\n",
       "    .dataframe tbody tr th {\n",
       "        vertical-align: top;\n",
       "    }\n",
       "\n",
       "    .dataframe thead th {\n",
       "        text-align: right;\n",
       "    }\n",
       "</style>\n",
       "<table border=\"1\" class=\"dataframe\">\n",
       "  <thead>\n",
       "    <tr style=\"text-align: right;\">\n",
       "      <th></th>\n",
       "      <th>O13525_Tm</th>\n",
       "      <th>O13525_Topt</th>\n",
       "      <th>O13525_dCpt</th>\n",
       "      <th>P00044_Tm</th>\n",
       "      <th>P00044_Topt</th>\n",
       "      <th>P00044_dCpt</th>\n",
       "      <th>P00045_Tm</th>\n",
       "      <th>P00045_Topt</th>\n",
       "      <th>P00045_dCpt</th>\n",
       "      <th>P00127_Tm</th>\n",
       "      <th>...</th>\n",
       "      <th>Q99258_dCpt</th>\n",
       "      <th>Q99312_Tm</th>\n",
       "      <th>Q99312_Topt</th>\n",
       "      <th>Q99312_dCpt</th>\n",
       "      <th>Q99321_Tm</th>\n",
       "      <th>Q99321_Topt</th>\n",
       "      <th>Q99321_dCpt</th>\n",
       "      <th>r2</th>\n",
       "      <th>model</th>\n",
       "      <th>period</th>\n",
       "    </tr>\n",
       "  </thead>\n",
       "  <tbody>\n",
       "    <tr>\n",
       "      <th>0</th>\n",
       "      <td>323.383375</td>\n",
       "      <td>316.376290</td>\n",
       "      <td>-6282.961180</td>\n",
       "      <td>319.536771</td>\n",
       "      <td>303.624184</td>\n",
       "      <td>-6485.608261</td>\n",
       "      <td>330.836389</td>\n",
       "      <td>323.643022</td>\n",
       "      <td>-4013.327405</td>\n",
       "      <td>323.022442</td>\n",
       "      <td>...</td>\n",
       "      <td>-8293.810880</td>\n",
       "      <td>334.286147</td>\n",
       "      <td>329.997339</td>\n",
       "      <td>-6350.806882</td>\n",
       "      <td>321.661931</td>\n",
       "      <td>320.956646</td>\n",
       "      <td>-4880.532399</td>\n",
       "      <td>-1.281283</td>\n",
       "      <td>bayesian</td>\n",
       "      <td>Prior</td>\n",
       "    </tr>\n",
       "    <tr>\n",
       "      <th>1</th>\n",
       "      <td>323.225380</td>\n",
       "      <td>295.237549</td>\n",
       "      <td>-7308.050079</td>\n",
       "      <td>320.498313</td>\n",
       "      <td>318.548389</td>\n",
       "      <td>-7655.123502</td>\n",
       "      <td>330.136310</td>\n",
       "      <td>317.070954</td>\n",
       "      <td>-7383.973179</td>\n",
       "      <td>322.926765</td>\n",
       "      <td>...</td>\n",
       "      <td>-7862.861663</td>\n",
       "      <td>326.575802</td>\n",
       "      <td>299.750337</td>\n",
       "      <td>-6090.819228</td>\n",
       "      <td>328.073013</td>\n",
       "      <td>304.599145</td>\n",
       "      <td>-4868.482107</td>\n",
       "      <td>-0.651635</td>\n",
       "      <td>bayesian</td>\n",
       "      <td>Prior</td>\n",
       "    </tr>\n",
       "    <tr>\n",
       "      <th>2</th>\n",
       "      <td>317.676145</td>\n",
       "      <td>300.966752</td>\n",
       "      <td>-5635.864994</td>\n",
       "      <td>315.316548</td>\n",
       "      <td>297.833563</td>\n",
       "      <td>-9400.779200</td>\n",
       "      <td>329.843124</td>\n",
       "      <td>306.963812</td>\n",
       "      <td>-7164.439107</td>\n",
       "      <td>330.716702</td>\n",
       "      <td>...</td>\n",
       "      <td>-10490.758989</td>\n",
       "      <td>317.922504</td>\n",
       "      <td>300.270472</td>\n",
       "      <td>-2994.035078</td>\n",
       "      <td>326.335111</td>\n",
       "      <td>301.511659</td>\n",
       "      <td>-10053.456135</td>\n",
       "      <td>-1.951493</td>\n",
       "      <td>bayesian</td>\n",
       "      <td>Prior</td>\n",
       "    </tr>\n",
       "    <tr>\n",
       "      <th>3</th>\n",
       "      <td>317.902032</td>\n",
       "      <td>299.642782</td>\n",
       "      <td>-7449.385914</td>\n",
       "      <td>323.187804</td>\n",
       "      <td>293.599385</td>\n",
       "      <td>-7362.945481</td>\n",
       "      <td>321.493197</td>\n",
       "      <td>321.158309</td>\n",
       "      <td>-7024.974895</td>\n",
       "      <td>322.485356</td>\n",
       "      <td>...</td>\n",
       "      <td>-6567.463080</td>\n",
       "      <td>315.149925</td>\n",
       "      <td>306.500383</td>\n",
       "      <td>-4415.126780</td>\n",
       "      <td>324.659219</td>\n",
       "      <td>316.925327</td>\n",
       "      <td>-4196.536122</td>\n",
       "      <td>-1.392736</td>\n",
       "      <td>bayesian</td>\n",
       "      <td>Prior</td>\n",
       "    </tr>\n",
       "    <tr>\n",
       "      <th>4</th>\n",
       "      <td>321.567154</td>\n",
       "      <td>300.674084</td>\n",
       "      <td>-8399.496403</td>\n",
       "      <td>322.737474</td>\n",
       "      <td>314.142100</td>\n",
       "      <td>-7360.059564</td>\n",
       "      <td>337.422262</td>\n",
       "      <td>333.557588</td>\n",
       "      <td>-7726.017234</td>\n",
       "      <td>318.537663</td>\n",
       "      <td>...</td>\n",
       "      <td>-4017.897784</td>\n",
       "      <td>320.487330</td>\n",
       "      <td>290.088160</td>\n",
       "      <td>-3672.930047</td>\n",
       "      <td>328.996384</td>\n",
       "      <td>307.497107</td>\n",
       "      <td>-2400.047056</td>\n",
       "      <td>-1.902613</td>\n",
       "      <td>bayesian</td>\n",
       "      <td>Prior</td>\n",
       "    </tr>\n",
       "    <tr>\n",
       "      <th>...</th>\n",
       "      <td>...</td>\n",
       "      <td>...</td>\n",
       "      <td>...</td>\n",
       "      <td>...</td>\n",
       "      <td>...</td>\n",
       "      <td>...</td>\n",
       "      <td>...</td>\n",
       "      <td>...</td>\n",
       "      <td>...</td>\n",
       "      <td>...</td>\n",
       "      <td>...</td>\n",
       "      <td>...</td>\n",
       "      <td>...</td>\n",
       "      <td>...</td>\n",
       "      <td>...</td>\n",
       "      <td>...</td>\n",
       "      <td>...</td>\n",
       "      <td>...</td>\n",
       "      <td>...</td>\n",
       "      <td>...</td>\n",
       "      <td>...</td>\n",
       "    </tr>\n",
       "    <tr>\n",
       "      <th>27200</th>\n",
       "      <td>327.366486</td>\n",
       "      <td>321.296298</td>\n",
       "      <td>-5974.809148</td>\n",
       "      <td>321.928354</td>\n",
       "      <td>313.313639</td>\n",
       "      <td>-10438.955642</td>\n",
       "      <td>324.949918</td>\n",
       "      <td>311.821975</td>\n",
       "      <td>-5355.490822</td>\n",
       "      <td>325.080898</td>\n",
       "      <td>...</td>\n",
       "      <td>-6839.365293</td>\n",
       "      <td>323.694039</td>\n",
       "      <td>306.877547</td>\n",
       "      <td>-5146.794671</td>\n",
       "      <td>325.972039</td>\n",
       "      <td>317.668715</td>\n",
       "      <td>-6089.503792</td>\n",
       "      <td>0.908160</td>\n",
       "      <td>evolution</td>\n",
       "      <td>Posterior</td>\n",
       "    </tr>\n",
       "    <tr>\n",
       "      <th>27201</th>\n",
       "      <td>327.366486</td>\n",
       "      <td>321.296298</td>\n",
       "      <td>-5974.809148</td>\n",
       "      <td>321.928354</td>\n",
       "      <td>313.313639</td>\n",
       "      <td>-10438.955642</td>\n",
       "      <td>324.949918</td>\n",
       "      <td>311.821975</td>\n",
       "      <td>-5355.490822</td>\n",
       "      <td>325.080898</td>\n",
       "      <td>...</td>\n",
       "      <td>-6839.365293</td>\n",
       "      <td>323.694039</td>\n",
       "      <td>306.877547</td>\n",
       "      <td>-5146.794671</td>\n",
       "      <td>324.429633</td>\n",
       "      <td>317.668715</td>\n",
       "      <td>-6089.503792</td>\n",
       "      <td>0.953386</td>\n",
       "      <td>evolution</td>\n",
       "      <td>Posterior</td>\n",
       "    </tr>\n",
       "    <tr>\n",
       "      <th>27202</th>\n",
       "      <td>331.444192</td>\n",
       "      <td>320.775587</td>\n",
       "      <td>-5846.432184</td>\n",
       "      <td>321.965572</td>\n",
       "      <td>313.311729</td>\n",
       "      <td>-10201.984569</td>\n",
       "      <td>325.063705</td>\n",
       "      <td>311.910532</td>\n",
       "      <td>-5344.776799</td>\n",
       "      <td>325.081315</td>\n",
       "      <td>...</td>\n",
       "      <td>-6938.335992</td>\n",
       "      <td>323.686019</td>\n",
       "      <td>307.395799</td>\n",
       "      <td>-5146.588332</td>\n",
       "      <td>324.259700</td>\n",
       "      <td>317.660201</td>\n",
       "      <td>-6096.258364</td>\n",
       "      <td>-0.886124</td>\n",
       "      <td>evolution</td>\n",
       "      <td>Intermediate</td>\n",
       "    </tr>\n",
       "    <tr>\n",
       "      <th>27203</th>\n",
       "      <td>327.369057</td>\n",
       "      <td>320.775587</td>\n",
       "      <td>-5846.432184</td>\n",
       "      <td>321.965572</td>\n",
       "      <td>313.311729</td>\n",
       "      <td>-10201.984569</td>\n",
       "      <td>325.063705</td>\n",
       "      <td>311.910532</td>\n",
       "      <td>-5344.776799</td>\n",
       "      <td>325.081315</td>\n",
       "      <td>...</td>\n",
       "      <td>-6938.335992</td>\n",
       "      <td>323.686019</td>\n",
       "      <td>307.395799</td>\n",
       "      <td>-5146.588332</td>\n",
       "      <td>324.259700</td>\n",
       "      <td>317.660201</td>\n",
       "      <td>-6096.258364</td>\n",
       "      <td>0.954148</td>\n",
       "      <td>evolution</td>\n",
       "      <td>Posterior</td>\n",
       "    </tr>\n",
       "    <tr>\n",
       "      <th>27204</th>\n",
       "      <td>327.366486</td>\n",
       "      <td>321.296298</td>\n",
       "      <td>-5974.809148</td>\n",
       "      <td>321.928354</td>\n",
       "      <td>313.313639</td>\n",
       "      <td>-10438.955642</td>\n",
       "      <td>324.949918</td>\n",
       "      <td>311.821975</td>\n",
       "      <td>-5355.490822</td>\n",
       "      <td>325.080898</td>\n",
       "      <td>...</td>\n",
       "      <td>-6839.365293</td>\n",
       "      <td>323.694039</td>\n",
       "      <td>306.877547</td>\n",
       "      <td>-5146.794671</td>\n",
       "      <td>324.429633</td>\n",
       "      <td>317.668715</td>\n",
       "      <td>-6089.503792</td>\n",
       "      <td>0.953875</td>\n",
       "      <td>evolution</td>\n",
       "      <td>Posterior</td>\n",
       "    </tr>\n",
       "  </tbody>\n",
       "</table>\n",
       "<p>27205 rows × 2295 columns</p>\n",
       "</div>"
      ],
      "text/plain": [
       "        O13525_Tm  O13525_Topt  O13525_dCpt   P00044_Tm  P00044_Topt  \\\n",
       "0      323.383375   316.376290 -6282.961180  319.536771   303.624184   \n",
       "1      323.225380   295.237549 -7308.050079  320.498313   318.548389   \n",
       "2      317.676145   300.966752 -5635.864994  315.316548   297.833563   \n",
       "3      317.902032   299.642782 -7449.385914  323.187804   293.599385   \n",
       "4      321.567154   300.674084 -8399.496403  322.737474   314.142100   \n",
       "...           ...          ...          ...         ...          ...   \n",
       "27200  327.366486   321.296298 -5974.809148  321.928354   313.313639   \n",
       "27201  327.366486   321.296298 -5974.809148  321.928354   313.313639   \n",
       "27202  331.444192   320.775587 -5846.432184  321.965572   313.311729   \n",
       "27203  327.369057   320.775587 -5846.432184  321.965572   313.311729   \n",
       "27204  327.366486   321.296298 -5974.809148  321.928354   313.313639   \n",
       "\n",
       "        P00044_dCpt   P00045_Tm  P00045_Topt  P00045_dCpt   P00127_Tm  ...  \\\n",
       "0      -6485.608261  330.836389   323.643022 -4013.327405  323.022442  ...   \n",
       "1      -7655.123502  330.136310   317.070954 -7383.973179  322.926765  ...   \n",
       "2      -9400.779200  329.843124   306.963812 -7164.439107  330.716702  ...   \n",
       "3      -7362.945481  321.493197   321.158309 -7024.974895  322.485356  ...   \n",
       "4      -7360.059564  337.422262   333.557588 -7726.017234  318.537663  ...   \n",
       "...             ...         ...          ...          ...         ...  ...   \n",
       "27200 -10438.955642  324.949918   311.821975 -5355.490822  325.080898  ...   \n",
       "27201 -10438.955642  324.949918   311.821975 -5355.490822  325.080898  ...   \n",
       "27202 -10201.984569  325.063705   311.910532 -5344.776799  325.081315  ...   \n",
       "27203 -10201.984569  325.063705   311.910532 -5344.776799  325.081315  ...   \n",
       "27204 -10438.955642  324.949918   311.821975 -5355.490822  325.080898  ...   \n",
       "\n",
       "        Q99258_dCpt   Q99312_Tm  Q99312_Topt  Q99312_dCpt   Q99321_Tm  \\\n",
       "0      -8293.810880  334.286147   329.997339 -6350.806882  321.661931   \n",
       "1      -7862.861663  326.575802   299.750337 -6090.819228  328.073013   \n",
       "2     -10490.758989  317.922504   300.270472 -2994.035078  326.335111   \n",
       "3      -6567.463080  315.149925   306.500383 -4415.126780  324.659219   \n",
       "4      -4017.897784  320.487330   290.088160 -3672.930047  328.996384   \n",
       "...             ...         ...          ...          ...         ...   \n",
       "27200  -6839.365293  323.694039   306.877547 -5146.794671  325.972039   \n",
       "27201  -6839.365293  323.694039   306.877547 -5146.794671  324.429633   \n",
       "27202  -6938.335992  323.686019   307.395799 -5146.588332  324.259700   \n",
       "27203  -6938.335992  323.686019   307.395799 -5146.588332  324.259700   \n",
       "27204  -6839.365293  323.694039   306.877547 -5146.794671  324.429633   \n",
       "\n",
       "       Q99321_Topt   Q99321_dCpt        r2      model        period  \n",
       "0       320.956646  -4880.532399 -1.281283   bayesian         Prior  \n",
       "1       304.599145  -4868.482107 -0.651635   bayesian         Prior  \n",
       "2       301.511659 -10053.456135 -1.951493   bayesian         Prior  \n",
       "3       316.925327  -4196.536122 -1.392736   bayesian         Prior  \n",
       "4       307.497107  -2400.047056 -1.902613   bayesian         Prior  \n",
       "...            ...           ...       ...        ...           ...  \n",
       "27200   317.668715  -6089.503792  0.908160  evolution     Posterior  \n",
       "27201   317.668715  -6089.503792  0.953386  evolution     Posterior  \n",
       "27202   317.660201  -6096.258364 -0.886124  evolution  Intermediate  \n",
       "27203   317.660201  -6096.258364  0.954148  evolution     Posterior  \n",
       "27204   317.668715  -6089.503792  0.953875  evolution     Posterior  \n",
       "\n",
       "[27205 rows x 2295 columns]"
      ]
     },
     "execution_count": 118,
     "metadata": {},
     "output_type": "execute_result"
    }
   ],
   "source": [
    "combined_df"
   ]
  },
  {
   "cell_type": "code",
   "execution_count": 122,
   "metadata": {},
   "outputs": [
    {
     "name": "stdout",
     "output_type": "stream",
     "text": [
      "(21058,)\n",
      "(6147,)\n"
     ]
    },
    {
     "data": {
      "image/png": "[encoded data removed]",
      "text/plain": [
       "<Figure size 216x172.8 with 1 Axes>"
      ]
     },
     "metadata": {},
     "output_type": "display_data"
    }
   ],
   "source": [
    "# y = combined_df.values[:,-1]\n",
    "# plt.figure(figsize=(3.,2.4))\n",
    "\n",
    "# plt.scatter(PCS[:,0],PCS[:,1],color='grey',alpha=0.2)\n",
    "# plt.scatter(PCS[:128,0],PCS[:128,1],color='#1f78b4',label='Prior')\n",
    "# plt.scatter([],[],color='grey',alpha=0.2,label='Intermediate')\n",
    "# plt.scatter(PCS[y>0.9,0],PCS[y>0.9,1],color='#fc8d59',label='Posterior')\n",
    "\n",
    "# plt.xlabel('PC1 ({:.2f}%)'.format(EV[0]*100))\n",
    "# plt.ylabel('PC2 ({:.2f}%)'.format(EV[1]*100))\n",
    "# plt.legend(frameon=False,loc=(0.15,0.65),fontsize=8)\n",
    "# plt.xticks(np.arange(-10,20,5))\n",
    "# plt.tight_layout()\n",
    "# #plt.savefig('../figures/pca.pdf')\n",
    "# plt.savefig('../figures/pca.png',dpi=300)\n",
    "# plt.show()\n",
    "y = combined_df.values[:,-3]\n",
    "period = combined_df.values[:,-1]\n",
    "model_name = combined_df.values[:,-2]\n",
    "all_periods = [\"Prior\", \"Intermediate\", 'Posterior']\n",
    "period_idxs = {period_name: np.nonzero(period == period_name)[0] for period_name in all_periods}\n",
    "combined_index = ['bayesian', 'evolution']\n",
    "plt.figure(figsize=(3.,2.4))\n",
    "markers = [\"o\",\"v\",\"^\",\"<\"]\n",
    "marker_dict = {label: marker for label, marker in zip(combined_index, markers)}\n",
    "for label in combined_index:\n",
    "    label_idxs = np.nonzero(model_name == label)[0]\n",
    "    marker = marker_dict[label]\n",
    "    this_idxs = {period: np.intersect1d(period_idxs[period], label_idxs) for period in all_periods}\n",
    "    print(label_idxs.shape)\n",
    "    # plt.scatter(PCS[:,0],PCS[:,1],color='grey',alpha=0.2)\n",
    "    # prior_idxs = np.intersect1d(label_idxs, period_idxs[\"prior\"])\n",
    "    plt.scatter(PCS[this_idxs['Prior'],0],PCS[this_idxs['Prior'], 1],color='#1f78b4',label='Prior', marker=marker)\n",
    "    plt.scatter(PCS[this_idxs[\"Intermediate\"],0],PCS[this_idxs[\"Intermediate\"], 1],\n",
    "                color='grey',alpha=0.1,label='Intermediate',marker=marker)\n",
    "    plt.scatter(PCS[this_idxs['Posterior'],0],PCS[this_idxs['Posterior'], 1],\n",
    "                color='#fc8d59',label='Posterior',marker=marker)\n",
    "plt.xlabel('PC1 ({:.2f}%)'.format(EV[0]*100))\n",
    "plt.ylabel('PC2 ({:.2f}%)'.format(EV[1]*100))\n",
    "# plt.legend(frameon=False,loc=(0.15,0.65),fontsize=8)\n",
    "plt.xticks(np.arange(-10,20,5))\n",
    "plt.tight_layout()\n",
    "#plt.savefig('../figures/pca.pdf')\n",
    "plt.savefig('../figures/pca.png',dpi=300)\n",
    "plt.show()"
   ]
  },
  {
   "cell_type": "code",
   "execution_count": 123,
   "metadata": {},
   "outputs": [
    {
     "data": {
      "text/plain": [
       "{'bayesian': 'o', 'evolution': 'v'}"
      ]
     },
     "execution_count": 123,
     "metadata": {},
     "output_type": "execute_result"
    }
   ],
   "source": [
    "marker_dict"
   ]
  },
  {
   "cell_type": "markdown",
   "metadata": {},
   "source": [
    "# Note the thesholded convergence to the solution"
   ]
  },
  {
   "cell_type": "code",
   "execution_count": 128,
   "metadata": {},
   "outputs": [
    {
     "data": {
      "text/plain": [
       "-0.9"
      ]
     },
     "execution_count": 128,
     "metadata": {},
     "output_type": "execute_result"
    }
   ],
   "source": [
    "model.min_epsilon"
   ]
  },
  {
   "cell_type": "code",
   "execution_count": 131,
   "metadata": {},
   "outputs": [
    {
     "data": {
      "text/plain": [
       "Text(0.5, 0, 'Generation')"
      ]
     },
     "execution_count": 131,
     "metadata": {},
     "output_type": "execute_result"
    },
    {
     "data": {
      "image/png": "[encoded data removed]",
      "text/plain": [
       "<Figure size 432x288 with 1 Axes>"
      ]
     },
     "metadata": {},
     "output_type": "display_data"
    }
   ],
   "source": [
    "plt.plot(model.epsilons)\n",
    "plt.ylim([-1,3])\n",
    "plt.ylabel('Model minimum epsilon')\n",
    "plt.xlabel('Generation')"
   ]
  }
 ],
 "metadata": {
  "kernelspec": {
   "display_name": "Python 3 (ipykernel)",
   "language": "python",
   "name": "python3"
  },
  "language_info": {
   "codemirror_mode": {
    "name": "ipython",
    "version": 3
   },
   "file_extension": ".py",
   "mimetype": "text/x-python",
   "name": "python",
   "nbconvert_exporter": "python",
   "pygments_lexer": "ipython3",
   "version": "3.8.12"
  }
 },
 "nbformat": 4,
 "nbformat_minor": 4
}
