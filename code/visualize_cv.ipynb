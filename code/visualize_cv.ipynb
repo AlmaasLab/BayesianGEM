{
 "cells": [
  {
   "cell_type": "code",
   "execution_count": 1,
   "metadata": {},
   "outputs": [],
   "source": [
    "import matplotlib.pyplot as plt\n",
    "import numpy as np\n",
    "import pandas as pd\n",
    "import pickle\n",
    "import GEMS\n",
    "import os\n",
    "import seaborn as sns\n",
    "from sklearn.metrics import mean_squared_error as MSE\n",
    "from scipy.stats import ttest_ind as ttest\n",
    "from sklearn.decomposition import PCA\n",
    "from scipy import stats \n",
    "from matplotlib import gridspec\n",
    "from sklearn.metrics import r2_score\n",
    "from statsmodels.stats.multitest import multipletests"
   ]
  },
  {
   "cell_type": "code",
   "execution_count": 2,
   "metadata": {},
   "outputs": [],
   "source": [
    "Yobs_batch = GEMS.aerobic_exp_data()\n",
    "Yobs_chemo = GEMS.chemostat_exp_data()\n",
    "#Yobs_batch_an = GEMS.anaerobic_exp_data()\n",
    "dfae_batch,dfan_batch =GEMS.load_exp_batch_data('../data/ExpGrowth.tsv')\n",
    "sel_temp = [5.0,15.0,26.3,30.0,33.0,35.0,37.5,40.0]\n",
    "Yobs_batch_an = {'data':dfan_batch.loc[sel_temp,'r_an'].values}\n",
    "\n",
    "Yobs = {'rae':Yobs_batch['data'],\n",
    "        'chemostat':Yobs_chemo['data'],\n",
    "        'ran':Yobs_batch_an['data']}"
   ]
  },
  {
   "cell_type": "code",
   "execution_count": 3,
   "metadata": {},
   "outputs": [],
   "source": [
    "def r2_on_dbs(simulated_data_one,Yobs,dbs):\n",
    "    r2_diff_dbs = [r2_score(Yobs[db],simulated_data_one[db]) for db in dbs]\n",
    "    return np.mean(r2_diff_dbs)"
   ]
  },
  {
   "cell_type": "code",
   "execution_count": 4,
   "metadata": {},
   "outputs": [],
   "source": [
    "def cal_train_test_scores(model,cv,Yobs):\n",
    "    cvs = {1: ['rae','chemostat'],\n",
    "           2: ['rae','ran'],\n",
    "           3: ['chemostat','ran']}\n",
    "    test_db = [db for db in Yobs.keys() if db not in cvs[cv]]\n",
    "    \n",
    "    ind = 0\n",
    "    train_r2s, test_r2s = [], []\n",
    "    print(len(model.all_simulated_data))\n",
    "    while ind <len(model.all_simulated_data):\n",
    "        # training\n",
    "        data_history = model.all_simulated_data[:ind+128]\n",
    "        r2s_history = [(r2_on_dbs(item, Yobs, cvs[cv]),i) for i,item in enumerate(data_history)]\n",
    "        r2s_history.sort()\n",
    "        r2s_train_now = [item[0] for item in r2s_history[-100:]]\n",
    "        train_r2s.append(r2s_train_now)\n",
    "        \n",
    "        # test\n",
    "        #data_test =  model.all_simulated_data[ind:ind+128]\n",
    "        data_test = [data_history[item[-1]] for item in r2s_history[-100:]]\n",
    "        r2s_test = [r2_on_dbs(item,Yobs,test_db) for item in data_test]\n",
    "        test_r2s.append(r2s_test)\n",
    "        ind +=128\n",
    "    return train_r2s, test_r2s"
   ]
  },
  {
   "cell_type": "code",
   "execution_count": 5,
   "metadata": {},
   "outputs": [],
   "source": [
    "def _plot_confidence_interval(data,label):\n",
    "    y = np.array(data)\n",
    "    \n",
    "    yp = np.percentile(y,[5,50,95],axis=1)\n",
    "    print(len(data),y.shape,yp.shape)\n",
    "    plt.plot(np.arange(len(data)),yp[1,:],label=label)\n",
    "    plt.fill_between(np.arange(len(data)),yp[0,:],yp[2,:],alpha=0.5)\n",
    "    "
   ]
  },
  {
   "cell_type": "code",
   "execution_count": 6,
   "metadata": {},
   "outputs": [],
   "source": [
    "def plot_confidence_interval_train_test(cv,legend=True):\n",
    "    model = pickle.load(open('../results/smcabc_gem_three_conditions_save_all_particles_cv{0}.pkl'.format(cv),'rb'))\n",
    "    train_r2s, test_r2s= cal_train_test_scores(model,cv,Yobs)\n",
    "    \n",
    "    plt.figure(figsize=(3,2.4))\n",
    "    _plot_confidence_interval(train_r2s,'training')\n",
    "    _plot_confidence_interval(test_r2s,'test')\n",
    "    \n",
    "    #plt.ylim([0,1])\n",
    "    plt.xlabel('Iterations')\n",
    "    plt.ylabel('$R^2$')\n",
    "    if legend:plt.legend()\n",
    "    plt.tight_layout()\n",
    "    plt.savefig('../figures/cv_{0}.pdf'.format(cv))\n",
    "    plt.show()\n",
    "    "
   ]
  },
  {
   "cell_type": "code",
   "execution_count": 7,
   "metadata": {},
   "outputs": [],
   "source": [
    "def _test_score(model,cv, Yobs):\n",
    "    cvs = {1: ['rae','chemostat'],\n",
    "           2: ['rae','ran'],\n",
    "           3: ['chemostat','ran']}\n",
    "    test_db = [db for db in Yobs.keys() if db not in cvs[cv]][0]\n",
    "    \n",
    "    sim_test_data_last = [res[test_db] for res in model.simulated_data]\n",
    "    sim_test_data_first = [res[test_db] for res in model.simulated_data_t0[:100]]\n",
    "    \n",
    "    r2s_test_last = [r2_score(Yobs[test_db],item) for item in sim_test_data_last]\n",
    "    r2s_test_first = [r2_score(Yobs[test_db],item) for item in sim_test_data_first]\n",
    "    \n",
    "    plt.boxplot([r2s_test_first,r2s_test_last],showfliers=False)\n",
    "    plt.show()\n",
    "    \n",
    "    test_score_iterations = []\n",
    "    ind = 0\n",
    "    while ind <len(model.all_simulated_data):\n",
    "        data_it = [res[test_db] for res in model.all_simulated_data[ind:ind+128]]\n",
    "        r2s_it = [r2_score(Yobs[test_db],item) for item in data_it]\n",
    "        test_score_iterations.append(np.median(r2s_it))\n",
    "        ind +=128\n",
    "    print(len(test_score_iterations))\n",
    "    return test_score_iterations[1:]"
   ]
  },
  {
   "cell_type": "code",
   "execution_count": 8,
   "metadata": {},
   "outputs": [],
   "source": [
    "def _plot(cv):\n",
    "    model = pickle.load(open('../results/smcabc_gem_three_conditions_save_all_particles_cv{0}.pkl'.format(cv),'rb'))\n",
    "    test_score_iterations= _test_score(model,cv, Yobs)\n",
    "    \n",
    "    plt.figure(figsize=(3,2.4))\n",
    "    plt.plot(np.arange(len(model.epsilons)-1),-np.array(model.epsilons[1:]),'k-',linewidth=3,label='training')\n",
    "    plt.plot(np.arange(len(test_score_iterations)),test_score_iterations)\n",
    "    #plt.ylim([0,1])\n",
    "    plt.xlabel('Iterations')\n",
    "    plt.ylabel('$R^2$')\n",
    "    plt.tight_layout()\n",
    "    \n",
    "    plt.show()\n",
    "    print(-model.epsilons[-1])\n",
    "    "
   ]
  },
  {
   "cell_type": "code",
   "execution_count": 15,
   "metadata": {},
   "outputs": [
    {
     "name": "stdout",
     "output_type": "stream",
     "text": [
      "5248\n",
      "41 (41, 100) (3, 41)\n",
      "41 (41, 100) (3, 41)\n"
     ]
    },
    {
     "data": {
      "image/png": "[encoded data removed]",
      "text/plain": [
       "<Figure size 216x172.8 with 1 Axes>"
      ]
     },
     "metadata": {
      "needs_background": "light"
     },
     "output_type": "display_data"
    }
   ],
   "source": [
    "plot_confidence_interval_train_test(1,False)"
   ]
  },
  {
   "cell_type": "code",
   "execution_count": 13,
   "metadata": {},
   "outputs": [
    {
     "name": "stdout",
     "output_type": "stream",
     "text": [
      "2048\n",
      "16 (16, 100) (3, 16)\n",
      "16 (16, 100) (3, 16)\n"
     ]
    },
    {
     "data": {
      "image/png": "[encoded data removed]",
      "text/plain": [
       "<Figure size 216x172.8 with 1 Axes>"
      ]
     },
     "metadata": {
      "needs_background": "light"
     },
     "output_type": "display_data"
    }
   ],
   "source": [
    "plot_confidence_interval_train_test(2)"
   ]
  },
  {
   "cell_type": "code",
   "execution_count": 14,
   "metadata": {},
   "outputs": [
    {
     "name": "stdout",
     "output_type": "stream",
     "text": [
      "4352\n",
      "34 (34, 100) (3, 34)\n",
      "34 (34, 100) (3, 34)\n"
     ]
    },
    {
     "data": {
      "image/png": "[encoded data removed]",
      "text/plain": [
       "<Figure size 216x172.8 with 1 Axes>"
      ]
     },
     "metadata": {
      "needs_background": "light"
     },
     "output_type": "display_data"
    }
   ],
   "source": [
    "plot_confidence_interval_train_test(3,False)"
   ]
  },
  {
   "cell_type": "code",
   "execution_count": null,
   "metadata": {},
   "outputs": [],
   "source": []
  },
  {
   "cell_type": "code",
   "execution_count": null,
   "metadata": {},
   "outputs": [],
   "source": []
  }
 ],
 "metadata": {
  "kernelspec": {
   "display_name": "Python 3",
   "language": "python",
   "name": "python3"
  },
  "language_info": {
   "codemirror_mode": {
    "name": "ipython",
    "version": 3
   },
   "file_extension": ".py",
   "mimetype": "text/x-python",
   "name": "python",
   "nbconvert_exporter": "python",
   "pygments_lexer": "ipython3",
   "version": "3.6.7"
  }
 },
 "nbformat": 4,
 "nbformat_minor": 2
}
