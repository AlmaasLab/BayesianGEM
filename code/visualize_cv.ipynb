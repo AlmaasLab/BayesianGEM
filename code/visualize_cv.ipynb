{
 "cells": [
  {
   "cell_type": "code",
   "execution_count": 1,
   "metadata": {},
   "outputs": [],
   "source": [
    "import matplotlib.pyplot as plt\n",
    "import numpy as np\n",
    "import pandas as pd\n",
    "import pickle\n",
    "import GEMS\n",
    "import os\n",
    "import seaborn as sns\n",
    "from sklearn.metrics import mean_squared_error as MSE\n",
    "from scipy.stats import ttest_ind as ttest\n",
    "from sklearn.decomposition import PCA\n",
    "from scipy import stats \n",
    "from matplotlib import gridspec\n",
    "from sklearn.metrics import r2_score\n",
    "from statsmodels.stats.multitest import multipletests"
   ]
  },
  {
   "cell_type": "markdown",
   "metadata": {},
   "source": [
    "### 3-fold cross validation"
   ]
  },
  {
   "cell_type": "code",
   "execution_count": 2,
   "metadata": {},
   "outputs": [],
   "source": [
    "Yobs_batch = GEMS.aerobic_exp_data()\n",
    "Yobs_chemo = GEMS.chemostat_exp_data()\n",
    "#Yobs_batch_an = GEMS.anaerobic_exp_data()\n",
    "dfae_batch,dfan_batch =GEMS.load_exp_batch_data('../data/ExpGrowth.tsv')\n",
    "sel_temp = [5.0,15.0,26.3,30.0,33.0,35.0,37.5,40.0]\n",
    "Yobs_batch_an = {'data':dfan_batch.loc[sel_temp,'r_an'].values}\n",
    "\n",
    "Yobs = {'rae':Yobs_batch['data'],\n",
    "        'chemostat':Yobs_chemo['data'],\n",
    "        'ran':Yobs_batch_an['data']}"
   ]
  },
  {
   "cell_type": "code",
   "execution_count": 3,
   "metadata": {},
   "outputs": [],
   "source": [
    "def r2_on_dbs(simulated_data_one,Yobs,dbs):\n",
    "    r2_diff_dbs = [r2_score(Yobs[db],simulated_data_one[db]) for db in dbs]\n",
    "    return np.mean(r2_diff_dbs)"
   ]
  },
  {
   "cell_type": "code",
   "execution_count": 4,
   "metadata": {},
   "outputs": [],
   "source": [
    "def cal_train_test_scores(model,cv,Yobs):\n",
    "    cvs = {1: ['rae','chemostat'],\n",
    "           2: ['rae','ran'],\n",
    "           3: ['chemostat','ran']}\n",
    "    test_db = [db for db in Yobs.keys() if db not in cvs[cv]]\n",
    "    \n",
    "    ind = 0\n",
    "    train_r2s, test_r2s = [], []\n",
    "    print(len(model.all_simulated_data))\n",
    "    while ind <len(model.all_simulated_data):\n",
    "        # training\n",
    "        data_history = model.all_simulated_data[:ind+128]\n",
    "        r2s_history = [(r2_on_dbs(item, Yobs, cvs[cv]),i) for i,item in enumerate(data_history)]\n",
    "        r2s_history.sort()\n",
    "        r2s_train_now = [item[0] for item in r2s_history[-100:]]\n",
    "        train_r2s.append(r2s_train_now)\n",
    "        \n",
    "        # test\n",
    "        #data_test =  model.all_simulated_data[ind:ind+128]\n",
    "        data_test = [data_history[item[-1]] for item in r2s_history[-100:]]\n",
    "        r2s_test = [r2_on_dbs(item,Yobs,test_db) for item in data_test]\n",
    "        test_r2s.append(r2s_test)\n",
    "        ind +=128\n",
    "    return train_r2s, test_r2s"
   ]
  },
  {
   "cell_type": "code",
   "execution_count": 5,
   "metadata": {},
   "outputs": [],
   "source": [
    "def _plot_confidence_interval(data,label):\n",
    "    y = np.array(data)\n",
    "    \n",
    "    yp = np.percentile(y,[5,50,95],axis=1)\n",
    "    print(len(data),y.shape,yp.shape)\n",
    "    plt.plot(np.arange(len(data)),yp[1,:],label=label)\n",
    "    plt.fill_between(np.arange(len(data)),yp[0,:],yp[2,:],alpha=0.5)\n",
    "    "
   ]
  },
  {
   "cell_type": "code",
   "execution_count": 6,
   "metadata": {},
   "outputs": [],
   "source": [
    "def plot_confidence_interval_train_test(cv,legend=True):\n",
    "    model = pickle.load(open('../results/smcabc_gem_three_conditions_save_all_particles_cv{0}.pkl'.format(cv),'rb'))\n",
    "    train_r2s, test_r2s= cal_train_test_scores(model,cv,Yobs)\n",
    "    \n",
    "    plt.figure(figsize=(3,2.4))\n",
    "    _plot_confidence_interval(train_r2s,'training')\n",
    "    _plot_confidence_interval(test_r2s,'test')\n",
    "    \n",
    "    #plt.ylim([0,1])\n",
    "    plt.xlabel('Iterations')\n",
    "    plt.ylabel('$R^2$')\n",
    "    if legend:plt.legend()\n",
    "    plt.tight_layout()\n",
    "    plt.savefig('../figures/cv_{0}.pdf'.format(cv))\n",
    "    plt.show()\n",
    "    "
   ]
  },
  {
   "cell_type": "code",
   "execution_count": 7,
   "metadata": {},
   "outputs": [],
   "source": [
    "def _test_score(model,cv, Yobs):\n",
    "    cvs = {1: ['rae','chemostat'],\n",
    "           2: ['rae','ran'],\n",
    "           3: ['chemostat','ran']}\n",
    "    test_db = [db for db in Yobs.keys() if db not in cvs[cv]][0]\n",
    "    \n",
    "    sim_test_data_last = [res[test_db] for res in model.simulated_data]\n",
    "    sim_test_data_first = [res[test_db] for res in model.simulated_data_t0[:100]]\n",
    "    \n",
    "    r2s_test_last = [r2_score(Yobs[test_db],item) for item in sim_test_data_last]\n",
    "    r2s_test_first = [r2_score(Yobs[test_db],item) for item in sim_test_data_first]\n",
    "    \n",
    "    plt.boxplot([r2s_test_first,r2s_test_last],showfliers=False)\n",
    "    plt.show()\n",
    "    \n",
    "    test_score_iterations = []\n",
    "    ind = 0\n",
    "    while ind <len(model.all_simulated_data):\n",
    "        data_it = [res[test_db] for res in model.all_simulated_data[ind:ind+128]]\n",
    "        r2s_it = [r2_score(Yobs[test_db],item) for item in data_it]\n",
    "        test_score_iterations.append(np.median(r2s_it))\n",
    "        ind +=128\n",
    "    print(len(test_score_iterations))\n",
    "    return test_score_iterations[1:]"
   ]
  },
  {
   "cell_type": "code",
   "execution_count": 8,
   "metadata": {},
   "outputs": [],
   "source": [
    "def _plot(cv):\n",
    "    model = pickle.load(open('../results/smcabc_gem_three_conditions_save_all_particles_cv{0}.pkl'.format(cv),'rb'))\n",
    "    test_score_iterations= _test_score(model,cv, Yobs)\n",
    "    \n",
    "    plt.figure(figsize=(3,2.4))\n",
    "    plt.plot(np.arange(len(model.epsilons)-1),-np.array(model.epsilons[1:]),'k-',linewidth=3,label='training')\n",
    "    plt.plot(np.arange(len(test_score_iterations)),test_score_iterations)\n",
    "    #plt.ylim([0,1])\n",
    "    plt.xlabel('Iterations')\n",
    "    plt.ylabel('$R^2$')\n",
    "    plt.tight_layout()\n",
    "    \n",
    "    plt.show()\n",
    "    print(-model.epsilons[-1])\n",
    "    "
   ]
  },
  {
   "cell_type": "code",
   "execution_count": 9,
   "metadata": {},
   "outputs": [
    {
     "name": "stdout",
     "output_type": "stream",
     "text": [
      "33152\n",
      "259 (259, 100) (3, 259)\n",
      "259 (259, 100) (3, 259)\n"
     ]
    },
    {
     "data": {
      "image/png": "[encoded data removed]",
      "text/plain": [
       "<Figure size 216x172.8 with 1 Axes>"
      ]
     },
     "metadata": {
      "needs_background": "light"
     },
     "output_type": "display_data"
    }
   ],
   "source": [
    "plot_confidence_interval_train_test(1,False)"
   ]
  },
  {
   "cell_type": "code",
   "execution_count": 10,
   "metadata": {},
   "outputs": [
    {
     "name": "stdout",
     "output_type": "stream",
     "text": [
      "2048\n",
      "16 (16, 100) (3, 16)\n",
      "16 (16, 100) (3, 16)\n"
     ]
    },
    {
     "data": {
      "image/png": "[encoded data removed]",
      "text/plain": [
       "<Figure size 216x172.8 with 1 Axes>"
      ]
     },
     "metadata": {
      "needs_background": "light"
     },
     "output_type": "display_data"
    }
   ],
   "source": [
    "plot_confidence_interval_train_test(2)"
   ]
  },
  {
   "cell_type": "code",
   "execution_count": 11,
   "metadata": {},
   "outputs": [
    {
     "name": "stdout",
     "output_type": "stream",
     "text": [
      "3584\n",
      "28 (28, 100) (3, 28)\n",
      "28 (28, 100) (3, 28)\n"
     ]
    },
    {
     "data": {
      "image/png": "[encoded data removed]",
      "text/plain": [
       "<Figure size 216x172.8 with 1 Axes>"
      ]
     },
     "metadata": {
      "needs_background": "light"
     },
     "output_type": "display_data"
    }
   ],
   "source": [
    "plot_confidence_interval_train_test(3,False)"
   ]
  },
  {
   "cell_type": "code",
   "execution_count": null,
   "metadata": {},
   "outputs": [],
   "source": []
  },
  {
   "cell_type": "markdown",
   "metadata": {},
   "source": [
    "### Train-test split based on temperature points"
   ]
  },
  {
   "cell_type": "code",
   "execution_count": 13,
   "metadata": {},
   "outputs": [],
   "source": [
    "def r2s_train_test(x,y):\n",
    "    # x: True Yobs, {'rae':...,'ran'}\n",
    "    # y: simulated {'rae':...,}\n",
    "    # Use two-fold split. points with even index as training and odd ones as test\n",
    "    \n",
    "    def get_r2_on_train(x,y):\n",
    "        # only use those data with even index\n",
    "        x = np.array(x)\n",
    "        y = np.array(y)\n",
    "        \n",
    "        train = [ind for ind in range(len(x)) if ind%2==0]\n",
    "        test = [ind for ind in range(len(x)) if ind%2==1]\n",
    "        return r2_score(x[train],y[train]), r2_score(x[test],y[test])\n",
    "    \n",
    "    r2s_train, r2s_test = {},{}\n",
    "    \n",
    "    for k in x.keys(): r2s_train[k], r2s_test[k] = get_r2_on_train(x[k],y[k])\n",
    "    \n",
    "    return np.mean(list(r2s_train.values())), np.mean(list(r2s_test.values()))"
   ]
  },
  {
   "cell_type": "code",
   "execution_count": 14,
   "metadata": {},
   "outputs": [
    {
     "data": {
      "text/plain": [
       "array([1, 2, 3, 4])"
      ]
     },
     "execution_count": 14,
     "metadata": {},
     "output_type": "execute_result"
    }
   ],
   "source": [
    "a = np.array([1,3,4,2])\n",
    "sort_ind = np.argsort(a)\n",
    "a[sort_ind]"
   ]
  },
  {
   "cell_type": "code",
   "execution_count": 15,
   "metadata": {},
   "outputs": [],
   "source": [
    "def find_top_100(simulated_data):\n",
    "    # a list \n",
    "    r2s_train = []\n",
    "    r2s_test  = []\n",
    "    \n",
    "    for data in simulated_data:\n",
    "        r2_train, r2_test = r2s_train_test(Yobs,data)\n",
    "        r2s_train.append(r2_train)\n",
    "        r2s_test.append(r2_test)\n",
    "    \n",
    "    r2s_train = np.array(r2s_train)\n",
    "    r2s_test  = np.array(r2s_test)\n",
    "    sort_ind  = np.argsort(r2s_train)\n",
    "    \n",
    "    return r2s_train[sort_ind][-100:], r2s_test[sort_ind][-100:]\n",
    "    "
   ]
  },
  {
   "cell_type": "code",
   "execution_count": 16,
   "metadata": {},
   "outputs": [],
   "source": [
    "def get_r2s_in_iterations(results):\n",
    "    r2s_train_in_iterations = []\n",
    "    r2s_test_in_iterations = []\n",
    "    end = 0\n",
    "    while end < len(results.all_simulated_data):\n",
    "        end += 128\n",
    "        r2s_train, r2s_test = find_top_100(results.all_simulated_data[:end])\n",
    "        r2s_train_in_iterations.append(r2s_train)\n",
    "        r2s_test_in_iterations.append(r2s_test)\n",
    "        \n",
    "    r2s_train_in_iterations = np.array(r2s_train_in_iterations)\n",
    "    r2s_test_in_iterations  = np.array(r2s_test_in_iterations)\n",
    "    \n",
    "    print(r2s_train_in_iterations.shape)\n",
    "    print(r2s_test_in_iterations.shape)\n",
    "    \n",
    "    return r2s_train_in_iterations,r2s_test_in_iterations"
   ]
  },
  {
   "cell_type": "code",
   "execution_count": 17,
   "metadata": {},
   "outputs": [],
   "source": [
    "def plot_train_test(ytrain,ytest):\n",
    "    plt.figure(figsize=(4,3))\n",
    "    _plot_confidence_interval(ytrain,'train')\n",
    "    _plot_confidence_interval(ytest,'test')\n",
    "    \n",
    "    plt.xlabel('Iterations')\n",
    "    \n",
    "    plt.ylabel('$R^2$')\n",
    "    \n",
    "    \n",
    "    plt.ylim([0,1])\n",
    "    plt.legend()\n",
    "    \n",
    "    plt.tight_layout()\n",
    "    \n",
    "    plt.savefig('../figures/smcabc_gem_three_conditions_save_all_particles_train_test.png',dpi=300)\n",
    "    plt.show()\n",
    "\n",
    "    \n",
    "    "
   ]
  },
  {
   "cell_type": "code",
   "execution_count": 18,
   "metadata": {},
   "outputs": [],
   "source": [
    "results = pickle.load(open('../results/smcabc_gem_three_conditions_save_all_particles_train_test.pkl','rb'))"
   ]
  },
  {
   "cell_type": "code",
   "execution_count": 19,
   "metadata": {},
   "outputs": [
    {
     "data": {
      "text/plain": [
       "10496"
      ]
     },
     "execution_count": 19,
     "metadata": {},
     "output_type": "execute_result"
    }
   ],
   "source": [
    "results.simulations"
   ]
  },
  {
   "cell_type": "code",
   "execution_count": 20,
   "metadata": {},
   "outputs": [
    {
     "name": "stdout",
     "output_type": "stream",
     "text": [
      "(82, 100)\n",
      "(82, 100)\n"
     ]
    }
   ],
   "source": [
    "r2s_train_in_iterations,r2s_test_in_iterations = get_r2s_in_iterations(results)"
   ]
  },
  {
   "cell_type": "code",
   "execution_count": 21,
   "metadata": {},
   "outputs": [
    {
     "name": "stdout",
     "output_type": "stream",
     "text": [
      "82 (82, 100) (3, 82)\n",
      "82 (82, 100) (3, 82)\n"
     ]
    },
    {
     "data": {
      "image/png": "[encoded data removed]",
      "text/plain": [
       "<Figure size 288x216 with 1 Axes>"
      ]
     },
     "metadata": {
      "needs_background": "light"
     },
     "output_type": "display_data"
    }
   ],
   "source": [
    "plot_train_test(r2s_train_in_iterations,r2s_test_in_iterations )"
   ]
  },
  {
   "cell_type": "code",
   "execution_count": 22,
   "metadata": {},
   "outputs": [
    {
     "data": {
      "text/plain": [
       "(0.8996153687820234, 0.8845973798476194)"
      ]
     },
     "execution_count": 22,
     "metadata": {},
     "output_type": "execute_result"
    }
   ],
   "source": [
    "np.median(r2s_train_in_iterations[-1,:]),np.min(r2s_train_in_iterations[-1,:])"
   ]
  },
  {
   "cell_type": "code",
   "execution_count": 23,
   "metadata": {},
   "outputs": [
    {
     "data": {
      "text/plain": [
       "0.8414691293587357"
      ]
     },
     "execution_count": 23,
     "metadata": {},
     "output_type": "execute_result"
    }
   ],
   "source": [
    "np.median(r2s_test_in_iterations[-1,:])"
   ]
  },
  {
   "cell_type": "code",
   "execution_count": 24,
   "metadata": {},
   "outputs": [
    {
     "data": {
      "text/plain": [
       "array([0.88601257, 0.89961537, 0.92914632])"
      ]
     },
     "execution_count": 24,
     "metadata": {},
     "output_type": "execute_result"
    }
   ],
   "source": [
    "np.percentile(r2s_train_in_iterations[-1,:],[5,50,95])"
   ]
  },
  {
   "cell_type": "code",
   "execution_count": 25,
   "metadata": {},
   "outputs": [
    {
     "data": {
      "text/plain": [
       "array([0.70869425, 0.84146913, 0.91247406])"
      ]
     },
     "execution_count": 25,
     "metadata": {},
     "output_type": "execute_result"
    }
   ],
   "source": [
    "np.percentile(r2s_test_in_iterations[-1,:],[5,50,95])"
   ]
  },
  {
   "cell_type": "code",
   "execution_count": null,
   "metadata": {},
   "outputs": [],
   "source": []
  },
  {
   "cell_type": "code",
   "execution_count": null,
   "metadata": {},
   "outputs": [],
   "source": []
  }
 ],
 "metadata": {
  "kernelspec": {
   "display_name": "Python 3 (ipykernel)",
   "language": "python",
   "name": "python3"
  },
  "language_info": {
   "codemirror_mode": {
    "name": "ipython",
    "version": 3
   },
   "file_extension": ".py",
   "mimetype": "text/x-python",
   "name": "python",
   "nbconvert_exporter": "python",
   "pygments_lexer": "ipython3",
   "version": "3.8.12"
  }
 },
 "nbformat": 4,
 "nbformat_minor": 4
}
