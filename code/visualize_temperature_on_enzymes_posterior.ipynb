{
 "cells": [
  {
   "cell_type": "code",
   "execution_count": 1,
   "metadata": {},
   "outputs": [],
   "source": [
    "from etcpy import etc\n",
    "\n",
    "import matplotlib.pyplot as plt\n",
    "import numpy as np\n",
    "import pandas as pd\n",
    "import pickle\n",
    "import GEMS\n",
    "import os\n",
    "import seaborn as sns\n",
    "from sklearn.metrics import mean_squared_error as MSE\n",
    "from scipy.stats import ttest_ind as ttest\n",
    "from sklearn.decomposition import PCA\n",
    "from scipy import stats \n",
    "from matplotlib import gridspec\n",
    "from statsmodels.stats.multitest import multipletests"
   ]
  },
  {
   "cell_type": "code",
   "execution_count": 2,
   "metadata": {},
   "outputs": [],
   "source": [
    "model = pickle.load(open('../results/smcabc_gem_three_conditions_save_all_particles.pkl','rb'))"
   ]
  },
  {
   "cell_type": "code",
   "execution_count": 3,
   "metadata": {},
   "outputs": [],
   "source": [
    "def load_param_mean_std(population):\n",
    "    # return a datafram with Tm, Topt, dCpt as columns\n",
    "    params_lst = {idd:[p[idd] for p in population] for idd in population[0].keys()}\n",
    "    df = pd.DataFrame()\n",
    "    \n",
    "    for idd,lst in params_lst.items():\n",
    "        [prot,param] = idd.split('_')\n",
    "        if param in ['Tm','Topt']:\n",
    "            df.loc[prot,'{0}_mean'.format(param)] = np.mean(lst) - 273.15 # C\n",
    "            df.loc[prot,'{0}_std'.format(param)] = np.std(lst)\n",
    "        if param in ['dCpt']:\n",
    "            df.loc[prot,'{0}_mean'.format(param)] = np.mean(lst)/1000 # kJ/mol/K\n",
    "            df.loc[prot,'{0}_std'.format(param)] = np.std(lst)/1000\n",
    "    return df"
   ]
  },
  {
   "cell_type": "code",
   "execution_count": 4,
   "metadata": {},
   "outputs": [],
   "source": [
    "dfpost = load_param_mean_std(model.population)"
   ]
  },
  {
   "cell_type": "code",
   "execution_count": 5,
   "metadata": {},
   "outputs": [],
   "source": [
    "# update params with posterior params mean\n",
    "post_params = GEMS.params.copy()\n",
    "for enz in post_params.index:\n",
    "    post_params.loc[enz,'Topt'] = dfpost.loc[enz,'Topt_mean'] + 273.15\n",
    "    post_params.loc[enz,'Tm']   = dfpost.loc[enz,'Tm_mean'] + 273.15\n",
    "    post_params.loc[enz,'dCpt'] = dfpost.loc[enz,'dCpt_mean']*1000\n",
    "    \n",
    "    if ~np.isnan(post_params.loc[enz,'T90']):\n",
    "        dT = GEMS.params.loc[enz,'T90']-GEMS.params.loc[enz,'Tm']\n",
    "        post_params.loc[enz,'T90']   = post_params.loc[enz,'Tm'] + dT"
   ]
  },
  {
   "cell_type": "code",
   "execution_count": 6,
   "metadata": {},
   "outputs": [],
   "source": [
    "dftherm = etc.calculate_thermal_params(post_params)"
   ]
  },
  {
   "cell_type": "code",
   "execution_count": 8,
   "metadata": {},
   "outputs": [],
   "source": [
    "Ts = np.arange(0,64) \n",
    "fNTs = list()\n",
    "sort_enzymes_on_Tm = dftherm.index[np.argsort(post_params['Tm'].values)]\n",
    "for enz in sort_enzymes_on_Tm:\n",
    "    cols = ['dHTH', 'dSTS','dCpu','Topt']\n",
    "    [dHTH, dSTS,dCpu,topt]=dftherm.loc[enz,cols]\n",
    "    fNT = etc.get_fNT(Ts + 273.15,dHTH,dSTS,dCpu)\n",
    "    fNTs.append(fNT)"
   ]
  },
  {
   "cell_type": "code",
   "execution_count": 9,
   "metadata": {},
   "outputs": [
    {
     "data": {
      "image/png": "[encoded data removed]",
      "text/plain": [
       "<Figure size 201.6x172.8 with 2 Axes>"
      ]
     },
     "metadata": {
      "needs_background": "light"
     },
     "output_type": "display_data"
    }
   ],
   "source": [
    "plt.figure(figsize=(2.8,2.4))\n",
    "sns.heatmap(fNTs,cmap='RdYlGn')\n",
    "plt.xlabel('Temperature ($^\\circ$C)')\n",
    "plt.yticks([])\n",
    "plt.ylabel('{0} enzymes sorted on $T_m$'.format(len(dftherm.index)))\n",
    "plt.tight_layout()\n",
    "plt.savefig('../figures/denature_heatmap.png',bbox_inches='tight',dpi=300)\n",
    "plt.show()"
   ]
  },
  {
   "cell_type": "code",
   "execution_count": 13,
   "metadata": {},
   "outputs": [
    {
     "data": {
      "text/plain": [
       "(2, 64)"
      ]
     },
     "execution_count": 13,
     "metadata": {},
     "output_type": "execute_result"
    }
   ],
   "source": [
    "x = np.array(fNTs)\n",
    "x[x[:,42]<0.1].shape"
   ]
  },
  {
   "cell_type": "code",
   "execution_count": 17,
   "metadata": {},
   "outputs": [
    {
     "data": {
      "text/html": [
       "<div>\n",
       "<style scoped>\n",
       "    .dataframe tbody tr th:only-of-type {\n",
       "        vertical-align: middle;\n",
       "    }\n",
       "\n",
       "    .dataframe tbody tr th {\n",
       "        vertical-align: top;\n",
       "    }\n",
       "\n",
       "    .dataframe thead th {\n",
       "        text-align: right;\n",
       "    }\n",
       "</style>\n",
       "<table border=\"1\" class=\"dataframe\">\n",
       "  <thead>\n",
       "    <tr style=\"text-align: right;\">\n",
       "      <th></th>\n",
       "      <th>Topt</th>\n",
       "      <th>Topt_std</th>\n",
       "      <th>Length</th>\n",
       "      <th>Tm</th>\n",
       "      <th>Tm_std</th>\n",
       "      <th>T90</th>\n",
       "      <th>dCpt</th>\n",
       "      <th>dCpt_std</th>\n",
       "    </tr>\n",
       "  </thead>\n",
       "  <tbody>\n",
       "    <tr>\n",
       "      <th>P32476</th>\n",
       "      <td>24.000894</td>\n",
       "      <td>-260.15</td>\n",
       "      <td>222.85</td>\n",
       "      <td>36.794409</td>\n",
       "      <td>-269.75</td>\n",
       "      <td>38.536753</td>\n",
       "      <td>-6718.621378</td>\n",
       "      <td>1726.85</td>\n",
       "    </tr>\n",
       "    <tr>\n",
       "      <th>P07251</th>\n",
       "      <td>21.510471</td>\n",
       "      <td>-260.15</td>\n",
       "      <td>271.85</td>\n",
       "      <td>37.493722</td>\n",
       "      <td>-269.75</td>\n",
       "      <td>52.798213</td>\n",
       "      <td>-6850.768637</td>\n",
       "      <td>1726.85</td>\n",
       "    </tr>\n",
       "    <tr>\n",
       "      <th>P40825</th>\n",
       "      <td>24.765075</td>\n",
       "      <td>-260.15</td>\n",
       "      <td>709.85</td>\n",
       "      <td>40.631868</td>\n",
       "      <td>-269.75</td>\n",
       "      <td>42.344720</td>\n",
       "      <td>-8006.768057</td>\n",
       "      <td>1726.85</td>\n",
       "    </tr>\n",
       "    <tr>\n",
       "      <th>P15180</th>\n",
       "      <td>22.684211</td>\n",
       "      <td>-260.15</td>\n",
       "      <td>317.85</td>\n",
       "      <td>40.871440</td>\n",
       "      <td>-269.75</td>\n",
       "      <td>42.829016</td>\n",
       "      <td>-6558.818220</td>\n",
       "      <td>1726.85</td>\n",
       "    </tr>\n",
       "    <tr>\n",
       "      <th>P33330</th>\n",
       "      <td>27.566296</td>\n",
       "      <td>-260.15</td>\n",
       "      <td>121.85</td>\n",
       "      <td>41.125420</td>\n",
       "      <td>-269.75</td>\n",
       "      <td>43.509045</td>\n",
       "      <td>-8276.762143</td>\n",
       "      <td>1726.85</td>\n",
       "    </tr>\n",
       "    <tr>\n",
       "      <th>P09950</th>\n",
       "      <td>26.824595</td>\n",
       "      <td>-260.15</td>\n",
       "      <td>274.85</td>\n",
       "      <td>41.303210</td>\n",
       "      <td>-269.75</td>\n",
       "      <td>43.152580</td>\n",
       "      <td>-5479.138440</td>\n",
       "      <td>1726.85</td>\n",
       "    </tr>\n",
       "    <tr>\n",
       "      <th>P32473</th>\n",
       "      <td>25.716693</td>\n",
       "      <td>-260.15</td>\n",
       "      <td>92.85</td>\n",
       "      <td>41.400961</td>\n",
       "      <td>-269.75</td>\n",
       "      <td>43.111326</td>\n",
       "      <td>-5826.452630</td>\n",
       "      <td>1726.85</td>\n",
       "    </tr>\n",
       "    <tr>\n",
       "      <th>P00330</th>\n",
       "      <td>27.936976</td>\n",
       "      <td>-260.15</td>\n",
       "      <td>74.85</td>\n",
       "      <td>41.772523</td>\n",
       "      <td>-269.75</td>\n",
       "      <td>42.454660</td>\n",
       "      <td>-6945.707289</td>\n",
       "      <td>1726.85</td>\n",
       "    </tr>\n",
       "    <tr>\n",
       "      <th>P00937</th>\n",
       "      <td>25.676919</td>\n",
       "      <td>-260.15</td>\n",
       "      <td>210.85</td>\n",
       "      <td>41.832481</td>\n",
       "      <td>-269.75</td>\n",
       "      <td>43.830947</td>\n",
       "      <td>-6651.366260</td>\n",
       "      <td>1726.85</td>\n",
       "    </tr>\n",
       "    <tr>\n",
       "      <th>P00927</th>\n",
       "      <td>27.022559</td>\n",
       "      <td>-260.15</td>\n",
       "      <td>302.85</td>\n",
       "      <td>42.098618</td>\n",
       "      <td>-269.75</td>\n",
       "      <td>44.078826</td>\n",
       "      <td>-4877.915405</td>\n",
       "      <td>1726.85</td>\n",
       "    </tr>\n",
       "  </tbody>\n",
       "</table>\n",
       "</div>"
      ],
      "text/plain": [
       "             Topt  Topt_std  Length         Tm  Tm_std        T90  \\\n",
       "P32476  24.000894   -260.15  222.85  36.794409 -269.75  38.536753   \n",
       "P07251  21.510471   -260.15  271.85  37.493722 -269.75  52.798213   \n",
       "P40825  24.765075   -260.15  709.85  40.631868 -269.75  42.344720   \n",
       "P15180  22.684211   -260.15  317.85  40.871440 -269.75  42.829016   \n",
       "P33330  27.566296   -260.15  121.85  41.125420 -269.75  43.509045   \n",
       "P09950  26.824595   -260.15  274.85  41.303210 -269.75  43.152580   \n",
       "P32473  25.716693   -260.15   92.85  41.400961 -269.75  43.111326   \n",
       "P00330  27.936976   -260.15   74.85  41.772523 -269.75  42.454660   \n",
       "P00937  25.676919   -260.15  210.85  41.832481 -269.75  43.830947   \n",
       "P00927  27.022559   -260.15  302.85  42.098618 -269.75  44.078826   \n",
       "\n",
       "               dCpt  dCpt_std  \n",
       "P32476 -6718.621378   1726.85  \n",
       "P07251 -6850.768637   1726.85  \n",
       "P40825 -8006.768057   1726.85  \n",
       "P15180 -6558.818220   1726.85  \n",
       "P33330 -8276.762143   1726.85  \n",
       "P09950 -5479.138440   1726.85  \n",
       "P32473 -5826.452630   1726.85  \n",
       "P00330 -6945.707289   1726.85  \n",
       "P00937 -6651.366260   1726.85  \n",
       "P00927 -4877.915405   1726.85  "
      ]
     },
     "execution_count": 17,
     "metadata": {},
     "output_type": "execute_result"
    }
   ],
   "source": [
    "post_params.loc[sort_enzymes_on_Tm[:10],:]-273.15"
   ]
  },
  {
   "cell_type": "code",
   "execution_count": 10,
   "metadata": {},
   "outputs": [],
   "source": [
    "Ts = np.arange(0,64) \n",
    "kcatTs = list()\n",
    "sort_enzymes_on_Topt = dftherm.index[np.argsort(post_params['Topt'].values)]\n",
    "for enz in sort_enzymes_on_Tm:\n",
    "    cols = ['dHTH', 'dSTS','dCpu','Topt','dCpt']\n",
    "    [dHTH, dSTS,dCpu,Topt,dCpt]=dftherm.loc[enz,cols]\n",
    "    kcatT = etc.calculate_kcatT(Ts+273.15,dHTH,dSTS,dCpu,1,dCpt,Topt)\n",
    "    kcatTs.append(kcatT)"
   ]
  },
  {
   "cell_type": "code",
   "execution_count": 11,
   "metadata": {},
   "outputs": [
    {
     "data": {
      "image/png": "[encoded data removed]",
      "text/plain": [
       "<Figure size 201.6x172.8 with 2 Axes>"
      ]
     },
     "metadata": {
      "needs_background": "light"
     },
     "output_type": "display_data"
    }
   ],
   "source": [
    "plt.figure(figsize=(2.8,2.4))\n",
    "sns.heatmap(kcatTs,cmap='RdYlGn')\n",
    "plt.xlabel('Temperature ($^\\circ$C)')\n",
    "plt.yticks([])\n",
    "plt.ylabel('%s enzymes sorted on $T_{m}$' % len(dftherm.index))\n",
    "plt.tight_layout()\n",
    "plt.savefig('../figures/kcat_heatmap.png',bbox_inches='tight',dpi=300)\n",
    "plt.show()"
   ]
  },
  {
   "cell_type": "code",
   "execution_count": null,
   "metadata": {},
   "outputs": [],
   "source": []
  },
  {
   "cell_type": "code",
   "execution_count": 12,
   "metadata": {},
   "outputs": [
    {
     "data": {
      "image/png": "[encoded data removed]",
      "text/plain": [
       "<Figure size 201.6x172.8 with 2 Axes>"
      ]
     },
     "metadata": {
      "needs_background": "light"
     },
     "output_type": "display_data"
    }
   ],
   "source": [
    "SAs = np.array(fNTs)*np.array(kcatTs)\n",
    "plt.figure(figsize=(2.8,2.4))\n",
    "sns.heatmap(SAs,cmap='RdYlGn')\n",
    "plt.xlabel('Temperature ($^\\circ$C)')\n",
    "plt.yticks([])\n",
    "plt.ylabel('%s enzymes sorted on $T_{m}$' % len(dftherm.index))\n",
    "plt.tight_layout()\n",
    "plt.savefig('../figures/Sa_heatmap.png',bbox_inches='tight',dpi=300)\n",
    "plt.show()"
   ]
  },
  {
   "cell_type": "code",
   "execution_count": 19,
   "metadata": {},
   "outputs": [
    {
     "data": {
      "text/html": [
       "<div>\n",
       "<style scoped>\n",
       "    .dataframe tbody tr th:only-of-type {\n",
       "        vertical-align: middle;\n",
       "    }\n",
       "\n",
       "    .dataframe tbody tr th {\n",
       "        vertical-align: top;\n",
       "    }\n",
       "\n",
       "    .dataframe thead th {\n",
       "        text-align: right;\n",
       "    }\n",
       "</style>\n",
       "<table border=\"1\" class=\"dataframe\">\n",
       "  <thead>\n",
       "    <tr style=\"text-align: right;\">\n",
       "      <th></th>\n",
       "      <th>dHTH</th>\n",
       "      <th>dSTS</th>\n",
       "      <th>dCpu</th>\n",
       "      <th>Topt</th>\n",
       "      <th>dCpt</th>\n",
       "    </tr>\n",
       "  </thead>\n",
       "  <tbody>\n",
       "    <tr>\n",
       "      <th>O13525</th>\n",
       "      <td>1.483000e+06</td>\n",
       "      <td>4893.450000</td>\n",
       "      <td>16132.124882</td>\n",
       "      <td>304.383942</td>\n",
       "      <td>-6303.243842</td>\n",
       "    </tr>\n",
       "    <tr>\n",
       "      <th>P00044</th>\n",
       "      <td>1.297372e+06</td>\n",
       "      <td>4263.848039</td>\n",
       "      <td>12354.234601</td>\n",
       "      <td>308.056808</td>\n",
       "      <td>-6780.270704</td>\n",
       "    </tr>\n",
       "    <tr>\n",
       "      <th>P00045</th>\n",
       "      <td>5.950000e+05</td>\n",
       "      <td>1947.510000</td>\n",
       "      <td>6636.120470</td>\n",
       "      <td>311.153254</td>\n",
       "      <td>-6073.135267</td>\n",
       "    </tr>\n",
       "    <tr>\n",
       "      <th>P00127</th>\n",
       "      <td>7.310000e+05</td>\n",
       "      <td>2398.690000</td>\n",
       "      <td>7677.937575</td>\n",
       "      <td>301.887468</td>\n",
       "      <td>-6887.987642</td>\n",
       "    </tr>\n",
       "    <tr>\n",
       "      <th>P00128</th>\n",
       "      <td>6.510000e+05</td>\n",
       "      <td>2133.290000</td>\n",
       "      <td>6579.105203</td>\n",
       "      <td>297.764072</td>\n",
       "      <td>-6560.470954</td>\n",
       "    </tr>\n",
       "  </tbody>\n",
       "</table>\n",
       "</div>"
      ],
      "text/plain": [
       "                dHTH         dSTS          dCpu        Topt         dCpt\n",
       "O13525  1.483000e+06  4893.450000  16132.124882  304.383942 -6303.243842\n",
       "P00044  1.297372e+06  4263.848039  12354.234601  308.056808 -6780.270704\n",
       "P00045  5.950000e+05  1947.510000   6636.120470  311.153254 -6073.135267\n",
       "P00127  7.310000e+05  2398.690000   7677.937575  301.887468 -6887.987642\n",
       "P00128  6.510000e+05  2133.290000   6579.105203  297.764072 -6560.470954"
      ]
     },
     "execution_count": 19,
     "metadata": {},
     "output_type": "execute_result"
    }
   ],
   "source": [
    "dftherm.head()"
   ]
  },
  {
   "cell_type": "code",
   "execution_count": 17,
   "metadata": {},
   "outputs": [
    {
     "data": {
      "text/html": [
       "<div>\n",
       "<style scoped>\n",
       "    .dataframe tbody tr th:only-of-type {\n",
       "        vertical-align: middle;\n",
       "    }\n",
       "\n",
       "    .dataframe tbody tr th {\n",
       "        vertical-align: top;\n",
       "    }\n",
       "\n",
       "    .dataframe thead th {\n",
       "        text-align: right;\n",
       "    }\n",
       "</style>\n",
       "<table border=\"1\" class=\"dataframe\">\n",
       "  <thead>\n",
       "    <tr style=\"text-align: right;\">\n",
       "      <th></th>\n",
       "      <th>Topt</th>\n",
       "      <th>Topt_std</th>\n",
       "      <th>Length</th>\n",
       "      <th>Tm</th>\n",
       "      <th>Tm_std</th>\n",
       "      <th>T90</th>\n",
       "      <th>dCpt</th>\n",
       "      <th>dCpt_std</th>\n",
       "    </tr>\n",
       "  </thead>\n",
       "  <tbody>\n",
       "    <tr>\n",
       "      <th>O13525</th>\n",
       "      <td>304.383942</td>\n",
       "      <td>13</td>\n",
       "      <td>335</td>\n",
       "      <td>324.285927</td>\n",
       "      <td>5.91247</td>\n",
       "      <td>NaN</td>\n",
       "      <td>-6303.243842</td>\n",
       "      <td>2000</td>\n",
       "    </tr>\n",
       "    <tr>\n",
       "      <th>P00044</th>\n",
       "      <td>308.056808</td>\n",
       "      <td>13</td>\n",
       "      <td>109</td>\n",
       "      <td>321.519662</td>\n",
       "      <td>3.40000</td>\n",
       "      <td>324.351882</td>\n",
       "      <td>-6780.270704</td>\n",
       "      <td>2000</td>\n",
       "    </tr>\n",
       "    <tr>\n",
       "      <th>P00045</th>\n",
       "      <td>311.153254</td>\n",
       "      <td>13</td>\n",
       "      <td>113</td>\n",
       "      <td>331.309673</td>\n",
       "      <td>5.91247</td>\n",
       "      <td>NaN</td>\n",
       "      <td>-6073.135267</td>\n",
       "      <td>2000</td>\n",
       "    </tr>\n",
       "    <tr>\n",
       "      <th>P00127</th>\n",
       "      <td>301.887468</td>\n",
       "      <td>13</td>\n",
       "      <td>147</td>\n",
       "      <td>326.611520</td>\n",
       "      <td>5.91247</td>\n",
       "      <td>NaN</td>\n",
       "      <td>-6887.987642</td>\n",
       "      <td>2000</td>\n",
       "    </tr>\n",
       "    <tr>\n",
       "      <th>P00128</th>\n",
       "      <td>297.764072</td>\n",
       "      <td>13</td>\n",
       "      <td>127</td>\n",
       "      <td>325.823369</td>\n",
       "      <td>5.91247</td>\n",
       "      <td>NaN</td>\n",
       "      <td>-6560.470954</td>\n",
       "      <td>2000</td>\n",
       "    </tr>\n",
       "  </tbody>\n",
       "</table>\n",
       "</div>"
      ],
      "text/plain": [
       "              Topt  Topt_std  Length          Tm   Tm_std         T90  \\\n",
       "O13525  304.383942        13     335  324.285927  5.91247         NaN   \n",
       "P00044  308.056808        13     109  321.519662  3.40000  324.351882   \n",
       "P00045  311.153254        13     113  331.309673  5.91247         NaN   \n",
       "P00127  301.887468        13     147  326.611520  5.91247         NaN   \n",
       "P00128  297.764072        13     127  325.823369  5.91247         NaN   \n",
       "\n",
       "               dCpt  dCpt_std  \n",
       "O13525 -6303.243842      2000  \n",
       "P00044 -6780.270704      2000  \n",
       "P00045 -6073.135267      2000  \n",
       "P00127 -6887.987642      2000  \n",
       "P00128 -6560.470954      2000  "
      ]
     },
     "execution_count": 17,
     "metadata": {},
     "output_type": "execute_result"
    }
   ],
   "source": [
    "post_params.head()"
   ]
  },
  {
   "cell_type": "code",
   "execution_count": 6,
   "metadata": {},
   "outputs": [],
   "source": [
    "fNTs = dict()\n",
    "kcatTs = dict()"
   ]
  },
  {
   "cell_type": "code",
   "execution_count": 13,
   "metadata": {},
   "outputs": [
    {
     "data": {
      "text/plain": [
       "True"
      ]
     },
     "execution_count": 13,
     "metadata": {},
     "output_type": "execute_result"
    }
   ],
   "source": [
    "np.isnan(GEMS.params.loc['O13525','T90'])"
   ]
  },
  {
   "cell_type": "code",
   "execution_count": 12,
   "metadata": {},
   "outputs": [
    {
     "data": {
      "text/plain": [
       "nan"
      ]
     },
     "execution_count": 12,
     "metadata": {},
     "output_type": "execute_result"
    }
   ],
   "source": [
    "GEMS.params.loc['O13525','T90']"
   ]
  },
  {
   "cell_type": "code",
   "execution_count": 8,
   "metadata": {},
   "outputs": [
    {
     "data": {
      "text/html": [
       "<div>\n",
       "<style scoped>\n",
       "    .dataframe tbody tr th:only-of-type {\n",
       "        vertical-align: middle;\n",
       "    }\n",
       "\n",
       "    .dataframe tbody tr th {\n",
       "        vertical-align: top;\n",
       "    }\n",
       "\n",
       "    .dataframe thead th {\n",
       "        text-align: right;\n",
       "    }\n",
       "</style>\n",
       "<table border=\"1\" class=\"dataframe\">\n",
       "  <thead>\n",
       "    <tr style=\"text-align: right;\">\n",
       "      <th></th>\n",
       "      <th>Topt</th>\n",
       "      <th>Topt_std</th>\n",
       "      <th>Length</th>\n",
       "      <th>Tm</th>\n",
       "      <th>Tm_std</th>\n",
       "      <th>T90</th>\n",
       "      <th>dCpt</th>\n",
       "      <th>dCpt_std</th>\n",
       "    </tr>\n",
       "  </thead>\n",
       "  <tbody>\n",
       "    <tr>\n",
       "      <th>O13525</th>\n",
       "      <td>310.15</td>\n",
       "      <td>13</td>\n",
       "      <td>335</td>\n",
       "      <td>324.625351</td>\n",
       "      <td>5.91247</td>\n",
       "      <td>NaN</td>\n",
       "      <td>-6300</td>\n",
       "      <td>2000</td>\n",
       "    </tr>\n",
       "    <tr>\n",
       "      <th>P00044</th>\n",
       "      <td>314.15</td>\n",
       "      <td>13</td>\n",
       "      <td>109</td>\n",
       "      <td>321.817780</td>\n",
       "      <td>3.40000</td>\n",
       "      <td>324.65</td>\n",
       "      <td>-6300</td>\n",
       "      <td>2000</td>\n",
       "    </tr>\n",
       "    <tr>\n",
       "      <th>P00045</th>\n",
       "      <td>317.15</td>\n",
       "      <td>13</td>\n",
       "      <td>113</td>\n",
       "      <td>324.625351</td>\n",
       "      <td>5.91247</td>\n",
       "      <td>NaN</td>\n",
       "      <td>-6300</td>\n",
       "      <td>2000</td>\n",
       "    </tr>\n",
       "    <tr>\n",
       "      <th>P00127</th>\n",
       "      <td>317.15</td>\n",
       "      <td>13</td>\n",
       "      <td>147</td>\n",
       "      <td>324.625351</td>\n",
       "      <td>5.91247</td>\n",
       "      <td>NaN</td>\n",
       "      <td>-6300</td>\n",
       "      <td>2000</td>\n",
       "    </tr>\n",
       "    <tr>\n",
       "      <th>P00128</th>\n",
       "      <td>309.15</td>\n",
       "      <td>13</td>\n",
       "      <td>127</td>\n",
       "      <td>324.625351</td>\n",
       "      <td>5.91247</td>\n",
       "      <td>NaN</td>\n",
       "      <td>-6300</td>\n",
       "      <td>2000</td>\n",
       "    </tr>\n",
       "  </tbody>\n",
       "</table>\n",
       "</div>"
      ],
      "text/plain": [
       "          Topt  Topt_std  Length          Tm   Tm_std     T90  dCpt  dCpt_std\n",
       "O13525  310.15        13     335  324.625351  5.91247     NaN -6300      2000\n",
       "P00044  314.15        13     109  321.817780  3.40000  324.65 -6300      2000\n",
       "P00045  317.15        13     113  324.625351  5.91247     NaN -6300      2000\n",
       "P00127  317.15        13     147  324.625351  5.91247     NaN -6300      2000\n",
       "P00128  309.15        13     127  324.625351  5.91247     NaN -6300      2000"
      ]
     },
     "execution_count": 8,
     "metadata": {},
     "output_type": "execute_result"
    }
   ],
   "source": [
    "GEMS.params.head()"
   ]
  },
  {
   "cell_type": "code",
   "execution_count": 9,
   "metadata": {},
   "outputs": [
    {
     "data": {
      "text/html": [
       "<div>\n",
       "<style scoped>\n",
       "    .dataframe tbody tr th:only-of-type {\n",
       "        vertical-align: middle;\n",
       "    }\n",
       "\n",
       "    .dataframe tbody tr th {\n",
       "        vertical-align: top;\n",
       "    }\n",
       "\n",
       "    .dataframe thead th {\n",
       "        text-align: right;\n",
       "    }\n",
       "</style>\n",
       "<table border=\"1\" class=\"dataframe\">\n",
       "  <thead>\n",
       "    <tr style=\"text-align: right;\">\n",
       "      <th></th>\n",
       "      <th>Tm_mean</th>\n",
       "      <th>Tm_std</th>\n",
       "      <th>Topt_mean</th>\n",
       "      <th>Topt_std</th>\n",
       "      <th>dCpt_mean</th>\n",
       "      <th>dCpt_std</th>\n",
       "    </tr>\n",
       "  </thead>\n",
       "  <tbody>\n",
       "    <tr>\n",
       "      <th>O13525</th>\n",
       "      <td>51.135927</td>\n",
       "      <td>4.564094</td>\n",
       "      <td>31.233942</td>\n",
       "      <td>3.879392</td>\n",
       "      <td>-6.303244</td>\n",
       "      <td>1.802793</td>\n",
       "    </tr>\n",
       "    <tr>\n",
       "      <th>P00044</th>\n",
       "      <td>48.369662</td>\n",
       "      <td>5.158030</td>\n",
       "      <td>34.906808</td>\n",
       "      <td>3.241330</td>\n",
       "      <td>-6.780271</td>\n",
       "      <td>3.455483</td>\n",
       "    </tr>\n",
       "    <tr>\n",
       "      <th>P00045</th>\n",
       "      <td>58.159673</td>\n",
       "      <td>7.309203</td>\n",
       "      <td>38.003254</td>\n",
       "      <td>4.682154</td>\n",
       "      <td>-6.073135</td>\n",
       "      <td>1.239030</td>\n",
       "    </tr>\n",
       "    <tr>\n",
       "      <th>P00127</th>\n",
       "      <td>53.461520</td>\n",
       "      <td>4.411527</td>\n",
       "      <td>28.737468</td>\n",
       "      <td>7.838538</td>\n",
       "      <td>-6.887988</td>\n",
       "      <td>1.357107</td>\n",
       "    </tr>\n",
       "    <tr>\n",
       "      <th>P00128</th>\n",
       "      <td>52.673369</td>\n",
       "      <td>5.439958</td>\n",
       "      <td>24.614072</td>\n",
       "      <td>6.719203</td>\n",
       "      <td>-6.560471</td>\n",
       "      <td>1.568349</td>\n",
       "    </tr>\n",
       "  </tbody>\n",
       "</table>\n",
       "</div>"
      ],
      "text/plain": [
       "          Tm_mean    Tm_std  Topt_mean  Topt_std  dCpt_mean  dCpt_std\n",
       "O13525  51.135927  4.564094  31.233942  3.879392  -6.303244  1.802793\n",
       "P00044  48.369662  5.158030  34.906808  3.241330  -6.780271  3.455483\n",
       "P00045  58.159673  7.309203  38.003254  4.682154  -6.073135  1.239030\n",
       "P00127  53.461520  4.411527  28.737468  7.838538  -6.887988  1.357107\n",
       "P00128  52.673369  5.439958  24.614072  6.719203  -6.560471  1.568349"
      ]
     },
     "execution_count": 9,
     "metadata": {},
     "output_type": "execute_result"
    }
   ],
   "source": [
    "dfpost.head()"
   ]
  }
 ],
 "metadata": {
  "kernelspec": {
   "display_name": "Python 3",
   "language": "python",
   "name": "python3"
  },
  "language_info": {
   "codemirror_mode": {
    "name": "ipython",
    "version": 3
   },
   "file_extension": ".py",
   "mimetype": "text/x-python",
   "name": "python",
   "nbconvert_exporter": "python",
   "pygments_lexer": "ipython3",
   "version": "3.6.7"
  }
 },
 "nbformat": 4,
 "nbformat_minor": 2
}
