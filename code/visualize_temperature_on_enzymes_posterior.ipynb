{
 "cells": [
  {
   "cell_type": "code",
   "execution_count": 1,
   "metadata": {},
   "outputs": [
    {
     "name": "stdout",
     "output_type": "stream",
     "text": [
      "[0, 2, 4, 6, 8]\n"
     ]
    }
   ],
   "source": [
    "from etcpy import etc\n",
    "\n",
    "import matplotlib.pyplot as plt\n",
    "import numpy as np\n",
    "import pandas as pd\n",
    "import pickle\n",
    "import GEMS\n",
    "import os\n",
    "import seaborn as sns\n",
    "from sklearn.metrics import mean_squared_error as MSE\n",
    "from scipy.stats import ttest_ind as ttest\n",
    "from sklearn.decomposition import PCA\n",
    "from scipy import stats \n",
    "from matplotlib import gridspec\n",
    "from statsmodels.stats.multitest import multipletests"
   ]
  },
  {
   "cell_type": "code",
   "execution_count": 2,
   "metadata": {},
   "outputs": [],
   "source": [
    "model = pickle.load(open('../results/smcabc_gem_three_conditions_save_all_particles.pkl','rb'))"
   ]
  },
  {
   "cell_type": "code",
   "execution_count": 3,
   "metadata": {},
   "outputs": [],
   "source": [
    "def load_param_mean_std(population):\n",
    "    # return a datafram with Tm, Topt, dCpt as columns\n",
    "    params_lst = {idd:[p[idd] for p in population] for idd in population[0].keys()}\n",
    "    df = pd.DataFrame()\n",
    "    \n",
    "    for idd,lst in params_lst.items():\n",
    "        [prot,param] = idd.split('_')\n",
    "        if param in ['Tm','Topt']:\n",
    "            df.loc[prot,'{0}_mean'.format(param)] = np.mean(lst) - 273.15 # C\n",
    "            df.loc[prot,'{0}_std'.format(param)] = np.std(lst)\n",
    "        if param in ['dCpt']:\n",
    "            df.loc[prot,'{0}_mean'.format(param)] = np.mean(lst)/1000 # kJ/mol/K\n",
    "            df.loc[prot,'{0}_std'.format(param)] = np.std(lst)/1000\n",
    "    return df"
   ]
  },
  {
   "cell_type": "code",
   "execution_count": 4,
   "metadata": {},
   "outputs": [],
   "source": [
    "dfpost = load_param_mean_std(model.population)"
   ]
  },
  {
   "cell_type": "code",
   "execution_count": 5,
   "metadata": {},
   "outputs": [],
   "source": [
    "# update params with posterior params mean\n",
    "post_params = GEMS.params.copy()\n",
    "for enz in post_params.index:\n",
    "    post_params.loc[enz,'Topt'] = dfpost.loc[enz,'Topt_mean'] + 273.15\n",
    "    post_params.loc[enz,'Tm']   = dfpost.loc[enz,'Tm_mean'] + 273.15\n",
    "    post_params.loc[enz,'dCpt'] = dfpost.loc[enz,'dCpt_mean']*1000\n",
    "    \n",
    "    if ~np.isnan(post_params.loc[enz,'T90']):\n",
    "        dT = GEMS.params.loc[enz,'T90']-GEMS.params.loc[enz,'Tm']\n",
    "        post_params.loc[enz,'T90']   = post_params.loc[enz,'Tm'] + dT"
   ]
  },
  {
   "cell_type": "code",
   "execution_count": 6,
   "metadata": {},
   "outputs": [],
   "source": [
    "dftherm = etc.calculate_thermal_params(post_params)"
   ]
  },
  {
   "cell_type": "code",
   "execution_count": 7,
   "metadata": {},
   "outputs": [],
   "source": []
  },
  {
   "cell_type": "markdown",
   "metadata": {},
   "source": [
    "cs = ['Accent', 'Accent_r', 'Blues', 'Blues_r', 'BrBG', 'BrBG_r', 'BuGn', 'BuGn_r', 'BuPu', 'BuPu_r', 'CMRmap', 'CMRmap_r', 'Dark2', 'Dark2_r', 'GnBu', 'GnBu_r', 'Greens', 'Greens_r', 'Greys', 'Greys_r', 'OrRd', 'OrRd_r', 'Oranges', 'Oranges_r', 'PRGn', 'PRGn_r', 'Paired', 'Paired_r', 'Pastel1', 'Pastel1_r', 'Pastel2', 'Pastel2_r', 'PiYG', 'PiYG_r', 'PuBu', 'PuBuGn', 'PuBuGn_r', 'PuBu_r', 'PuOr', 'PuOr_r', 'PuRd', 'PuRd_r', 'Purples', 'Purples_r', 'RdBu', 'RdBu_r', 'RdGy', 'RdGy_r', 'RdPu', 'RdPu_r', 'RdYlBu', 'RdYlBu_r', 'RdYlGn', 'RdYlGn_r', 'Reds', 'Reds_r', 'Set1', 'Set1_r', 'Set2', 'Set2_r', 'Set3', 'Set3_r', 'Spectral', 'Spectral_r', 'Wistia', 'Wistia_r', 'YlGn', 'YlGnBu', 'YlGnBu_r', 'YlGn_r', 'YlOrBr', 'YlOrBr_r', 'YlOrRd', 'YlOrRd_r', 'afmhot', 'afmhot_r', 'autumn', 'autumn_r', 'binary', 'binary_r', 'bone', 'bone_r', 'brg', 'brg_r', 'bwr', 'bwr_r', 'cividis', 'cividis_r', 'cool', 'cool_r', 'coolwarm', 'coolwarm_r', 'copper', 'copper_r', 'cubehelix', 'cubehelix_r', 'flag', 'flag_r', 'gist_earth', 'gist_earth_r', 'gist_gray', 'gist_gray_r', 'gist_heat', 'gist_heat_r', 'gist_ncar', 'gist_ncar_r', 'gist_rainbow', 'gist_rainbow_r', 'gist_stern', 'gist_stern_r', 'gist_yarg', 'gist_yarg_r', 'gnuplot', 'gnuplot2', 'gnuplot2_r', 'gnuplot_r', 'gray', 'gray_r', 'hot', 'hot_r', 'hsv', 'hsv_r', 'icefire', 'icefire_r', 'inferno', 'inferno_r', 'jet', 'jet_r', 'magma', 'magma_r', 'mako', 'mako_r', 'nipy_spectral', 'nipy_spectral_r', 'ocean', 'ocean_r', 'pink', 'pink_r', 'plasma', 'plasma_r', 'prism', 'prism_r', 'rainbow', 'rainbow_r', 'rocket', 'rocket_r', 'seismic', 'seismic_r', 'spring', 'spring_r', 'summer', 'summer_r', 'tab10', 'tab10_r', 'tab20', 'tab20_r', 'tab20b', 'tab20b_r', 'tab20c', 'tab20c_r', 'terrain', 'terrain_r', 'twilight', 'twilight_r', 'twilight_shifted', 'twilight_shifted_r', 'viridis', 'viridis_r', 'vlag', 'vlag_r', 'winter', 'winter_r']\n",
    "Ts = np.arange(0,64) \n",
    "fNTs = list()\n",
    "sort_enzymes_on_Tm = dftherm.index[np.argsort(post_params['Tm'].values)]\n",
    "for enz in sort_enzymes_on_Tm:\n",
    "    cols = ['dHTH', 'dSTS','dCpu','Topt']\n",
    "    [dHTH, dSTS,dCpu,topt]=dftherm.loc[enz,cols]\n",
    "    fNT = etc.get_fNT(Ts + 273.15,dHTH,dSTS,dCpu)\n",
    "    fNTs.append(fNT)\n",
    "\n",
    "#c = 'inferno'\n",
    "for c in cs:\n",
    "    print(c)\n",
    "    plt.figure(figsize=(2.8,2.4))\n",
    "    sns.heatmap(fNTs,cmap=c)\n",
    "    plt.yticks([])\n",
    "    plt.xlabel('Temperature ($^\\circ$C)')\n",
    "    plt.ylabel('{0} enzymes sorted on $T_m$'.format(len(dftherm.index)))\n",
    "    plt.tight_layout()\n",
    "    #plt.savefig('../figures/denature_heatmap.png',bbox_inches='tight',dpi=300)\n",
    "    plt.show()"
   ]
  },
  {
   "cell_type": "code",
   "execution_count": 8,
   "metadata": {
    "scrolled": false
   },
   "outputs": [
    {
     "name": "stdout",
     "output_type": "stream",
     "text": [
      "copper\n"
     ]
    },
    {
     "data": {
      "image/png": "[encoded data removed]",
      "text/plain": [
       "<Figure size 201.6x172.8 with 2 Axes>"
      ]
     },
     "metadata": {
      "needs_background": "light"
     },
     "output_type": "display_data"
    }
   ],
   "source": [
    "Ts = np.arange(0,64) \n",
    "fNTs = list()\n",
    "sort_enzymes_on_Tm = dftherm.index[np.argsort(post_params['Tm'].values)]\n",
    "for enz in sort_enzymes_on_Tm:\n",
    "    cols = ['dHTH', 'dSTS','dCpu','Topt']\n",
    "    [dHTH, dSTS,dCpu,topt]=dftherm.loc[enz,cols]\n",
    "    fNT = etc.get_fNT(Ts + 273.15,dHTH,dSTS,dCpu)\n",
    "    fNTs.append(fNT)\n",
    "\n",
    "c = 'copper'#'summer_r'#YlGn\n",
    "#for c in cs:\n",
    "print(c)\n",
    "plt.figure(figsize=(2.8,2.4))\n",
    "sns.heatmap(fNTs,cmap=c)\n",
    "plt.yticks([])\n",
    "plt.xlabel('Temperature ($^\\circ$C)')\n",
    "plt.ylabel('{0} enzymes sorted on $T_m$'.format(len(dftherm.index)))\n",
    "plt.tight_layout()\n",
    "plt.savefig('../figures/denature_heatmap.png',bbox_inches='tight',dpi=300)\n",
    "plt.show()"
   ]
  },
  {
   "cell_type": "code",
   "execution_count": 8,
   "metadata": {},
   "outputs": [],
   "source": [
    "c = 'copper'"
   ]
  },
  {
   "cell_type": "code",
   "execution_count": 9,
   "metadata": {},
   "outputs": [
    {
     "data": {
      "image/png": "[encoded data removed]",
      "text/plain": [
       "<Figure size 201.6x172.8 with 2 Axes>"
      ]
     },
     "metadata": {
      "needs_background": "light"
     },
     "output_type": "display_data"
    }
   ],
   "source": [
    "Ts = np.arange(-50,60) \n",
    "fNTs = list()\n",
    "sort_enzymes_on_Tm = dftherm.index[np.argsort(post_params['Tm'].values)]\n",
    "\n",
    "df3d = pd.DataFrame(index=sort_enzymes_on_Tm,columns=Ts)\n",
    "\n",
    "for enz in sort_enzymes_on_Tm:\n",
    "    cols = ['dHTH', 'dSTS','dCpu','Topt']\n",
    "    [dHTH, dSTS,dCpu,topt]=dftherm.loc[enz,cols]\n",
    "    fNT = etc.get_fNT(Ts + 273.15,dHTH,dSTS,dCpu)\n",
    "    fNTs.append(fNT)\n",
    "df3d.loc[sort_enzymes_on_Tm,Ts] = np.array(fNTs)\n",
    "df3d = df3d.astype(float)\n",
    "df3d.to_csv('../SourceData/fig_3d.csv',float_format='%.4f')\n",
    "\n",
    "plt.figure(figsize=(2.8,2.4))\n",
    "sns.heatmap(fNTs,cmap=c)\n",
    "plt.xlabel('Temperature ($^\\circ$C)')\n",
    "plt.yticks([])\n",
    "plt.xticks(np.arange(0,100+20,10),np.arange(-50,-50+100+20,10))\n",
    "plt.ylabel('{0} enzymes sorted on $T_m$'.format(len(dftherm.index)))\n",
    "plt.tight_layout()\n",
    "plt.savefig('../figures/denature_heatmap_cold.png',bbox_inches='tight',dpi=300)\n",
    "plt.show()"
   ]
  },
  {
   "cell_type": "markdown",
   "metadata": {},
   "source": [
    "Ts = np.arange(0,64) \n",
    "kcatTs = list()\n",
    "sort_enzymes_on_Topt = dftherm.index[np.argsort(post_params['Topt'].values)]\n",
    "for enz in sort_enzymes_on_Tm:\n",
    "    cols = ['dHTH', 'dSTS','dCpu','Topt','dCpt']\n",
    "    [dHTH, dSTS,dCpu,Topt,dCpt]=dftherm.loc[enz,cols]\n",
    "    kcatT = etc.calculate_kcatT(Ts+273.15,dHTH,dSTS,dCpu,1,dCpt,Topt)\n",
    "    kcatTs.append(kcatT)\n",
    "plt.figure(figsize=(2.8,2.4))\n",
    "sns.heatmap(kcatTs,cmap=c)\n",
    "plt.xlabel('Temperature ($^\\circ$C)')\n",
    "plt.yticks([])\n",
    "plt.ylabel('%s enzymes sorted on $T_{m}$' % len(dftherm.index))\n",
    "plt.tight_layout()\n",
    "plt.savefig('../figures/kcat_heatmap.png',bbox_inches='tight',dpi=300)\n",
    "plt.show()"
   ]
  },
  {
   "cell_type": "code",
   "execution_count": 11,
   "metadata": {},
   "outputs": [
    {
     "data": {
      "image/png": "[encoded data removed]",
      "text/plain": [
       "<Figure size 201.6x172.8 with 2 Axes>"
      ]
     },
     "metadata": {
      "needs_background": "light"
     },
     "output_type": "display_data"
    }
   ],
   "source": [
    "Ts = np.arange(-50,60) \n",
    "kcatTs = list()\n",
    "sort_enzymes_on_Topt = dftherm.index[np.argsort(post_params['Tm'].values)]\n",
    "\n",
    "df3e = pd.DataFrame(index=sort_enzymes_on_Tm,columns=Ts)\n",
    "\n",
    "for enz in sort_enzymes_on_Tm:\n",
    "    cols = ['dHTH', 'dSTS','dCpu','Topt','dCpt']\n",
    "    [dHTH, dSTS,dCpu,Topt,dCpt]=dftherm.loc[enz,cols]\n",
    "    kcatT = etc.calculate_kcatT(Ts+273.15,dHTH,dSTS,dCpu,1,dCpt,Topt)\n",
    "    kcatTs.append(kcatT)\n",
    "\n",
    "df3e.loc[sort_enzymes_on_Tm,Ts] = np.array(kcatTs)\n",
    "df3e = df3e.astype(float)\n",
    "df3e.to_csv('../SourceData/fig_3e.csv',float_format='%.4f')\n",
    "\n",
    "plt.figure(figsize=(2.8,2.4))\n",
    "sns.heatmap(kcatTs,cmap=c)\n",
    "plt.xlabel('Temperature ($^\\circ$C)')\n",
    "plt.xticks(np.arange(0,100+20,10),np.arange(-50,-50+100+20,10))\n",
    "plt.yticks([])\n",
    "plt.ylabel('%s enzymes sorted on $T_{m}$' % len(dftherm.index))\n",
    "plt.tight_layout()\n",
    "plt.savefig('../figures/kcat_heatmap_cold.png',bbox_inches='tight',dpi=300)\n",
    "plt.show()"
   ]
  },
  {
   "cell_type": "code",
   "execution_count": 15,
   "metadata": {},
   "outputs": [
    {
     "data": {
      "image/png": "[encoded data removed]",
      "text/plain": [
       "<Figure size 201.6x172.8 with 2 Axes>"
      ]
     },
     "metadata": {
      "needs_background": "light"
     },
     "output_type": "display_data"
    }
   ],
   "source": [
    "SAs = np.array(fNTs)*np.array(kcatTs)\n",
    "\n",
    "df3f = pd.DataFrame(index=sort_enzymes_on_Tm,columns=Ts)\n",
    "\n",
    "df3f.loc[sort_enzymes_on_Tm,Ts] = np.array(SAs)\n",
    "df3f = df3f.astype(float)\n",
    "df3f.to_csv('../SourceData/fig_3f.csv',float_format='%.4f')\n",
    "\n",
    "plt.figure(figsize=(2.8,2.4))\n",
    "sns.heatmap(SAs,cmap=c)\n",
    "plt.xlabel('Temperature ($^\\circ$C)')\n",
    "plt.yticks([])\n",
    "plt.xticks(np.arange(0,100+20,10),np.arange(-50,-50+100+20,10))\n",
    "plt.ylabel('%s enzymes sorted on $T_{m}$' % len(dftherm.index))\n",
    "plt.tight_layout()\n",
    "plt.savefig('../figures/Sa_heatmap.png',bbox_inches='tight',dpi=300)\n",
    "plt.show()"
   ]
  },
  {
   "cell_type": "code",
   "execution_count": 25,
   "metadata": {},
   "outputs": [
    {
     "data": {
      "text/plain": [
       "129"
      ]
     },
     "execution_count": 25,
     "metadata": {},
     "output_type": "execute_result"
    }
   ],
   "source": []
  },
  {
   "cell_type": "code",
   "execution_count": 23,
   "metadata": {},
   "outputs": [
    {
     "data": {
      "text/plain": [
       "-185.0"
      ]
     },
     "execution_count": 23,
     "metadata": {},
     "output_type": "execute_result"
    }
   ],
   "source": []
  },
  {
   "cell_type": "code",
   "execution_count": 19,
   "metadata": {},
   "outputs": [
    {
     "data": {
      "text/html": [
       "<div>\n",
       "<style scoped>\n",
       "    .dataframe tbody tr th:only-of-type {\n",
       "        vertical-align: middle;\n",
       "    }\n",
       "\n",
       "    .dataframe tbody tr th {\n",
       "        vertical-align: top;\n",
       "    }\n",
       "\n",
       "    .dataframe thead th {\n",
       "        text-align: right;\n",
       "    }\n",
       "</style>\n",
       "<table border=\"1\" class=\"dataframe\">\n",
       "  <thead>\n",
       "    <tr style=\"text-align: right;\">\n",
       "      <th></th>\n",
       "      <th>dHTH</th>\n",
       "      <th>dSTS</th>\n",
       "      <th>dCpu</th>\n",
       "      <th>Topt</th>\n",
       "      <th>dCpt</th>\n",
       "    </tr>\n",
       "  </thead>\n",
       "  <tbody>\n",
       "    <tr>\n",
       "      <th>O13525</th>\n",
       "      <td>1.483000e+06</td>\n",
       "      <td>4893.450000</td>\n",
       "      <td>16132.124882</td>\n",
       "      <td>304.383942</td>\n",
       "      <td>-6303.243842</td>\n",
       "    </tr>\n",
       "    <tr>\n",
       "      <th>P00044</th>\n",
       "      <td>1.297372e+06</td>\n",
       "      <td>4263.848039</td>\n",
       "      <td>12354.234601</td>\n",
       "      <td>308.056808</td>\n",
       "      <td>-6780.270704</td>\n",
       "    </tr>\n",
       "    <tr>\n",
       "      <th>P00045</th>\n",
       "      <td>5.950000e+05</td>\n",
       "      <td>1947.510000</td>\n",
       "      <td>6636.120470</td>\n",
       "      <td>311.153254</td>\n",
       "      <td>-6073.135267</td>\n",
       "    </tr>\n",
       "    <tr>\n",
       "      <th>P00127</th>\n",
       "      <td>7.310000e+05</td>\n",
       "      <td>2398.690000</td>\n",
       "      <td>7677.937575</td>\n",
       "      <td>301.887468</td>\n",
       "      <td>-6887.987642</td>\n",
       "    </tr>\n",
       "    <tr>\n",
       "      <th>P00128</th>\n",
       "      <td>6.510000e+05</td>\n",
       "      <td>2133.290000</td>\n",
       "      <td>6579.105203</td>\n",
       "      <td>297.764072</td>\n",
       "      <td>-6560.470954</td>\n",
       "    </tr>\n",
       "  </tbody>\n",
       "</table>\n",
       "</div>"
      ],
      "text/plain": [
       "                dHTH         dSTS          dCpu        Topt         dCpt\n",
       "O13525  1.483000e+06  4893.450000  16132.124882  304.383942 -6303.243842\n",
       "P00044  1.297372e+06  4263.848039  12354.234601  308.056808 -6780.270704\n",
       "P00045  5.950000e+05  1947.510000   6636.120470  311.153254 -6073.135267\n",
       "P00127  7.310000e+05  2398.690000   7677.937575  301.887468 -6887.987642\n",
       "P00128  6.510000e+05  2133.290000   6579.105203  297.764072 -6560.470954"
      ]
     },
     "execution_count": 19,
     "metadata": {},
     "output_type": "execute_result"
    }
   ],
   "source": [
    "dftherm.head()"
   ]
  },
  {
   "cell_type": "code",
   "execution_count": 17,
   "metadata": {},
   "outputs": [
    {
     "data": {
      "text/html": [
       "<div>\n",
       "<style scoped>\n",
       "    .dataframe tbody tr th:only-of-type {\n",
       "        vertical-align: middle;\n",
       "    }\n",
       "\n",
       "    .dataframe tbody tr th {\n",
       "        vertical-align: top;\n",
       "    }\n",
       "\n",
       "    .dataframe thead th {\n",
       "        text-align: right;\n",
       "    }\n",
       "</style>\n",
       "<table border=\"1\" class=\"dataframe\">\n",
       "  <thead>\n",
       "    <tr style=\"text-align: right;\">\n",
       "      <th></th>\n",
       "      <th>Topt</th>\n",
       "      <th>Topt_std</th>\n",
       "      <th>Length</th>\n",
       "      <th>Tm</th>\n",
       "      <th>Tm_std</th>\n",
       "      <th>T90</th>\n",
       "      <th>dCpt</th>\n",
       "      <th>dCpt_std</th>\n",
       "    </tr>\n",
       "  </thead>\n",
       "  <tbody>\n",
       "    <tr>\n",
       "      <th>O13525</th>\n",
       "      <td>304.383942</td>\n",
       "      <td>13</td>\n",
       "      <td>335</td>\n",
       "      <td>324.285927</td>\n",
       "      <td>5.91247</td>\n",
       "      <td>NaN</td>\n",
       "      <td>-6303.243842</td>\n",
       "      <td>2000</td>\n",
       "    </tr>\n",
       "    <tr>\n",
       "      <th>P00044</th>\n",
       "      <td>308.056808</td>\n",
       "      <td>13</td>\n",
       "      <td>109</td>\n",
       "      <td>321.519662</td>\n",
       "      <td>3.40000</td>\n",
       "      <td>324.351882</td>\n",
       "      <td>-6780.270704</td>\n",
       "      <td>2000</td>\n",
       "    </tr>\n",
       "    <tr>\n",
       "      <th>P00045</th>\n",
       "      <td>311.153254</td>\n",
       "      <td>13</td>\n",
       "      <td>113</td>\n",
       "      <td>331.309673</td>\n",
       "      <td>5.91247</td>\n",
       "      <td>NaN</td>\n",
       "      <td>-6073.135267</td>\n",
       "      <td>2000</td>\n",
       "    </tr>\n",
       "    <tr>\n",
       "      <th>P00127</th>\n",
       "      <td>301.887468</td>\n",
       "      <td>13</td>\n",
       "      <td>147</td>\n",
       "      <td>326.611520</td>\n",
       "      <td>5.91247</td>\n",
       "      <td>NaN</td>\n",
       "      <td>-6887.987642</td>\n",
       "      <td>2000</td>\n",
       "    </tr>\n",
       "    <tr>\n",
       "      <th>P00128</th>\n",
       "      <td>297.764072</td>\n",
       "      <td>13</td>\n",
       "      <td>127</td>\n",
       "      <td>325.823369</td>\n",
       "      <td>5.91247</td>\n",
       "      <td>NaN</td>\n",
       "      <td>-6560.470954</td>\n",
       "      <td>2000</td>\n",
       "    </tr>\n",
       "  </tbody>\n",
       "</table>\n",
       "</div>"
      ],
      "text/plain": [
       "              Topt  Topt_std  Length          Tm   Tm_std         T90  \\\n",
       "O13525  304.383942        13     335  324.285927  5.91247         NaN   \n",
       "P00044  308.056808        13     109  321.519662  3.40000  324.351882   \n",
       "P00045  311.153254        13     113  331.309673  5.91247         NaN   \n",
       "P00127  301.887468        13     147  326.611520  5.91247         NaN   \n",
       "P00128  297.764072        13     127  325.823369  5.91247         NaN   \n",
       "\n",
       "               dCpt  dCpt_std  \n",
       "O13525 -6303.243842      2000  \n",
       "P00044 -6780.270704      2000  \n",
       "P00045 -6073.135267      2000  \n",
       "P00127 -6887.987642      2000  \n",
       "P00128 -6560.470954      2000  "
      ]
     },
     "execution_count": 17,
     "metadata": {},
     "output_type": "execute_result"
    }
   ],
   "source": [
    "post_params.head()"
   ]
  },
  {
   "cell_type": "code",
   "execution_count": 6,
   "metadata": {},
   "outputs": [],
   "source": [
    "fNTs = dict()\n",
    "kcatTs = dict()"
   ]
  },
  {
   "cell_type": "code",
   "execution_count": 13,
   "metadata": {},
   "outputs": [
    {
     "data": {
      "text/plain": [
       "True"
      ]
     },
     "execution_count": 13,
     "metadata": {},
     "output_type": "execute_result"
    }
   ],
   "source": [
    "np.isnan(GEMS.params.loc['O13525','T90'])"
   ]
  },
  {
   "cell_type": "code",
   "execution_count": 12,
   "metadata": {},
   "outputs": [
    {
     "data": {
      "text/plain": [
       "nan"
      ]
     },
     "execution_count": 12,
     "metadata": {},
     "output_type": "execute_result"
    }
   ],
   "source": [
    "GEMS.params.loc['O13525','T90']"
   ]
  },
  {
   "cell_type": "code",
   "execution_count": 8,
   "metadata": {},
   "outputs": [
    {
     "data": {
      "text/html": [
       "<div>\n",
       "<style scoped>\n",
       "    .dataframe tbody tr th:only-of-type {\n",
       "        vertical-align: middle;\n",
       "    }\n",
       "\n",
       "    .dataframe tbody tr th {\n",
       "        vertical-align: top;\n",
       "    }\n",
       "\n",
       "    .dataframe thead th {\n",
       "        text-align: right;\n",
       "    }\n",
       "</style>\n",
       "<table border=\"1\" class=\"dataframe\">\n",
       "  <thead>\n",
       "    <tr style=\"text-align: right;\">\n",
       "      <th></th>\n",
       "      <th>Topt</th>\n",
       "      <th>Topt_std</th>\n",
       "      <th>Length</th>\n",
       "      <th>Tm</th>\n",
       "      <th>Tm_std</th>\n",
       "      <th>T90</th>\n",
       "      <th>dCpt</th>\n",
       "      <th>dCpt_std</th>\n",
       "    </tr>\n",
       "  </thead>\n",
       "  <tbody>\n",
       "    <tr>\n",
       "      <th>O13525</th>\n",
       "      <td>310.15</td>\n",
       "      <td>13</td>\n",
       "      <td>335</td>\n",
       "      <td>324.625351</td>\n",
       "      <td>5.91247</td>\n",
       "      <td>NaN</td>\n",
       "      <td>-6300</td>\n",
       "      <td>2000</td>\n",
       "    </tr>\n",
       "    <tr>\n",
       "      <th>P00044</th>\n",
       "      <td>314.15</td>\n",
       "      <td>13</td>\n",
       "      <td>109</td>\n",
       "      <td>321.817780</td>\n",
       "      <td>3.40000</td>\n",
       "      <td>324.65</td>\n",
       "      <td>-6300</td>\n",
       "      <td>2000</td>\n",
       "    </tr>\n",
       "    <tr>\n",
       "      <th>P00045</th>\n",
       "      <td>317.15</td>\n",
       "      <td>13</td>\n",
       "      <td>113</td>\n",
       "      <td>324.625351</td>\n",
       "      <td>5.91247</td>\n",
       "      <td>NaN</td>\n",
       "      <td>-6300</td>\n",
       "      <td>2000</td>\n",
       "    </tr>\n",
       "    <tr>\n",
       "      <th>P00127</th>\n",
       "      <td>317.15</td>\n",
       "      <td>13</td>\n",
       "      <td>147</td>\n",
       "      <td>324.625351</td>\n",
       "      <td>5.91247</td>\n",
       "      <td>NaN</td>\n",
       "      <td>-6300</td>\n",
       "      <td>2000</td>\n",
       "    </tr>\n",
       "    <tr>\n",
       "      <th>P00128</th>\n",
       "      <td>309.15</td>\n",
       "      <td>13</td>\n",
       "      <td>127</td>\n",
       "      <td>324.625351</td>\n",
       "      <td>5.91247</td>\n",
       "      <td>NaN</td>\n",
       "      <td>-6300</td>\n",
       "      <td>2000</td>\n",
       "    </tr>\n",
       "  </tbody>\n",
       "</table>\n",
       "</div>"
      ],
      "text/plain": [
       "          Topt  Topt_std  Length          Tm   Tm_std     T90  dCpt  dCpt_std\n",
       "O13525  310.15        13     335  324.625351  5.91247     NaN -6300      2000\n",
       "P00044  314.15        13     109  321.817780  3.40000  324.65 -6300      2000\n",
       "P00045  317.15        13     113  324.625351  5.91247     NaN -6300      2000\n",
       "P00127  317.15        13     147  324.625351  5.91247     NaN -6300      2000\n",
       "P00128  309.15        13     127  324.625351  5.91247     NaN -6300      2000"
      ]
     },
     "execution_count": 8,
     "metadata": {},
     "output_type": "execute_result"
    }
   ],
   "source": [
    "GEMS.params.head()"
   ]
  },
  {
   "cell_type": "code",
   "execution_count": 9,
   "metadata": {},
   "outputs": [
    {
     "data": {
      "text/html": [
       "<div>\n",
       "<style scoped>\n",
       "    .dataframe tbody tr th:only-of-type {\n",
       "        vertical-align: middle;\n",
       "    }\n",
       "\n",
       "    .dataframe tbody tr th {\n",
       "        vertical-align: top;\n",
       "    }\n",
       "\n",
       "    .dataframe thead th {\n",
       "        text-align: right;\n",
       "    }\n",
       "</style>\n",
       "<table border=\"1\" class=\"dataframe\">\n",
       "  <thead>\n",
       "    <tr style=\"text-align: right;\">\n",
       "      <th></th>\n",
       "      <th>Tm_mean</th>\n",
       "      <th>Tm_std</th>\n",
       "      <th>Topt_mean</th>\n",
       "      <th>Topt_std</th>\n",
       "      <th>dCpt_mean</th>\n",
       "      <th>dCpt_std</th>\n",
       "    </tr>\n",
       "  </thead>\n",
       "  <tbody>\n",
       "    <tr>\n",
       "      <th>O13525</th>\n",
       "      <td>51.135927</td>\n",
       "      <td>4.564094</td>\n",
       "      <td>31.233942</td>\n",
       "      <td>3.879392</td>\n",
       "      <td>-6.303244</td>\n",
       "      <td>1.802793</td>\n",
       "    </tr>\n",
       "    <tr>\n",
       "      <th>P00044</th>\n",
       "      <td>48.369662</td>\n",
       "      <td>5.158030</td>\n",
       "      <td>34.906808</td>\n",
       "      <td>3.241330</td>\n",
       "      <td>-6.780271</td>\n",
       "      <td>3.455483</td>\n",
       "    </tr>\n",
       "    <tr>\n",
       "      <th>P00045</th>\n",
       "      <td>58.159673</td>\n",
       "      <td>7.309203</td>\n",
       "      <td>38.003254</td>\n",
       "      <td>4.682154</td>\n",
       "      <td>-6.073135</td>\n",
       "      <td>1.239030</td>\n",
       "    </tr>\n",
       "    <tr>\n",
       "      <th>P00127</th>\n",
       "      <td>53.461520</td>\n",
       "      <td>4.411527</td>\n",
       "      <td>28.737468</td>\n",
       "      <td>7.838538</td>\n",
       "      <td>-6.887988</td>\n",
       "      <td>1.357107</td>\n",
       "    </tr>\n",
       "    <tr>\n",
       "      <th>P00128</th>\n",
       "      <td>52.673369</td>\n",
       "      <td>5.439958</td>\n",
       "      <td>24.614072</td>\n",
       "      <td>6.719203</td>\n",
       "      <td>-6.560471</td>\n",
       "      <td>1.568349</td>\n",
       "    </tr>\n",
       "  </tbody>\n",
       "</table>\n",
       "</div>"
      ],
      "text/plain": [
       "          Tm_mean    Tm_std  Topt_mean  Topt_std  dCpt_mean  dCpt_std\n",
       "O13525  51.135927  4.564094  31.233942  3.879392  -6.303244  1.802793\n",
       "P00044  48.369662  5.158030  34.906808  3.241330  -6.780271  3.455483\n",
       "P00045  58.159673  7.309203  38.003254  4.682154  -6.073135  1.239030\n",
       "P00127  53.461520  4.411527  28.737468  7.838538  -6.887988  1.357107\n",
       "P00128  52.673369  5.439958  24.614072  6.719203  -6.560471  1.568349"
      ]
     },
     "execution_count": 9,
     "metadata": {},
     "output_type": "execute_result"
    }
   ],
   "source": [
    "dfpost.head()"
   ]
  },
  {
   "cell_type": "markdown",
   "metadata": {},
   "source": [
    "#### half kcat T"
   ]
  },
  {
   "cell_type": "code",
   "execution_count": 17,
   "metadata": {},
   "outputs": [],
   "source": [
    "def find_half_kcat_T(kcatT,Ts):\n",
    "    Tkcat = None\n",
    "    for i in range(len(Ts)-1):\n",
    "        i += 1\n",
    "        if kcatT[-i]<0.5 and kcatT[-i-1]>0.5:\n",
    "            Tkcat = 0.5*(Ts[-i]+Ts[-i-1])\n",
    "            break\n",
    "\n",
    "    if Tkcat is not None: return Tkcat"
   ]
  },
  {
   "cell_type": "code",
   "execution_count": 18,
   "metadata": {},
   "outputs": [],
   "source": [
    "def save_half_kcat_T():\n",
    "    outfile = '../results/half_kcat_T_posterior.csv'\n",
    "    \n",
    "    Ts = np.arange(0,100,0.1) \n",
    "    df = pd.DataFrame()\n",
    "    sort_enzymes_on_Tm = dftherm.index[np.argsort(post_params['Tm'].values)]\n",
    "    for enz in sort_enzymes_on_Tm:\n",
    "        cols = ['dHTH', 'dSTS','dCpu','Topt','dCpt']\n",
    "        [dHTH, dSTS,dCpu,Topt,dCpt]=dftherm.loc[enz,cols]\n",
    "        kcatT = etc.calculate_kcatT(Ts+273.15,dHTH,dSTS,dCpu,1,dCpt,Topt)\n",
    "        df.loc[enz,'half_kcat_T'] = find_half_kcat_T(kcatT,Ts)\n",
    "        \n",
    "        fNT = etc.get_fNT(Ts + 273.15,dHTH,dSTS,dCpu)\n",
    "        df.loc[enz,'Tm'] = dfpost.loc[enz,'Tm_mean']\n",
    "        \n",
    "        SAs = np.array(fNT)*np.array(kcatT)\n",
    "        \n",
    "        df.loc[enz,'half_SA_T'] = find_half_kcat_T(SAs,Ts)\n",
    "    \n",
    "    df.to_csv(outfile)\n",
    "    print(df.head())"
   ]
  },
  {
   "cell_type": "code",
   "execution_count": 38,
   "metadata": {},
   "outputs": [
    {
     "name": "stderr",
     "output_type": "stream",
     "text": [
      "/cephyr/NOBACKUP/groups/snic2020-8-46/GitHub/BayesianGEM/code/etcpy/etc.py:95: RuntimeWarning: overflow encountered in exp\n",
      "  f = 1/(1+np.exp(-dGu/R/T));\n"
     ]
    },
    {
     "name": "stdout",
     "output_type": "stream",
     "text": [
      "        half_kcat_T         Tm  half_SA_T\n",
      "P32476        36.95  36.794409      35.35\n",
      "P07251        34.25  37.493722      34.15\n",
      "P40825        36.55  40.631868      36.55\n",
      "P15180        35.75  40.871440      35.65\n",
      "P33330        39.25  41.125420      38.45\n"
     ]
    }
   ],
   "source": [
    "save_half_kcat_T()"
   ]
  },
  {
   "cell_type": "code",
   "execution_count": 19,
   "metadata": {},
   "outputs": [],
   "source": [
    "df50 = pd.read_csv('../results/half_kcat_T_posterior.csv',index_col=0)"
   ]
  },
  {
   "cell_type": "code",
   "execution_count": 20,
   "metadata": {},
   "outputs": [
    {
     "data": {
      "image/png": "[encoded data removed]",
      "text/plain": [
       "<Figure size 216x180 with 1 Axes>"
      ]
     },
     "metadata": {
      "needs_background": "light"
     },
     "output_type": "display_data"
    }
   ],
   "source": [
    "plt.figure(figsize=(3,2.5))\n",
    "plt.scatter(df50['half_SA_T'],df50['half_kcat_T'],label='$T_{1/2 k_{cat}}$',\n",
    "            edgecolor='#d8b365',\n",
    "            facecolor='none',\n",
    "            s=20,\n",
    "            alpha=0.8,\n",
    "            zorder=1\n",
    "           )\n",
    "plt.scatter(df50['half_SA_T'],df50['Tm'],label='$T_m$',\n",
    "            edgecolor='#5ab4ac',\n",
    "            facecolor='none',\n",
    "            s=20,\n",
    "            alpha=0.8,\n",
    "            zorder=0)\n",
    "\n",
    "lim = [20,80]\n",
    "plt.plot(lim,lim,zorder=2)\n",
    "plt.xlim(lim)\n",
    "plt.ylim(lim)\n",
    "plt.xticks(np.arange(20,90,10))\n",
    "plt.yticks(np.arange(20,90,10))\n",
    "plt.legend()\n",
    "plt.xlabel('$T_{1/2 SA}$ ($^\\circ$C)')\n",
    "plt.ylabel('$T_m$ or $T_{1/2 k_{cat}}$ ($^\\circ$C)')\n",
    "plt.tight_layout()\n",
    "plt.savefig('../figures/T_50SA_vs_Tm_vs_T50kcat.pdf')\n",
    "plt.show()\n"
   ]
  },
  {
   "cell_type": "code",
   "execution_count": 22,
   "metadata": {},
   "outputs": [],
   "source": [
    "df50.to_csv('../SourceData/fig_3c.csv',float_format='%.2f')"
   ]
  },
  {
   "cell_type": "code",
   "execution_count": null,
   "metadata": {},
   "outputs": [],
   "source": []
  }
 ],
 "metadata": {
  "kernelspec": {
   "display_name": "Python 3",
   "language": "python",
   "name": "python3"
  },
  "language_info": {
   "codemirror_mode": {
    "name": "ipython",
    "version": 3
   },
   "file_extension": ".py",
   "mimetype": "text/x-python",
   "name": "python",
   "nbconvert_exporter": "python",
   "pygments_lexer": "ipython3",
   "version": "3.6.7"
  }
 },
 "nbformat": 4,
 "nbformat_minor": 2
}
