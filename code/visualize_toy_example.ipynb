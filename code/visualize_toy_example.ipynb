{
 "cells": [
  {
   "cell_type": "code",
   "execution_count": 95,
   "metadata": {},
   "outputs": [],
   "source": [
    "import random_sampler\n",
    "import numpy as np\n",
    "import abc_etc as abc\n",
    "import evo_etc as evo\n",
    "import os\n",
    "import pickle\n",
    "import logging\n",
    "import copy\n",
    "import dill\n",
    "import matplotlib.pyplot as plt"
   ]
  },
  {
   "cell_type": "code",
   "execution_count": 96,
   "metadata": {},
   "outputs": [],
   "source": [
    "# Convenient pickle wrappers\n",
    "def load_pickle(filename):\n",
    "    return pickle.load(open(file=filename,mode='rb'))\n",
    "        \n",
    "def dump_pickle(obj,filename):\n",
    "    return pickle.dump(obj=obj,file=open(file=filename, mode='wb'))"
   ]
  },
  {
   "cell_type": "code",
   "execution_count": 97,
   "metadata": {},
   "outputs": [],
   "source": [
    "resultdir = \"../results/toy_example\""
   ]
  },
  {
   "cell_type": "code",
   "execution_count": 99,
   "metadata": {},
   "outputs": [],
   "source": [
    "resultfile = f\"{resultdir}/crowdingDE_shifted_toy_example.pkl\"\n",
    "results = dill.load(open(resultfile,\"rb\"))"
   ]
  },
  {
   "cell_type": "code",
   "execution_count": 100,
   "metadata": {},
   "outputs": [],
   "source": [
    "def generation_coordinates(generation):\n",
    "    particles_in_generation = [results.all_particles[i] for i in results.population[generation]]\n",
    "    x,y = zip(*[(particle[\"x\"],particle[\"y\"]) for particle in particles_in_generation])\n",
    "    return np.array(x),np.array(y)\n"
   ]
  },
  {
   "cell_type": "code",
   "execution_count": 101,
   "metadata": {},
   "outputs": [],
   "source": [
    "def plot_population(generation):\n",
    "    x,y = generation_coordinates(generation=generation)\n",
    "    plt.scatter(x,y)\n",
    "    plt.xlim((-4,4))\n",
    "    plt.ylim((-4,4))"
   ]
  },
  {
   "cell_type": "code",
   "execution_count": 102,
   "metadata": {},
   "outputs": [
    {
     "data": {
      "text/plain": [
       "4.643981340241928"
      ]
     },
     "execution_count": 102,
     "metadata": {},
     "output_type": "execute_result"
    }
   ],
   "source": [
    "results.priors[\"x\"].rvfv()"
   ]
  },
  {
   "cell_type": "code",
   "execution_count": 107,
   "metadata": {},
   "outputs": [
    {
     "data": {
      "image/png": "[encoded data removed]",
      "text/plain": [
       "<Figure size 432x288 with 1 Axes>"
      ]
     },
     "metadata": {
      "needs_background": "light"
     },
     "output_type": "display_data"
    }
   ],
   "source": [
    "plot_population(500)"
   ]
  },
  {
   "cell_type": "code",
   "execution_count": 72,
   "metadata": {},
   "outputs": [
    {
     "name": "stdout",
     "output_type": "stream",
     "text": [
      "77\n",
      "48\n"
     ]
    }
   ],
   "source": [
    "final_coordinates =  generation_coordinates(500)\n",
    "x,y = final_coordinates\n",
    "tol = 0.5\n",
    "print(np.count_nonzero(np.sqrt((x-1)**2+(y-1)**2) < tol))\n",
    "print(np.count_nonzero(np.sqrt((x+1)**2+(y+1)**2) < tol))"
   ]
  },
  {
   "cell_type": "code",
   "execution_count": null,
   "metadata": {},
   "outputs": [],
   "source": []
  }
 ],
 "metadata": {
  "kernelspec": {
   "display_name": "etcFBA",
   "language": "python",
   "name": "python3"
  },
  "language_info": {
   "codemirror_mode": {
    "name": "ipython",
    "version": 3
   },
   "file_extension": ".py",
   "mimetype": "text/x-python",
   "name": "python",
   "nbconvert_exporter": "python",
   "pygments_lexer": "ipython3",
   "version": "3.8.12"
  },
  "orig_nbformat": 4,
  "vscode": {
   "interpreter": {
    "hash": "e9819e7ee1a1a61b455eaae14950dec9cb4c9242e726e37784600f07b10d695c"
   }
  }
 },
 "nbformat": 4,
 "nbformat_minor": 2
}
