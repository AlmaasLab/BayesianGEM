{
 "cells": [
  {
   "cell_type": "code",
   "execution_count": 1,
   "metadata": {},
   "outputs": [],
   "source": [
    "import GA\n",
    "import smc_abc\n",
    "import smc_abc_ours\n",
    "from sklearn.metrics import mean_squared_error as MSE\n",
    "import numpy as np\n",
    "import pyabc\n",
    "import time\n",
    "import matplotlib.pyplot as plt\n",
    "from scipy import optimize\n",
    "import pickle"
   ]
  },
  {
   "cell_type": "code",
   "execution_count": 2,
   "metadata": {},
   "outputs": [],
   "source": [
    "def compare_params_bar(true_params,popt, ga, smcabc_lit,smcabc_ours):\n",
    "    cols = list(true_params.keys())\n",
    "    cols.sort()\n",
    "    pos = np.arange(len(true_params))*6\n",
    "    \n",
    "    \n",
    "    plt.figure(figsize=(6,3))\n",
    "    plt.bar(pos,[true_params[col] for col in cols],label='True',zorder=1)\n",
    "    plt.bar(pos+1,popt,label='LSQ',zorder=1)\n",
    "    \n",
    "    ## GA\n",
    "    plt.bar(pos+2,\n",
    "            [np.median([item.genes[col] for item in ga.population]) for col in cols],\n",
    "            label='GA',zorder=1)\n",
    "    s = len(ga.population)\n",
    "    for i,col in enumerate(cols):\n",
    "        plt.scatter([pos[i]]*s+np.random.normal(2,0.05,size=s),\n",
    "                    [item.genes[col] for item in ga.population],\n",
    "                    color='gray',alpha=0.5,s=5,zorder=2)\n",
    "        \n",
    "        \n",
    "    ## SMC-ABC classic\n",
    "    df,w = smcabc_lit.history.get_distribution()\n",
    "    df = df.loc[:,cols]\n",
    "    plt.bar(pos+3,[np.median(df[col]) for col in cols],label='Classic SMC-ABC',zorder=1)\n",
    "    \n",
    "    for i,col in enumerate(cols):\n",
    "        plt.scatter([pos[i]]*df.shape[0]+np.random.normal(3,0.05,size=df.shape[0]),\n",
    "                    df[col],color='gray',alpha=0.5,s=5,zorder=2)\n",
    "        \n",
    "    ## This work\n",
    "    \n",
    "    plt.bar(pos+4,[np.median([item[col] for item in smcabc_ours.population]) for col in cols],label='This work',zorder=1)\n",
    "    \n",
    "    s = len(smcabc_ours.population)\n",
    "    for i,col in enumerate(cols):\n",
    "        plt.scatter([pos[i]]*s+np.random.normal(4,0.05,size=s),\n",
    "                    [item[col] for item in smcabc_ours.population],\n",
    "                    color='gray',alpha=0.5,s=5,zorder=2)\n",
    "    \n",
    "    \n",
    "    plt.legend(bbox_to_anchor=(1.01,1))\n",
    "    plt.xlabel('Parameters')\n",
    "    plt.ylabel('Values')\n",
    "    plt.xticks([2,8],[r'$\\beta$$_{1}$',r'$\\beta$$_{2}$'])\n",
    "    plt.show()"
   ]
  },
  {
   "cell_type": "code",
   "execution_count": 3,
   "metadata": {},
   "outputs": [],
   "source": [
    "def compare_params_hist(true_params,popt, ga, smcabc_lit,smcabc_ours,outname=None):\n",
    "    cols = list(true_params.keys())\n",
    "    cols.sort()\n",
    "    pos = np.arange(len(true_params))*6\n",
    "    df,w = smcabc_lit.history.get_distribution()\n",
    "    \n",
    "    plt.figure(figsize=(8,3))\n",
    "    for i,col in enumerate(cols):\n",
    "        plt.subplot(1,len(true_params),i+1)\n",
    "        plt.plot([true_params[col]]*2,[0,25],label='True',color='k')\n",
    "        #plt.hist(true_params[col],label='True',color='k')\n",
    "        plt.plot([popt[i]]*2,[0,25],label='LSQ',color='r')\n",
    "        \n",
    "        #plt.hist(popt[i],label='LSQ',alpha=0.5)\n",
    "        plt.hist([item.genes[col] for item in ga.population],label='GA',alpha=0.5)\n",
    "        plt.hist(df[col],label='Classic SMC-ABC',alpha=0.5)\n",
    "        plt.hist([item[col] for item in smcabc_ours.population],label='This work',alpha=0.5)\n",
    "    \n",
    "    labels = [r'$\\beta$$_{1}$',r'$\\beta$$_{2}$']\n",
    "    for i in range(len(cols)):\n",
    "        plt.subplot(1,len(true_params),i+1)\n",
    "        if i==1: plt.legend(bbox_to_anchor=(1.01,1))\n",
    "        plt.xlabel(labels[i])\n",
    "        plt.ylabel('Counts')\n",
    "    plt.tight_layout()\n",
    "    if outname is not None: plt.savefig(outname)\n",
    "    plt.show()"
   ]
  },
  {
   "cell_type": "markdown",
   "metadata": {},
   "source": [
    "### Case 1: y=2x1+3x2"
   ]
  },
  {
   "cell_type": "code",
   "execution_count": 4,
   "metadata": {},
   "outputs": [],
   "source": [
    "def case1():\n",
    "    def linear_model(param):\n",
    "     # {'p0':,'p1':,...}\n",
    "        p = np.array([param['p{0}'.format(i)] for i in range(len(param))])\n",
    "\n",
    "        res = np.dot(x_exp,np.transpose(p))\n",
    "\n",
    "        return {'data': res}\n",
    "    \n",
    "    def distance(x,y):\n",
    "        return MSE(x['data'],y['data'])\n",
    "    \n",
    "    def residual_linear_model(p):\n",
    "        return y_exp['data']-linear_model({'p{0}'.format(i):p[i] for i in range(len(p))})['data']\n",
    "\n",
    "    param_num = 2\n",
    "    population_size = 100\n",
    "    training_samples =  100\n",
    "    max_ite = 1000\n",
    "    \n",
    "    priors1 = pyabc.Distribution(**{'p{0}'.format(i):pyabc.RV('norm',5,3) for i in range(param_num)})\n",
    "    priors2 = {'p{0}'.format(i):smc_abc_ours.RV('normal',5,3) for i in range(param_num)}\n",
    "    \n",
    "    np.random.seed(2)\n",
    "    x_exp       = np.random.normal(size=(training_samples,param_num))\n",
    "    true_params = {'p0':2,'p1':3}\n",
    "    y_true       = linear_model(true_params)\n",
    "    y_exp = dict()\n",
    "    y_exp['data']= y_true['data'] + np.random.normal(scale=2,size=training_samples)\n",
    "    print('MSE best:', MSE(y_exp['data'],y_true['data']))\n",
    "    min_dist = MSE(y_exp['data'],y_true['data'])\n",
    "    \n",
    "    np.random.seed()\n",
    "    plt.scatter(y_true['data'],y_exp['data'])\n",
    "    plt.xlabel('True')\n",
    "    plt.ylabel('True+Noise')\n",
    "    plt.show()\n",
    "    \n",
    "    popt, _= optimize.leastsq(residual_linear_model, [5,5])\n",
    "    print('Leastsq:',popt)\n",
    "    print('Leastsq MSE:',distance(y_exp,linear_model({'p{0}'.format(i):popt[i] for i in range(len(popt))})))\n",
    "    \n",
    "    \n",
    "    ga = GA.GA(linear_model,\n",
    "         distance,\n",
    "         y_exp,\n",
    "         priors2,\n",
    "         population_size=population_size, \n",
    "         mutation_rate=0.1,\n",
    "         mutation_scale=0.1,\n",
    "         max_ite=max_ite,\n",
    "         min_dist=min_dist\n",
    "         )\n",
    "    t0 = time.time()\n",
    "    ga.run()\n",
    "    print('GA time:',time.time()-t0)\n",
    "    \n",
    "    GA.plot_training_curve(ga,'../figures/case1_ga.pdf')\n",
    "    GA.plot_params_bar(true_params,ga)\n",
    "    \n",
    "    \n",
    "    \n",
    "    smcabc_lit = smc_abc.smc_abc(linear_model,\n",
    "               distance,\n",
    "               y_exp,\n",
    "               priors1,\n",
    "               population_size,\n",
    "               min_dist=min_dist,\n",
    "               max_ite=max_ite)\n",
    "    t0 = time.time()\n",
    "    smcabc_lit.run()\n",
    "    print('SMC-ABC classical:',time.time()-t0)\n",
    "    smc_abc.plot_params_bar(smcabc_lit,true_params)\n",
    "    smc_abc.plot_training_curve(smcabc_lit,'../figures/case1_smc_abc_classic.pdf')\n",
    "\n",
    "\n",
    "    smcabc_ours = smc_abc_ours.smc_abc_ours(linear_model,\n",
    "                   priors2,\n",
    "                   min_dist,\n",
    "                   population_size,\n",
    "                   distance_function=distance,\n",
    "                   Yobs=y_exp,\n",
    "                   max_iter=max_ite,\n",
    "                   cores=4,\n",
    "                   generation_size=population_size)\n",
    "    \n",
    "    t0=time.time()\n",
    "    smcabc_ours.run_simulation()\n",
    "    print('SMC-ABC this work:',time.time()-t0)\n",
    "    \n",
    "    smc_abc_ours.plot_params_bar(true_params,smcabc_ours)\n",
    "    smc_abc_ours.plot_training_curve(smcabc_ours,'../figures/case1_smc_abc_this_work.pdf')\n",
    "    \n",
    "    return true_params,popt, ga, smcabc_lit,smcabc_ours"
   ]
  },
  {
   "cell_type": "code",
   "execution_count": 5,
   "metadata": {},
   "outputs": [
    {
     "name": "stdout",
     "output_type": "stream",
     "text": [
      "MSE best: 3.857373658659171\n"
     ]
    },
    {
     "data": {
      "image/png": "[encoded data removed]",
      "text/plain": [
       "<Figure size 432x288 with 1 Axes>"
      ]
     },
     "metadata": {
      "needs_background": "light"
     },
     "output_type": "display_data"
    },
    {
     "name": "stdout",
     "output_type": "stream",
     "text": [
      "Leastsq: [2.11396422 3.04925933]\n",
      "Leastsq MSE: 3.839072467762977\n",
      "t2: 24.112239589605352\n",
      "t3: 20.044480789985762\n",
      "t4: 13.837470144440172\n",
      "t5: 12.344771827371414\n",
      "t6: 12.479858996970716\n",
      "t7: 11.329550938008792\n",
      "t8: 9.909401460744967\n",
      "t9: 8.871109646966044\n",
      "t10: 6.054598852102239\n",
      "t11: 5.481931914888108\n",
      "t12: 5.310367952505294\n",
      "t13: 5.054141066406888\n",
      "t14: 5.0152796497724905\n",
      "t15: 4.6886328482292985\n",
      "t16: 4.498501542418543\n",
      "t17: 4.3984969235037354\n",
      "t18: 4.152194980650029\n",
      "t19: 4.118960626149121\n",
      "t20: 4.038939902414339\n",
      "t21: 4.010871452311975\n",
      "t22: 3.9956813707146557\n",
      "t23: 3.9965630100388374\n",
      "t24: 3.982235518142793\n",
      "t25: 3.972872105642999\n",
      "t26: 3.951868160054803\n",
      "t27: 3.9382832461900583\n",
      "t28: 3.912156949021653\n",
      "t29: 3.8895822435870464\n",
      "t30: 3.8632240362005206\n",
      "t31: 3.850517219515484\n",
      "GA time: 1.8216145038604736\n"
     ]
    },
    {
     "data": {
      "image/png": "[encoded data removed]",
      "text/plain": [
       "<Figure size 216x187.2 with 1 Axes>"
      ]
     },
     "metadata": {
      "needs_background": "light"
     },
     "output_type": "display_data"
    },
    {
     "data": {
      "image/png": "[encoded data removed]",
      "text/plain": [
       "<Figure size 720x216 with 1 Axes>"
      ]
     },
     "metadata": {
      "needs_background": "light"
     },
     "output_type": "display_data"
    },
    {
     "name": "stderr",
     "output_type": "stream",
     "text": [
      "INFO:History:Start <ABCSMC(id=28, start_time=2020-09-30 10:03:27.811465, end_time=None)>\n",
      "INFO:ABC:Calibration sample before t=0.\n",
      "INFO:Epsilon:initial epsilon is 32.64678956680234\n",
      "INFO:ABC:t: 0, eps: 32.64678956680234.\n",
      "INFO:ABC:Acceptance rate: 100 / 186 = 5.3763e-01, ESS=1.0000e+02.\n",
      "INFO:ABC:t: 1, eps: 13.781763340381197.\n",
      "INFO:ABC:Acceptance rate: 100 / 230 = 4.3478e-01, ESS=9.8212e+01.\n",
      "INFO:ABC:t: 2, eps: 9.352597995090889.\n",
      "INFO:ABC:Acceptance rate: 100 / 211 = 4.7393e-01, ESS=9.6381e+01.\n",
      "INFO:ABC:t: 3, eps: 6.007347643069979.\n",
      "INFO:ABC:Acceptance rate: 100 / 241 = 4.1494e-01, ESS=9.6176e+01.\n",
      "INFO:ABC:t: 4, eps: 4.914130343609749.\n",
      "INFO:ABC:Acceptance rate: 100 / 185 = 5.4054e-01, ESS=9.7417e+01.\n",
      "INFO:ABC:t: 5, eps: 4.415349533341489.\n",
      "INFO:ABC:Acceptance rate: 100 / 181 = 5.5249e-01, ESS=9.5572e+01.\n",
      "INFO:ABC:t: 6, eps: 4.113810088066761.\n",
      "INFO:ABC:Acceptance rate: 100 / 254 = 3.9370e-01, ESS=9.4501e+01.\n",
      "INFO:ABC:t: 7, eps: 3.95370814452716.\n",
      "INFO:ABC:Acceptance rate: 100 / 238 = 4.2017e-01, ESS=9.7590e+01.\n",
      "INFO:ABC:t: 8, eps: 3.9005097318195925.\n",
      "INFO:ABC:Acceptance rate: 100 / 224 = 4.4643e-01, ESS=9.8420e+01.\n",
      "INFO:ABC:t: 9, eps: 3.871422916148531.\n",
      "INFO:ABC:Acceptance rate: 100 / 211 = 4.7393e-01, ESS=9.0471e+01.\n",
      "INFO:ABC:t: 10, eps: 3.855965308963336.\n",
      "INFO:ABC:Acceptance rate: 100 / 197 = 5.0761e-01, ESS=9.8770e+01.\n",
      "INFO:ABC:Stopping: minimum epsilon.\n",
      "INFO:History:Done <ABCSMC(id=28, start_time=2020-09-30 10:03:27.811465, end_time=2020-09-30 10:03:38.823662)>\n"
     ]
    },
    {
     "name": "stdout",
     "output_type": "stream",
     "text": [
      "SMC-ABC classical: 11.069047451019287\n"
     ]
    },
    {
     "data": {
      "image/png": "[encoded data removed]",
      "text/plain": [
       "<Figure size 720x216 with 1 Axes>"
      ]
     },
     "metadata": {
      "needs_background": "light"
     },
     "output_type": "display_data"
    },
    {
     "data": {
      "image/png": "[encoded data removed]",
      "text/plain": [
       "<Figure size 216x187.2 with 1 Axes>"
      ]
     },
     "metadata": {
      "needs_background": "light"
     },
     "output_type": "display_data"
    },
    {
     "name": "stdout",
     "output_type": "stream",
     "text": [
      "updating population\n",
      "t1: epsilon= 30.14670808368891\n",
      "Updating prior\n",
      "updating population\n",
      "t2: epsilon= 14.993096615290273\n",
      "Updating prior\n",
      "updating population\n",
      "t3: epsilon= 7.504450567201575\n",
      "Updating prior\n",
      "updating population\n",
      "t4: epsilon= 5.256143343111117\n",
      "Updating prior\n",
      "updating population\n",
      "t5: epsilon= 4.411807898813816\n",
      "Updating prior\n",
      "updating population\n",
      "t6: epsilon= 4.048273702811692\n",
      "Updating prior\n",
      "updating population\n",
      "t7: epsilon= 3.919968102564142\n",
      "Updating prior\n",
      "updating population\n",
      "t8: epsilon= 3.8678195541052984\n",
      "Updating prior\n",
      "updating population\n",
      "t9: epsilon= 3.8531606952825443\n",
      "Updating prior\n",
      "SMC-ABC this work: 12.77736783027649\n"
     ]
    },
    {
     "data": {
      "image/png": "[encoded data removed]",
      "text/plain": [
       "<Figure size 720x216 with 1 Axes>"
      ]
     },
     "metadata": {
      "needs_background": "light"
     },
     "output_type": "display_data"
    },
    {
     "data": {
      "image/png": "[encoded data removed]",
      "text/plain": [
       "<Figure size 216x187.2 with 1 Axes>"
      ]
     },
     "metadata": {
      "needs_background": "light"
     },
     "output_type": "display_data"
    }
   ],
   "source": [
    "true_params1, popt1, ga1, smcabc_lit1,smc_abc_ours1 = case1()"
   ]
  },
  {
   "cell_type": "code",
   "execution_count": 6,
   "metadata": {},
   "outputs": [
    {
     "data": {
      "image/png": "[encoded data removed]",
      "text/plain": [
       "<Figure size 432x216 with 1 Axes>"
      ]
     },
     "metadata": {
      "needs_background": "light"
     },
     "output_type": "display_data"
    }
   ],
   "source": [
    "compare_params_bar(true_params1, popt1, ga1, smcabc_lit1,smc_abc_ours1)"
   ]
  },
  {
   "cell_type": "code",
   "execution_count": 7,
   "metadata": {},
   "outputs": [
    {
     "name": "stderr",
     "output_type": "stream",
     "text": [
      "/cephyr/users/gangl/Vera/Tools/my_python3_vera/lib/python3.6/site-packages/ipykernel_launcher.py:21: MatplotlibDeprecationWarning: Adding an axes using the same arguments as a previous axes currently reuses the earlier instance.  In a future version, a new instance will always be created and returned.  Meanwhile, this warning can be suppressed, and the future behavior ensured, by passing a unique label to each axes instance.\n"
     ]
    },
    {
     "data": {
      "image/png": "[encoded data removed]",
      "text/plain": [
       "<Figure size 576x216 with 2 Axes>"
      ]
     },
     "metadata": {
      "needs_background": "light"
     },
     "output_type": "display_data"
    }
   ],
   "source": [
    "compare_params_hist(true_params1, popt1, ga1, smcabc_lit1,smc_abc_ours1,'../figures/case1_p_dist.pdf')"
   ]
  },
  {
   "cell_type": "code",
   "execution_count": null,
   "metadata": {},
   "outputs": [],
   "source": []
  }
 ],
 "metadata": {
  "kernelspec": {
   "display_name": "Python 3",
   "language": "python",
   "name": "python3"
  },
  "language_info": {
   "codemirror_mode": {
    "name": "ipython",
    "version": 3
   },
   "file_extension": ".py",
   "mimetype": "text/x-python",
   "name": "python",
   "nbconvert_exporter": "python",
   "pygments_lexer": "ipython3",
   "version": "3.6.7"
  }
 },
 "nbformat": 4,
 "nbformat_minor": 2
}
