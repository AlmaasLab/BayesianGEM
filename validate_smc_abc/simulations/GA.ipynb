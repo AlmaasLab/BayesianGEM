{
 "cells": [
  {
   "cell_type": "code",
   "execution_count": 1,
   "metadata": {},
   "outputs": [],
   "source": [
    "import numpy as np\n",
    "from sklearn.metrics import r2_score\n",
    "import matplotlib.pyplot as plt\n",
    "from copy import deepcopy\n",
    "import scipy.stats as ss\n",
    "from sklearn.metrics import mean_squared_error as MSE\n",
    "import os"
   ]
  },
  {
   "cell_type": "code",
   "execution_count": 2,
   "metadata": {},
   "outputs": [],
   "source": [
    "class Individual:\n",
    "    def __init__(self,genes,mutation_rate,mutation_scale):\n",
    "        # a dict describe a individual, with param name as key, parameter value as value\n",
    "        self.genes   = genes    \n",
    "        \n",
    "        # each gene has a probability of mutation_rate to be mutated. Can be a single value for all gens\n",
    "        # or a dict in which each item for one gene\n",
    "        self.mutation_rate  = mutation_rate\n",
    "        \n",
    "        # The mutation was done by add a random value sampled from N(0,mutation_scale)\n",
    "        self.mutation_scale = mutation_scale \n",
    "    \n",
    "    def mutate(self):\n",
    "        for g_ind, gene in self.genes.items():\n",
    "            p = np.random.uniform()\n",
    "            if type(self.mutation_scale) == dict: scale = self.mutation_scale[g_ind]\n",
    "            else: scale = self.mutation_scale\n",
    "            if p<self.mutation_rate: self.genes[g_ind] = np.random.normal(loc=gene,scale=scale)"
   ]
  },
  {
   "cell_type": "code",
   "execution_count": 3,
   "metadata": {},
   "outputs": [],
   "source": [
    "def CrossOver(Ind1,Ind2):\n",
    "    # Ind1 and Ind2 are two parent Individuals\n",
    "    # CrossOver is done as follows:\n",
    "    #   (1) Initialize a random vector with a length of genes containing only 0 and 1.\n",
    "    #   (2) Use genes from Ind1 for zeros and genes from Ind2 for ones\n",
    "    \n",
    "    child_genes = dict()\n",
    "    \n",
    "    for g_ind in Ind1.genes.keys():\n",
    "        if np.random.randint(low=0,high=2) == 0: child_genes[g_ind] = Ind1.genes[g_ind] \n",
    "        else: child_genes[g_ind] = Ind2.genes[g_ind] \n",
    "    \n",
    "    child_Ind = deepcopy(Ind1)\n",
    "    child_Ind.genes = child_genes\n",
    "    \n",
    "    return child_Ind"
   ]
  },
  {
   "cell_type": "code",
   "execution_count": 4,
   "metadata": {},
   "outputs": [],
   "source": [
    "def ChooseParents(Individuals,distances):\n",
    "    # assign weights according to distances, do weighted sampling. The smaller distances, the higher fitness\n",
    "    # Sample a list of pairs\n",
    "    # -MSE in fitness_scores\n",
    "    \n",
    "    fitness_scores = -np.array(distances)\n",
    "    \n",
    "    # normalize fitness scores by substracting the smallest values to make sure all scores are positive\n",
    "    # score/np.sum(score) as weights\n",
    "    \n",
    "    pos_scores = fitness_scores-np.min(fitness_scores)\n",
    "    weights = pos_scores/np.sum(pos_scores)\n",
    "\n",
    "    parents = []\n",
    "    for _ in range(len(Individuals)): \n",
    "        pair = list(np.random.choice(Individuals,replace=False,size=2,p=weights))\n",
    "        parents.append(pair)\n",
    "    \n",
    "    return parents"
   ]
  },
  {
   "cell_type": "code",
   "execution_count": 5,
   "metadata": {},
   "outputs": [],
   "source": [
    "class RV:\n",
    "    def __init__(self, dist_name,loc,scale):\n",
    "        '''\n",
    "        dist_name: 'norm' or 'uniform'\n",
    "        loc, scale: the same as used in scipy.stats\n",
    "        '''\n",
    "        \n",
    "        self.dist_name = dist_name\n",
    "        self.loc = loc\n",
    "        self.scale = scale\n",
    "        \n",
    "        if self.dist_name == 'uniform': \n",
    "            self.rvf = np.random.uniform\n",
    "            self.rvf_scale = self.loc + self.scale\n",
    "            self.pdf = ss.uniform.pdf\n",
    "        \n",
    "            \n",
    "        if self.dist_name == 'normal':\n",
    "            self.rvf = np.random.normal\n",
    "            self.rvf_scale = self.scale\n",
    "            self.pdf = ss.norm.pdf\n",
    "        \n",
    "    def rvfv(self):\n",
    "        '''\n",
    "        Generate a random sample from the given prior distribution\n",
    "        '''\n",
    "        return self.rvf(self.loc,self.rvf_scale)"
   ]
  },
  {
   "cell_type": "code",
   "execution_count": 6,
   "metadata": {},
   "outputs": [],
   "source": [
    "class GA:\n",
    "    def __init__(self, model, dist_func, yobs, priors, \n",
    "                 population_size, \n",
    "                 mutation_rate,\n",
    "                 mutation_scale,\n",
    "                 max_ite,\n",
    "                 min_dist):\n",
    "        self.model     = model\n",
    "        self.priors    = priors     # a dict, with parameter name as key, RV instance as value \n",
    "        self.dist_func = dist_func\n",
    "        self.yobs      = yobs\n",
    "        self.population_size = population_size\n",
    "        self.mutation_rate   = mutation_rate\n",
    "        self.mutation_scale  = mutation_scale\n",
    "        self.max_ite         = max_ite   # maximal iterations \n",
    "        self.min_dist        = min_dist  # minimal distance to stop\n",
    "        self.population      = [None for _ in range(self.population_size)]\n",
    "        self.distances       = [None for _ in range(self.population_size)]\n",
    "        \n",
    "        self.initialize_population()\n",
    "        #self.all_populations = [self.population]\n",
    "        self.all_distances = [self.distances]\n",
    "\n",
    "    def initialize_population(self):\n",
    "        # Initialize population\n",
    "        for i in range(self.population_size):\n",
    "            self.population[i] = Individual(genes= {gid:p.rvfv() for gid,p in self.priors.items()},\n",
    "                                            mutation_rate = self.mutation_rate,\n",
    "                                            mutation_scale = self.mutation_scale)\n",
    "            ypred = self.model(self.population[i].genes)\n",
    "            self.distances[i] = self.dist_func(self.yobs,ypred)\n",
    "\n",
    "    def run(self):\n",
    "        while np.median(self.all_distances[-1])>self.min_dist and len(self.all_distances)<self.max_ite:\n",
    "            current_population = self.population\n",
    "            current_distances  = self.distances\n",
    "\n",
    "            parents = ChooseParents(current_population,current_distances)\n",
    "\n",
    "            next_population = []\n",
    "            next_distances = []\n",
    "            for [dad,mom] in parents:\n",
    "                child = CrossOver(dad,mom)\n",
    "                child.mutate()\n",
    "                next_population.append(child)\n",
    "                \n",
    "                ypred = self.model(child.genes)\n",
    "                \n",
    "                next_distances.append(self.dist_func(self.yobs,ypred))\n",
    "            \n",
    "            \n",
    "            self.population = next_population\n",
    "            self.distances  = next_distances\n",
    "            self.all_distances.append(next_distances)\n",
    "            print('t{0}:'.format(len(self.all_distances)),np.median(next_distances))"
   ]
  },
  {
   "cell_type": "code",
   "execution_count": 7,
   "metadata": {},
   "outputs": [],
   "source": [
    "def plot_training_curve(results,outname=None,logy=False):\n",
    "    its = np.arange(len(results.all_distances))\n",
    "    D = np.array(results.all_distances)\n",
    "    media_dist = np.median(D,axis=1)\n",
    "    \n",
    "    plt.figure(figsize=(3,2.6))\n",
    "    plt.scatter(its,media_dist)\n",
    "    plt.xlabel('Iterations')\n",
    "    plt.ylabel('Median MSE')\n",
    "    if logy: plt.yscale('log')\n",
    "    plt.tight_layout()\n",
    "    if outname is not None: plt.savefig(outname)\n",
    "    plt.show()"
   ]
  },
  {
   "cell_type": "code",
   "execution_count": 8,
   "metadata": {},
   "outputs": [],
   "source": [
    "def plot_params_bar(true_params,results):\n",
    "    \n",
    "    cols = list(true_params.keys())\n",
    "    cols.sort()\n",
    "    pos = np.arange(len(true_params))*3\n",
    "    \n",
    "    plt.figure(figsize=(10,3))\n",
    "    plt.bar(pos,[true_params[col] for col in cols],label='True',zorder=1)\n",
    "    \n",
    "    plt.bar(pos+1,[np.median([item.genes[col] for item in results.population]) for col in cols],label='Post',zorder=1)\n",
    "    \n",
    "    s = len(results.population)\n",
    "    for i,col in enumerate(cols):\n",
    "        plt.scatter([pos[i]]*s+np.random.normal(1,0.01,size=s),\n",
    "                    [item.genes[col] for item in results.population],\n",
    "                    color='gray',alpha=0.5,s=5,zorder=2)\n",
    "    plt.legend()\n",
    "    plt.xlabel('Parameters')\n",
    "    plt.ylabel('Values')\n",
    "    plt.show()"
   ]
  },
  {
   "cell_type": "markdown",
   "metadata": {},
   "source": [
    "### Test "
   ]
  },
  {
   "cell_type": "code",
   "execution_count": 9,
   "metadata": {},
   "outputs": [],
   "source": [
    "def run_test():\n",
    "    def model(param):\n",
    "        # {'p0':,'p1':,...}\n",
    "        p = np.array([param['p{0}'.format(i)] for i in range(len(param))])\n",
    "\n",
    "        res = np.dot(x_exp,np.transpose(p))\n",
    "\n",
    "        return res\n",
    "    \n",
    "    def distance(y_exp,y_pred):\n",
    "   \n",
    "        return MSE(y_exp,y_pred)#-np.sum((np.array(y_exp)-y_pred)**2)\n",
    "\n",
    "    feat_num = 100\n",
    "    training_samples = 10\n",
    "    x_exp       = np.random.normal(size=(training_samples,feat_num))\n",
    "    true_params = {'p{0}'.format(i): np.random.uniform() for i in range(feat_num)}\n",
    "    y_exp       = model(true_params) + np.random.normal(scale=0.1,size=training_samples)\n",
    "    \n",
    "    priors = {'p{0}'.format(i):RV('normal',0,1) for i in range(feat_num)}\n",
    "    \n",
    "    exp = GA(model,\n",
    "         distance,\n",
    "         y_exp,\n",
    "         priors,\n",
    "         population_size=100, \n",
    "         mutation_rate=0.1,\n",
    "         mutation_scale=0.001,\n",
    "         max_ite=50,\n",
    "         min_dist=0\n",
    "         )\n",
    "    \n",
    "    exp.run()\n",
    "    \n",
    "    plot_params_bar(true_params,exp)\n",
    "    plot_training_curve(exp)"
   ]
  },
  {
   "cell_type": "code",
   "execution_count": 10,
   "metadata": {},
   "outputs": [
    {
     "data": {
      "image/png": "[encoded data removed]",
      "text/plain": [
       "<Figure size 720x216 with 1 Axes>"
      ]
     },
     "metadata": {
      "needs_background": "light"
     },
     "output_type": "display_data"
    },
    {
     "data": {
      "image/png": "[encoded data removed]",
      "text/plain": [
       "<Figure size 432x288 with 1 Axes>"
      ]
     },
     "metadata": {
      "needs_background": "light"
     },
     "output_type": "display_data"
    }
   ],
   "source": [
    "if __name__ == '__main__': run_test()"
   ]
  },
  {
   "cell_type": "code",
   "execution_count": null,
   "metadata": {},
   "outputs": [],
   "source": []
  },
  {
   "cell_type": "code",
   "execution_count": null,
   "metadata": {},
   "outputs": [],
   "source": []
  },
  {
   "cell_type": "code",
   "execution_count": null,
   "metadata": {},
   "outputs": [],
   "source": []
  },
  {
   "cell_type": "code",
   "execution_count": null,
   "metadata": {},
   "outputs": [],
   "source": []
  },
  {
   "cell_type": "code",
   "execution_count": null,
   "metadata": {},
   "outputs": [],
   "source": []
  },
  {
   "cell_type": "code",
   "execution_count": null,
   "metadata": {},
   "outputs": [],
   "source": []
  },
  {
   "cell_type": "code",
   "execution_count": null,
   "metadata": {},
   "outputs": [],
   "source": []
  },
  {
   "cell_type": "code",
   "execution_count": null,
   "metadata": {},
   "outputs": [],
   "source": []
  },
  {
   "cell_type": "code",
   "execution_count": null,
   "metadata": {},
   "outputs": [],
   "source": []
  },
  {
   "cell_type": "code",
   "execution_count": null,
   "metadata": {},
   "outputs": [],
   "source": []
  }
 ],
 "metadata": {
  "kernelspec": {
   "display_name": "Python 3",
   "language": "python",
   "name": "python3"
  },
  "language_info": {
   "codemirror_mode": {
    "name": "ipython",
    "version": 3
   },
   "file_extension": ".py",
   "mimetype": "text/x-python",
   "name": "python",
   "nbconvert_exporter": "python",
   "pygments_lexer": "ipython3",
   "version": "3.6.7"
  }
 },
 "nbformat": 4,
 "nbformat_minor": 2
}
