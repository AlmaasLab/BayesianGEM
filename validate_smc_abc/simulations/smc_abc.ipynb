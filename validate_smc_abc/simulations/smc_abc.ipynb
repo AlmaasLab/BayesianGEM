{
 "cells": [
  {
   "cell_type": "raw",
   "metadata": {},
   "source": [
    "  #507  conda create --name forPyabc\n",
    "  #508  python -m ipykernel install --user --name=forPyabc\n",
    "  #509  conda activate forPyabc\n",
    "  #515  conda install pip\n",
    "  #517  /Users/gangl/anaconda3/envs/forPyabc/bin/pip3 install pyabc"
   ]
  },
  {
   "cell_type": "code",
   "execution_count": 1,
   "metadata": {},
   "outputs": [],
   "source": [
    "import pyabc\n",
    "import matplotlib.pyplot as plt\n",
    "import os\n",
    "import tempfile\n",
    "import pandas as pd\n",
    "import numpy as np\n",
    "from sklearn.metrics import mean_squared_error as MSE"
   ]
  },
  {
   "cell_type": "code",
   "execution_count": 2,
   "metadata": {},
   "outputs": [],
   "source": [
    "class smc_abc:\n",
    "    def __init__(self,model,dist_func, yobs, priors,population_size,min_dist,max_ite):\n",
    "        self.model           = model\n",
    "        self.dist_func       = dist_func\n",
    "        self.priors          = priors\n",
    "        self.population_size = population_size\n",
    "        self.yobs            = yobs\n",
    "        self.min_dist = min_dist\n",
    "        self.max_ite  = max_ite\n",
    "\n",
    "    def run(self):\n",
    "        abc = pyabc.ABCSMC(models=self.model,\n",
    "                     parameter_priors=self.priors,\n",
    "                     distance_function=self.dist_func,\n",
    "                     sampler=pyabc.SingleCoreSampler(),\n",
    "                     population_size=self.population_size)\n",
    "        db_path = (\"sqlite:///\" +\n",
    "           os.path.join(tempfile.gettempdir(), \"test1.db\"))\n",
    "        os.system('rm '+db_path)\n",
    "        abc.new(db_path, self.yobs)\n",
    "        self.history = abc.run(minimum_epsilon=self.min_dist, max_nr_populations=self.max_ite)"
   ]
  },
  {
   "cell_type": "code",
   "execution_count": 11,
   "metadata": {},
   "outputs": [],
   "source": [
    "def plot_params_bar(results,true_params):\n",
    "    df,w = results.history.get_distribution()\n",
    "    cols = list(df.columns)\n",
    "    cols.sort()\n",
    "    df = df.loc[:,cols]\n",
    "    \n",
    "    pos = np.arange(len(cols))*3\n",
    "    \n",
    "    plt.figure(figsize=(10,3))\n",
    "    plt.bar(pos,[true_params[col] for col in cols],label='True',zorder=1)\n",
    "    plt.bar(pos+1,[np.median(df[col]) for col in cols],label='Post',zorder=1)\n",
    "    \n",
    "    \n",
    "    for i,col in enumerate(cols):\n",
    "        plt.scatter([pos[i]]*df.shape[0]+np.random.normal(1,0.01,size=df.shape[0]),\n",
    "                    df[col],color='gray',alpha=0.5,s=5,zorder=2)\n",
    "    plt.legend()\n",
    "    plt.xlabel('Parameters')\n",
    "    plt.ylabel('Values')\n",
    "    plt.show()\n",
    "        "
   ]
  },
  {
   "cell_type": "code",
   "execution_count": 8,
   "metadata": {},
   "outputs": [],
   "source": [
    "def plot_training_curve(results,outname=None,logy=False):\n",
    "    eps = []\n",
    "    for i in range(results.history.max_t+1):\n",
    "        df,w = results.history.get_distribution(t=i)\n",
    "        dists = []\n",
    "        for ind in df.index:\n",
    "            param = {col:df.loc[ind,col] for col in df.columns}\n",
    "            dist  = results.dist_func(results.model(param), results.yobs)\n",
    "            dists.append(dist)\n",
    "        eps.append(np.median(dists))\n",
    "    \n",
    "    plt.figure(figsize=(3,2.6))\n",
    "    plt.scatter(np.arange(len(eps)),eps) \n",
    "    if logy: plt.yscale('log')\n",
    "    plt.xlabel('Iterations')\n",
    "    plt.ylabel('Median MSE')\n",
    "    plt.tight_layout()\n",
    "    if outname is not None: plt.savefig(outname)\n",
    "    plt.show()"
   ]
  },
  {
   "cell_type": "markdown",
   "metadata": {},
   "source": [
    "### Test"
   ]
  },
  {
   "cell_type": "code",
   "execution_count": 12,
   "metadata": {},
   "outputs": [],
   "source": [
    "def run_test():\n",
    "    def model(param):\n",
    "     # {'p0':,'p1':,...}\n",
    "        p = np.array([param['p{0}'.format(i)] for i in range(len(param))])\n",
    "\n",
    "        res = np.dot(x_exp,np.transpose(p))\n",
    "\n",
    "        return {'data': res}\n",
    "    \n",
    "    def distance(x,y):\n",
    "        return MSE(x['data'],y['data'])\n",
    "    \n",
    "    param_num = 10\n",
    "    population_size = 100\n",
    "    training_samples =  100\n",
    "    priors = pyabc.Distribution(**{'p{0}'.format(i):pyabc.RV('norm',0,1) for i in range(param_num)})\n",
    "    \n",
    "    training_samples = 10\n",
    "    x_exp       = np.random.normal(size=(training_samples,param_num))\n",
    "    true_params = {'p{0}'.format(i): np.random.uniform() for i in range(param_num)}\n",
    "    y_exp       = model(true_params)\n",
    "    y_exp['data'] +=  np.random.normal(scale=0.1,size=training_samples)\n",
    "    \n",
    "    test = smc_abc(model,\n",
    "               distance,\n",
    "               y_exp,\n",
    "               priors,\n",
    "               population_size,\n",
    "               min_dist=0,\n",
    "               max_ite=50) \n",
    "    test.run()\n",
    "    plot_training_curve(test)\n",
    "    plot_params_bar(test,true_params)"
   ]
  },
  {
   "cell_type": "code",
   "execution_count": 13,
   "metadata": {},
   "outputs": [
    {
     "name": "stderr",
     "output_type": "stream",
     "text": [
      "INFO:History:Start <ABCSMC(id=15, start_time=2020-09-21 13:57:46.126835, end_time=None)>\n",
      "INFO:ABC:Calibration sample before t=0.\n",
      "INFO:Epsilon:initial epsilon is 9.276102303828965\n",
      "INFO:ABC:t: 0, eps: 9.276102303828965.\n",
      "INFO:ABC:Acceptance rate: 100 / 208 = 4.8077e-01, ESS=1.0000e+02.\n",
      "INFO:ABC:t: 1, eps: 6.4057950522013325.\n",
      "INFO:ABC:Acceptance rate: 100 / 273 = 3.6630e-01, ESS=1.4159e+01.\n",
      "INFO:ABC:t: 2, eps: 4.7722624770962865.\n",
      "INFO:ABC:Acceptance rate: 100 / 281 = 3.5587e-01, ESS=1.1644e+01.\n",
      "INFO:ABC:t: 3, eps: 3.6057863546892097.\n",
      "INFO:ABC:Acceptance rate: 100 / 297 = 3.3670e-01, ESS=2.5648e+01.\n",
      "INFO:ABC:t: 4, eps: 2.566928937697584.\n",
      "INFO:ABC:Acceptance rate: 100 / 360 = 2.7778e-01, ESS=3.9525e+00.\n",
      "INFO:ABC:t: 5, eps: 2.3184386187284898.\n",
      "INFO:ABC:Acceptance rate: 100 / 247 = 4.0486e-01, ESS=2.6045e+00.\n",
      "INFO:ABC:t: 6, eps: 2.2369881381148815.\n",
      "INFO:ABC:Acceptance rate: 100 / 244 = 4.0984e-01, ESS=1.9220e+00.\n",
      "INFO:ABC:t: 7, eps: 1.495795565873999.\n",
      "INFO:ABC:Acceptance rate: 100 / 307 = 3.2573e-01, ESS=2.9523e+00.\n",
      "INFO:ABC:t: 8, eps: 0.7823424624552752.\n",
      "INFO:ABC:Acceptance rate: 100 / 260 = 3.8462e-01, ESS=4.0164e+00.\n",
      "INFO:ABC:t: 9, eps: 0.6882431614111681.\n",
      "INFO:ABC:Acceptance rate: 100 / 238 = 4.2017e-01, ESS=1.0156e+00.\n",
      "INFO:ABC:t: 10, eps: 0.4099677960582723.\n",
      "INFO:ABC:Acceptance rate: 100 / 307 = 3.2573e-01, ESS=5.3494e+00.\n",
      "INFO:ABC:t: 11, eps: 0.33111303992294283.\n",
      "INFO:ABC:Acceptance rate: 100 / 196 = 5.1020e-01, ESS=3.2692e+00.\n",
      "INFO:ABC:t: 12, eps: 0.2719800628282443.\n",
      "INFO:ABC:Acceptance rate: 100 / 229 = 4.3668e-01, ESS=2.6059e+00.\n",
      "INFO:ABC:t: 13, eps: 0.16218333782279604.\n",
      "INFO:ABC:Acceptance rate: 100 / 685 = 1.4599e-01, ESS=1.7874e+00.\n",
      "INFO:ABC:t: 14, eps: 0.1317396780669533.\n",
      "INFO:ABC:Acceptance rate: 100 / 404 = 2.4752e-01, ESS=6.9372e+00.\n",
      "INFO:ABC:t: 15, eps: 0.11696390159099929.\n",
      "INFO:ABC:Acceptance rate: 100 / 270 = 3.7037e-01, ESS=1.2223e+00.\n",
      "INFO:ABC:t: 16, eps: 0.0961569321321841.\n",
      "INFO:ABC:Acceptance rate: 100 / 275 = 3.6364e-01, ESS=1.0703e+00.\n",
      "INFO:ABC:t: 17, eps: 0.08635288142932326.\n",
      "INFO:ABC:Acceptance rate: 100 / 276 = 3.6232e-01, ESS=2.2927e+00.\n",
      "INFO:ABC:t: 18, eps: 0.08241859857559493.\n",
      "INFO:ABC:Acceptance rate: 100 / 189 = 5.2910e-01, ESS=2.5485e+00.\n",
      "INFO:ABC:t: 19, eps: 0.07818142519756116.\n",
      "INFO:ABC:Acceptance rate: 100 / 359 = 2.7855e-01, ESS=3.4304e+00.\n",
      "INFO:ABC:t: 20, eps: 0.0756356045945847.\n",
      "INFO:ABC:Acceptance rate: 100 / 349 = 2.8653e-01, ESS=1.1755e+00.\n",
      "INFO:ABC:t: 21, eps: 0.07519290092175582.\n",
      "INFO:ABC:Acceptance rate: 100 / 227 = 4.4053e-01, ESS=3.8642e+00.\n",
      "INFO:ABC:t: 22, eps: 0.07333674237634251.\n",
      "INFO:ABC:Acceptance rate: 100 / 185 = 5.4054e-01, ESS=3.8825e+00.\n",
      "INFO:ABC:t: 23, eps: 0.07254808287217816.\n",
      "INFO:ABC:Acceptance rate: 100 / 167 = 5.9880e-01, ESS=5.4610e+00.\n",
      "INFO:ABC:t: 24, eps: 0.07181753706973934.\n",
      "INFO:ABC:Acceptance rate: 100 / 240 = 4.1667e-01, ESS=2.0429e+00.\n",
      "INFO:ABC:t: 25, eps: 0.07143407625067953.\n",
      "INFO:ABC:Acceptance rate: 100 / 190 = 5.2632e-01, ESS=2.1407e+00.\n",
      "INFO:ABC:t: 26, eps: 0.06893705862677889.\n",
      "INFO:ABC:Acceptance rate: 100 / 337 = 2.9674e-01, ESS=6.0101e+00.\n",
      "INFO:ABC:t: 27, eps: 0.06856694677235639.\n",
      "INFO:ABC:Acceptance rate: 100 / 265 = 3.7736e-01, ESS=4.8385e+00.\n",
      "INFO:ABC:t: 28, eps: 0.06787834842781147.\n",
      "INFO:ABC:Acceptance rate: 100 / 222 = 4.5045e-01, ESS=1.9463e+00.\n",
      "INFO:ABC:t: 29, eps: 0.06674528219772435.\n",
      "INFO:ABC:Acceptance rate: 100 / 455 = 2.1978e-01, ESS=1.0001e+00.\n",
      "INFO:ABC:t: 30, eps: 0.06673931447884349.\n",
      "INFO:ABC:Acceptance rate: 100 / 252 = 3.9683e-01, ESS=4.6544e+00.\n",
      "INFO:ABC:t: 31, eps: 0.06626403633283244.\n",
      "INFO:ABC:Acceptance rate: 100 / 241 = 4.1494e-01, ESS=4.6613e+00.\n",
      "INFO:ABC:t: 32, eps: 0.06596538133377203.\n",
      "INFO:ABC:Acceptance rate: 100 / 412 = 2.4272e-01, ESS=1.0927e+00.\n",
      "INFO:ABC:t: 33, eps: 0.0658796702795403.\n",
      "INFO:ABC:Acceptance rate: 100 / 292 = 3.4247e-01, ESS=1.1292e+00.\n",
      "INFO:ABC:t: 34, eps: 0.06571042284402276.\n",
      "INFO:ABC:Acceptance rate: 100 / 323 = 3.0960e-01, ESS=8.7693e+00.\n",
      "INFO:ABC:t: 35, eps: 0.06564649724686106.\n",
      "INFO:ABC:Acceptance rate: 100 / 293 = 3.4130e-01, ESS=3.1269e+00.\n",
      "INFO:ABC:t: 36, eps: 0.06562163871412567.\n",
      "INFO:ABC:Acceptance rate: 100 / 273 = 3.6630e-01, ESS=2.9934e+00.\n",
      "INFO:ABC:t: 37, eps: 0.0655914190448923.\n",
      "INFO:ABC:Acceptance rate: 100 / 282 = 3.5461e-01, ESS=1.2468e+00.\n",
      "INFO:ABC:t: 38, eps: 0.06550187396990462.\n",
      "INFO:ABC:Acceptance rate: 100 / 523 = 1.9120e-01, ESS=3.2748e+00.\n",
      "INFO:ABC:t: 39, eps: 0.06549834333405669.\n",
      "INFO:ABC:Acceptance rate: 100 / 256 = 3.9062e-01, ESS=1.0509e+01.\n",
      "INFO:ABC:t: 40, eps: 0.06549032522063714.\n",
      "INFO:ABC:Acceptance rate: 100 / 229 = 4.3668e-01, ESS=4.4045e+00.\n",
      "INFO:ABC:t: 41, eps: 0.0654790789266432.\n",
      "INFO:ABC:Acceptance rate: 100 / 355 = 2.8169e-01, ESS=1.0254e+01.\n",
      "INFO:ABC:t: 42, eps: 0.06547264891933494.\n",
      "INFO:ABC:Acceptance rate: 100 / 332 = 3.0120e-01, ESS=1.0461e+01.\n",
      "INFO:ABC:t: 43, eps: 0.06546655198870453.\n",
      "INFO:ABC:Acceptance rate: 100 / 389 = 2.5707e-01, ESS=8.5953e+00.\n",
      "INFO:ABC:t: 44, eps: 0.06546382795848078.\n",
      "INFO:ABC:Acceptance rate: 100 / 304 = 3.2895e-01, ESS=1.1163e+01.\n",
      "INFO:ABC:t: 45, eps: 0.06545945332053117.\n",
      "INFO:ABC:Acceptance rate: 100 / 275 = 3.6364e-01, ESS=1.7207e+00.\n",
      "INFO:ABC:t: 46, eps: 0.06545314376699833.\n",
      "INFO:ABC:Acceptance rate: 100 / 349 = 2.8653e-01, ESS=1.9402e+00.\n",
      "INFO:ABC:t: 47, eps: 0.06545200644676287.\n",
      "INFO:ABC:Acceptance rate: 100 / 246 = 4.0650e-01, ESS=3.1669e+00.\n",
      "INFO:ABC:t: 48, eps: 0.06545091686995151.\n",
      "INFO:ABC:Acceptance rate: 100 / 254 = 3.9370e-01, ESS=4.5048e+00.\n",
      "INFO:ABC:t: 49, eps: 0.0654467788405045.\n",
      "INFO:ABC:Acceptance rate: 100 / 532 = 1.8797e-01, ESS=2.5994e+00.\n",
      "INFO:History:Done <ABCSMC(id=15, start_time=2020-09-21 13:57:46.126835, end_time=2020-09-21 13:58:51.960312)>\n"
     ]
    },
    {
     "data": {
      "image/png": "[encoded data removed]",
      "text/plain": [
       "<Figure size 432x288 with 1 Axes>"
      ]
     },
     "metadata": {
      "needs_background": "light"
     },
     "output_type": "display_data"
    },
    {
     "data": {
      "image/png": "[encoded data removed]",
      "text/plain": [
       "<Figure size 720x216 with 1 Axes>"
      ]
     },
     "metadata": {
      "needs_background": "light"
     },
     "output_type": "display_data"
    }
   ],
   "source": [
    "if __name__ == '__main__': run_test()"
   ]
  },
  {
   "cell_type": "code",
   "execution_count": null,
   "metadata": {},
   "outputs": [],
   "source": []
  }
 ],
 "metadata": {
  "kernelspec": {
   "display_name": "forPyabc",
   "language": "python",
   "name": "forpyabc"
  },
  "language_info": {
   "codemirror_mode": {
    "name": "ipython",
    "version": 3
   },
   "file_extension": ".py",
   "mimetype": "text/x-python",
   "name": "python",
   "nbconvert_exporter": "python",
   "pygments_lexer": "ipython3",
   "version": "3.7.2"
  }
 },
 "nbformat": 4,
 "nbformat_minor": 2
}
